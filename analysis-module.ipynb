{
 "cells": [
  {
   "cell_type": "markdown",
   "id": "2299f661",
   "metadata": {
    "id": "2299f661"
   },
   "source": [
    "# Used Cars’ Price Prediction\n",
    "### Omar Hesham | Enas Ahmed\n",
    "### Dr. Ghada Hamed"
   ]
  },
  {
   "cell_type": "markdown",
   "id": "35255fc2",
   "metadata": {
    "id": "35255fc2"
   },
   "source": [
    "# Used Libraries"
   ]
  },
  {
   "cell_type": "code",
   "execution_count": 335,
   "id": "c36c8109",
   "metadata": {
    "id": "c36c8109"
   },
   "outputs": [],
   "source": [
    "import pandas as pd\n",
    "import numpy as np\n",
    "import missingno as msg\n",
    "import plotly.express as px\n",
    "import matplotlib.pyplot as plt\n",
    "%matplotlib inline\n",
    "from sklearn.preprocessing import MinMaxScaler"
   ]
  },
  {
   "cell_type": "markdown",
   "id": "577f35c0",
   "metadata": {
    "id": "577f35c0"
   },
   "source": [
    "# Global Variables"
   ]
  },
  {
   "cell_type": "code",
   "execution_count": 336,
   "id": "6aaae1d1",
   "metadata": {
    "id": "6aaae1d1"
   },
   "outputs": [],
   "source": [
    "DATASET_FILE = './dataset.csv'"
   ]
  },
  {
   "cell_type": "markdown",
   "id": "9d8755de",
   "metadata": {
    "id": "9d8755de"
   },
   "source": [
    "# Dataset\n",
    "________________________________"
   ]
  },
  {
   "cell_type": "markdown",
   "id": "e7c55384",
   "metadata": {
    "id": "e7c55384"
   },
   "source": [
    "## Load Dataset"
   ]
  },
  {
   "cell_type": "code",
   "execution_count": 337,
   "id": "6f9079d3",
   "metadata": {
    "colab": {
     "base_uri": "https://localhost:8080/",
     "height": 337
    },
    "id": "6f9079d3",
    "outputId": "fca552ec-2170-4421-ce94-fba0f7661aba"
   },
   "outputs": [
    {
     "data": {
      "text/html": [
       "<div>\n",
       "<style scoped>\n",
       "    .dataframe tbody tr th:only-of-type {\n",
       "        vertical-align: middle;\n",
       "    }\n",
       "\n",
       "    .dataframe tbody tr th {\n",
       "        vertical-align: top;\n",
       "    }\n",
       "\n",
       "    .dataframe thead th {\n",
       "        text-align: right;\n",
       "    }\n",
       "</style>\n",
       "<table border=\"1\" class=\"dataframe\">\n",
       "  <thead>\n",
       "    <tr style=\"text-align: right;\">\n",
       "      <th></th>\n",
       "      <th>model</th>\n",
       "      <th>year</th>\n",
       "      <th>km_driven</th>\n",
       "      <th>fuel</th>\n",
       "      <th>seller_type</th>\n",
       "      <th>transmission</th>\n",
       "      <th>owner</th>\n",
       "      <th>mileage</th>\n",
       "      <th>engine</th>\n",
       "      <th>max_power</th>\n",
       "      <th>seats</th>\n",
       "      <th>selling_price</th>\n",
       "    </tr>\n",
       "  </thead>\n",
       "  <tbody>\n",
       "    <tr>\n",
       "      <th>0</th>\n",
       "      <td>Maruti Swift Dzire VDI</td>\n",
       "      <td>2014</td>\n",
       "      <td>145500</td>\n",
       "      <td>Diesel</td>\n",
       "      <td>Individual</td>\n",
       "      <td>Manual</td>\n",
       "      <td>First Owner</td>\n",
       "      <td>23.4 kmpl</td>\n",
       "      <td>1248 CC</td>\n",
       "      <td>74 bhp</td>\n",
       "      <td>5.0</td>\n",
       "      <td>450000</td>\n",
       "    </tr>\n",
       "    <tr>\n",
       "      <th>1</th>\n",
       "      <td>Skoda Rapid 1.5 TDI Ambition</td>\n",
       "      <td>2014</td>\n",
       "      <td>120000</td>\n",
       "      <td>Diesel</td>\n",
       "      <td>Individual</td>\n",
       "      <td>Manual</td>\n",
       "      <td>Second Owner</td>\n",
       "      <td>21.14 kmpl</td>\n",
       "      <td>1498 CC</td>\n",
       "      <td>103.52 bhp</td>\n",
       "      <td>5.0</td>\n",
       "      <td>370000</td>\n",
       "    </tr>\n",
       "    <tr>\n",
       "      <th>2</th>\n",
       "      <td>Honda City 2017-2020 EXi</td>\n",
       "      <td>2006</td>\n",
       "      <td>140000</td>\n",
       "      <td>Petrol</td>\n",
       "      <td>Individual</td>\n",
       "      <td>Manual</td>\n",
       "      <td>Third Owner</td>\n",
       "      <td>17.7 kmpl</td>\n",
       "      <td>1497 CC</td>\n",
       "      <td>78 bhp</td>\n",
       "      <td>5.0</td>\n",
       "      <td>158000</td>\n",
       "    </tr>\n",
       "    <tr>\n",
       "      <th>3</th>\n",
       "      <td>Hyundai i20 Sportz Diesel</td>\n",
       "      <td>2010</td>\n",
       "      <td>127000</td>\n",
       "      <td>Diesel</td>\n",
       "      <td>Individual</td>\n",
       "      <td>Manual</td>\n",
       "      <td>First Owner</td>\n",
       "      <td>23.0 kmpl</td>\n",
       "      <td>1396 CC</td>\n",
       "      <td>90 bhp</td>\n",
       "      <td>5.0</td>\n",
       "      <td>225000</td>\n",
       "    </tr>\n",
       "    <tr>\n",
       "      <th>4</th>\n",
       "      <td>Maruti Swift VXI BSIII</td>\n",
       "      <td>2007</td>\n",
       "      <td>120000</td>\n",
       "      <td>Petrol</td>\n",
       "      <td>Individual</td>\n",
       "      <td>Manual</td>\n",
       "      <td>First Owner</td>\n",
       "      <td>16.1 kmpl</td>\n",
       "      <td>1298 CC</td>\n",
       "      <td>88.2 bhp</td>\n",
       "      <td>5.0</td>\n",
       "      <td>130000</td>\n",
       "    </tr>\n",
       "  </tbody>\n",
       "</table>\n",
       "</div>"
      ],
      "text/plain": [
       "                          model  year  km_driven    fuel seller_type  \\\n",
       "0        Maruti Swift Dzire VDI  2014     145500  Diesel  Individual   \n",
       "1  Skoda Rapid 1.5 TDI Ambition  2014     120000  Diesel  Individual   \n",
       "2      Honda City 2017-2020 EXi  2006     140000  Petrol  Individual   \n",
       "3     Hyundai i20 Sportz Diesel  2010     127000  Diesel  Individual   \n",
       "4        Maruti Swift VXI BSIII  2007     120000  Petrol  Individual   \n",
       "\n",
       "  transmission         owner     mileage   engine   max_power  seats  \\\n",
       "0       Manual   First Owner   23.4 kmpl  1248 CC      74 bhp    5.0   \n",
       "1       Manual  Second Owner  21.14 kmpl  1498 CC  103.52 bhp    5.0   \n",
       "2       Manual   Third Owner   17.7 kmpl  1497 CC      78 bhp    5.0   \n",
       "3       Manual   First Owner   23.0 kmpl  1396 CC      90 bhp    5.0   \n",
       "4       Manual   First Owner   16.1 kmpl  1298 CC    88.2 bhp    5.0   \n",
       "\n",
       "   selling_price  \n",
       "0         450000  \n",
       "1         370000  \n",
       "2         158000  \n",
       "3         225000  \n",
       "4         130000  "
      ]
     },
     "execution_count": 337,
     "metadata": {},
     "output_type": "execute_result"
    }
   ],
   "source": [
    "dataset = pd.read_csv(DATASET_FILE)\n",
    "dataset.head()"
   ]
  },
  {
   "cell_type": "code",
   "execution_count": 338,
   "id": "d4a19f25",
   "metadata": {
    "colab": {
     "base_uri": "https://localhost:8080/"
    },
    "id": "d4a19f25",
    "outputId": "b81c159b-2191-4d83-91de-e4d9ede23b23"
   },
   "outputs": [
    {
     "data": {
      "text/plain": [
       "model             object\n",
       "year               int64\n",
       "km_driven          int64\n",
       "fuel              object\n",
       "seller_type       object\n",
       "transmission      object\n",
       "owner             object\n",
       "mileage           object\n",
       "engine            object\n",
       "max_power         object\n",
       "seats            float64\n",
       "selling_price      int64\n",
       "dtype: object"
      ]
     },
     "execution_count": 338,
     "metadata": {},
     "output_type": "execute_result"
    }
   ],
   "source": [
    "dataset.dtypes"
   ]
  },
  {
   "cell_type": "markdown",
   "id": "dad0be66",
   "metadata": {
    "id": "dad0be66"
   },
   "source": [
    "## Car Model"
   ]
  },
  {
   "cell_type": "code",
   "execution_count": 339,
   "id": "39ca2258",
   "metadata": {
    "colab": {
     "base_uri": "https://localhost:8080/"
    },
    "id": "39ca2258",
    "outputId": "dd3874e8-3f53-42d3-9733-de965da96949"
   },
   "outputs": [
    {
     "data": {
      "text/plain": [
       "0             Maruti Swift Dzire VDI\n",
       "1       Skoda Rapid 1.5 TDI Ambition\n",
       "2           Honda City 2017-2020 EXi\n",
       "3          Hyundai i20 Sportz Diesel\n",
       "4             Maruti Swift VXI BSIII\n",
       "                    ...             \n",
       "8123               Hyundai i20 Magna\n",
       "8124           Hyundai Verna CRDi SX\n",
       "8125          Maruti Swift Dzire ZDi\n",
       "8126                 Tata Indigo CR4\n",
       "8127                 Tata Indigo CR4\n",
       "Name: model, Length: 8128, dtype: object"
      ]
     },
     "execution_count": 339,
     "metadata": {},
     "output_type": "execute_result"
    }
   ],
   "source": [
    "dataset.model"
   ]
  },
  {
   "cell_type": "code",
   "execution_count": 340,
   "id": "8f1616d1",
   "metadata": {
    "colab": {
     "base_uri": "https://localhost:8080/"
    },
    "id": "8f1616d1",
    "outputId": "582e08b0-bcbf-401a-a6a7-a31df40e5218"
   },
   "outputs": [
    {
     "name": "stdout",
     "output_type": "stream",
     "text": [
      "Num. of Unique Values: 2058\n",
      "\n",
      "['Maruti Swift Dzire VDI' 'Skoda Rapid 1.5 TDI Ambition'\n",
      " 'Honda City 2017-2020 EXi' ... 'Tata Nexon 1.5 Revotorq XT'\n",
      " 'Ford Freestyle Titanium Plus Diesel BSIV'\n",
      " 'Toyota Innova 2.5 GX (Diesel) 8 Seater BS IV']\n"
     ]
    }
   ],
   "source": [
    "unique_model = dataset.model.unique()\n",
    "print(\"Num. of Unique Values: \" + str(len(unique_model)) + \"\\n\")\n",
    "print(unique_model)"
   ]
  },
  {
   "cell_type": "markdown",
   "id": "712f6e55",
   "metadata": {
    "id": "712f6e55"
   },
   "source": [
    "## Year of Bought"
   ]
  },
  {
   "cell_type": "code",
   "execution_count": 341,
   "id": "69cae056",
   "metadata": {
    "colab": {
     "base_uri": "https://localhost:8080/"
    },
    "id": "69cae056",
    "outputId": "2e4bc45c-121e-40d6-85d4-342e3ff8d4da"
   },
   "outputs": [
    {
     "data": {
      "text/plain": [
       "0       2014\n",
       "1       2014\n",
       "2       2006\n",
       "3       2010\n",
       "4       2007\n",
       "        ... \n",
       "8123    2013\n",
       "8124    2007\n",
       "8125    2009\n",
       "8126    2013\n",
       "8127    2013\n",
       "Name: year, Length: 8128, dtype: int64"
      ]
     },
     "execution_count": 341,
     "metadata": {},
     "output_type": "execute_result"
    }
   ],
   "source": [
    "dataset.year"
   ]
  },
  {
   "cell_type": "code",
   "execution_count": 342,
   "id": "46323223",
   "metadata": {
    "colab": {
     "base_uri": "https://localhost:8080/"
    },
    "id": "46323223",
    "outputId": "b1c81bf8-0a0c-4ea0-ca38-a403214a273d"
   },
   "outputs": [
    {
     "name": "stdout",
     "output_type": "stream",
     "text": [
      "Num. of Unique Values: 29\n",
      "\n",
      "[2014 2006 2010 2007 2017 2001 2011 2013 2005 2009 2016 2012 2002 2015\n",
      " 2018 2003 2019 2008 2020 1999 2000 1983 2004 1996 1994 1995 1998 1997\n",
      " 1991]\n"
     ]
    }
   ],
   "source": [
    "unique_year = dataset.year.unique()\n",
    "print(\"Num. of Unique Values: \" + str(len(unique_year)) + \"\\n\")\n",
    "print(unique_year)"
   ]
  },
  {
   "cell_type": "markdown",
   "id": "16ec0513",
   "metadata": {
    "id": "16ec0513"
   },
   "source": [
    "## Kms Driven"
   ]
  },
  {
   "cell_type": "code",
   "execution_count": 343,
   "id": "49c171a6",
   "metadata": {
    "colab": {
     "base_uri": "https://localhost:8080/"
    },
    "id": "49c171a6",
    "outputId": "b7ddd7a1-04a7-4445-a69f-5689d6c06ba9"
   },
   "outputs": [
    {
     "data": {
      "text/plain": [
       "0       145500\n",
       "1       120000\n",
       "2       140000\n",
       "3       127000\n",
       "4       120000\n",
       "         ...  \n",
       "8123    110000\n",
       "8124    119000\n",
       "8125    120000\n",
       "8126     25000\n",
       "8127     25000\n",
       "Name: km_driven, Length: 8128, dtype: int64"
      ]
     },
     "execution_count": 343,
     "metadata": {},
     "output_type": "execute_result"
    }
   ],
   "source": [
    "dataset.km_driven"
   ]
  },
  {
   "cell_type": "code",
   "execution_count": 344,
   "id": "ff96073c",
   "metadata": {
    "colab": {
     "base_uri": "https://localhost:8080/"
    },
    "id": "ff96073c",
    "outputId": "43702049-e747-4bb6-bb47-4c1fd7ab26e1"
   },
   "outputs": [
    {
     "name": "stdout",
     "output_type": "stream",
     "text": [
      "Num. of Unique Values: 921\n",
      "\n",
      "[ 145500  120000  140000  127000   45000  175000    5000   90000  169000\n",
      "   68000  100000   80000   40000   70000   53000   50000   72000   35000\n",
      "   28000   25000    2388   16200   10000   15000   42000   60000   76000\n",
      "   28900   86300   23300   32600   10300   77000   99000   27800   49800\n",
      "  151000   54700   64000   63000  127700   33900   59000  110000  147000\n",
      "   30000  135000    9850   78000  170000   49000   32000   38000   44000\n",
      "   12000   55500   61500  150000   37800  114000   48000   69000   13000\n",
      "   76139   65000    1303   31800   20000   17000   21000   37000   29500\n",
      "   27000    7500   19000   41000   39000   22000   47000   72200   49900\n",
      "    9000   11000   95000   18000   46100   16000    9654   24300   42163\n",
      "    8000   71000    9500   36600   14000  120600   86000    7800   31377\n",
      "   75000   93000  125000   13500  162500   92500  158000    2000  181000\n",
      "  193000  122358   95200   33033   63063  207890    7976   16500   99361\n",
      "   33000   80100  160000   26000   29000   58000   36000  185000  162000\n",
      "   67000   52000   68089   58343   38817   56494   79328    5621   25538\n",
      "   69779   56290    8500    7032  106000  240000  214000    1000  265000\n",
      "  134000    2136  250000  130000   99500  119000   44665  123000   34000\n",
      "  146000   85000  201850   46000  190000   43000   14200   19100   54000\n",
      "  101500   97500   55735    1500  181491   53319   40906   31711   43755\n",
      "   66693   59549   94385   73730  221889  116104  150546  148120  142000\n",
      "  126000   24000  101000  168000  165000   98500   98000   77800   51492\n",
      "  136000   91000  167000  180000    6000   55113   91500  132478   51000\n",
      "  105000  137500   88000  156060  107000   57000  300000  200000   18945\n",
      "  144000  107825    1620  141000  108000   55000   37944   90400   96000\n",
      "  193623   63186  219000   23000   94000  140500  143000  195000  360003\n",
      "    8079  114368   79990   81632  155201  101504   90165   86017   85036\n",
      "  160254  125531  206000   49700   74000    6550   56000   41779   31000\n",
      "   13534    7000   28156   63309  155000   11500    3000  157000   26300\n",
      "   89100  104000  210000  216000   84000  161000   72113  113000   96443\n",
      "   51500  104500   49102   81000  227000  117000    8576   19723   21446\n",
      "   52289   52236   54470   25471   33928   59736   54290    2118   61379\n",
      "   58544   74381   63982   56429   19500   56832   30528   65285   20102\n",
      "   52380   74250   57247  178000   42323   42462   54723   42545   41232\n",
      "   20375   43978   40200   27233   28832  103000  142500  115000  118000\n",
      "   35500   17500   92000    4500   83000    6750   18500   50478    9200\n",
      "    2300    4295    5229    4701    6757   28182   11533   11688   57728\n",
      "   23712   70670   43381   79011   58500   43500   12700   49455   46815\n",
      "  334000  100875  128000  144030  176000   89000   97000   12800   65100\n",
      "   15200   82000  116500  145000   73000  113226  160500  132000  217000\n",
      "  139000    3500   62000 1500000  120005   16830   93468   16589   53201\n",
      "   25272   53619    6001  202000   71717   84321  177000  205000   41800\n",
      "   88700  188000  225000    5500    4875    2700   58511   26235   26766\n",
      "    1600   24522   13663   58945  375000  156975   27620  143200  137000\n",
      "  138000  189000  156000   10800   67500  255000   71850  112000  159000\n",
      "   76131   51777   64788   46951   74537   23500   68600   13887   66000\n",
      "   24400   27500   67840  149032  380000   84050  112880   28100   61915\n",
      "  184000    6200   16700    7967    9656   68609   33360   14317   87237\n",
      "   62960   26634  163720   67998   20706  100581   67303   79139   84784\n",
      "  130376  148000   33500   22053   78432  270000    7200  117500   78500\n",
      "  115717    4000   26432   46702   46706   53523   56365   49563   56432\n",
      "   52365   53512   53563   46533   59635   58632  123219   65300   39395\n",
      "  230000   32500   64800  248000   66444  218463  153000   87185    3564\n",
      "   48756   80322  173000  275000    6500  220000  108957   22200  260000\n",
      "   42108   79000   17100   43001  100600   92385  116000   72500   82500\n",
      "   50600  121000  101903   85568    3100  186000   59300   89322   48300\n",
      "   23511   22512   62900   52442   34156   34152   62841   38600   27654\n",
      "   48698   32995   90150   85700   25339   68240   92651   88754   23700\n",
      "   53287   69500   28050   22947    7672   36659   44500    9900  124316\n",
      "    6544   49600  198000  103994   35008   31100   42312   54891   18890\n",
      "   75010    4337   14495   83585   48406   56239   33243   15858   87847\n",
      "    9558   87000  112072   52269   15780 2360457  108800   12500  577414\n",
      "   68300  121941  152186   82246   89580    2789   35278    2860   78562\n",
      "   36088  129000  500000  133000   64500   24500   45500   71500   93500\n",
      "   60300   44391   56315   15151  114321   37333  330000  291000   21500\n",
      "  197000   40300   30030   29029   72072   82082   80600   58609   33003\n",
      "  165500   47990    5800   68700  102996   96500   52412   85472   87452\n",
      "   66530   32331  172000   23456  136500  111000   42500   47200  246000\n",
      "    5200   10500   93331  109000    5400  102000   60898   29700    7600\n",
      "   29340   80800   24265   56900   88200   40800    8588  305000  158500\n",
      "  212000  101200  179150   84487  264000   51146  298000  149000  291977\n",
      "   36800   52200  107500  248200    7720   57882  242000   55380   18816\n",
      "   33019   47747   45900   68697  147279   24700   43526   55885   16034\n",
      "  156040   93415  122000   68519   22966    2350   59872   91182   59500\n",
      "   75500  152500   69123   77524   40523   23600  218000  290000   24177\n",
      "  121779   15381   74800  109322  475000   61000   80500   65755    2600\n",
      "   15500   50700  440000  152000  200400    7300    9750  157138  285000\n",
      "  127991   13120   87500   62200   87540  231438  239451  154000  426000\n",
      "  182000  215000   77300   61260   17601    4773   57900    8600   78010\n",
      "   83844   23999   91400  178500   66953  166000  131000  100750   48676\n",
      "   79500  200185   49025   76460   47370   45217  163000  222300   44600\n",
      "   28080   28800   21900    7673   96272   22500    7400  370000  150360\n",
      "   42130  147500   56194   54188   54043   66657   35582   54327    7949\n",
      "   59734   49185   56389   58245   36422   42535   40736   56246   55403\n",
      "  105358   49200   81500    3177   39414   30078   44588   49907   67082\n",
      "  112879   10200    1300  175802  192000   73840  320000   24857   26442\n",
      "   50800   40142    9400   12584    4300   14548   44772   48500   28782\n",
      "   28451   36500   44885  131111   58400   23400  158107    3010   77088\n",
      "  136511   36710   28180   44077   55768  123278   26500   18484    2560\n",
      "  103655   56975   74770  187000   73257   26320   38426  116700  176062\n",
      "   77500   39500   55896   30400  164000  271000   75262   91863   47552\n",
      "   14700   19700  145241   95500   53473   75958   31596   85710  129627\n",
      "   55130   22522   51856   29434   34500    6825  112011   53534  248119\n",
      "   24019   19600  376412  183000  108916   89500   59865   68140   53190\n",
      "   70100   47725   70195   77395   74321   80235   77150   61100   82300\n",
      "   82050   74500   29899   59235  201000   77215   48228   58559   72179\n",
      "   50856   18300   59292   21147   61173   77321   91567   33400   92686\n",
      "   67600   49500  112048   30646   14681   43011  104300   73500  280000\n",
      "   35700   22700   21871   55425   37659   37500   19800   45629   68850\n",
      "   45775   68203   97343   82507   59400  125876   56800   65204    2286\n",
      "   15732   49523   36521   64481   49060   37161   60175   49957   43235\n",
      "   50699       1   50074   30154   26263   84925   46357   46737  110048\n",
      "  186388   20171   37151   58161   50171   55161    9599   16151   28161\n",
      "   80868  194000  191000]\n"
     ]
    }
   ],
   "source": [
    "unique_km_driven = dataset.km_driven.unique()\n",
    "print(\"Num. of Unique Values: \" + str(len(unique_km_driven)) + \"\\n\")\n",
    "print(unique_km_driven)"
   ]
  },
  {
   "cell_type": "markdown",
   "id": "9e67861f",
   "metadata": {
    "id": "9e67861f"
   },
   "source": [
    "## Fuel Type"
   ]
  },
  {
   "cell_type": "code",
   "execution_count": 345,
   "id": "bba9bd4b",
   "metadata": {
    "colab": {
     "base_uri": "https://localhost:8080/"
    },
    "id": "bba9bd4b",
    "outputId": "1258a76d-9473-4eb0-cb9c-20988970c026"
   },
   "outputs": [
    {
     "data": {
      "text/plain": [
       "0       Diesel\n",
       "1       Diesel\n",
       "2       Petrol\n",
       "3       Diesel\n",
       "4       Petrol\n",
       "         ...  \n",
       "8123    Petrol\n",
       "8124    Diesel\n",
       "8125    Diesel\n",
       "8126    Diesel\n",
       "8127    Diesel\n",
       "Name: fuel, Length: 8128, dtype: object"
      ]
     },
     "execution_count": 345,
     "metadata": {},
     "output_type": "execute_result"
    }
   ],
   "source": [
    "dataset.fuel"
   ]
  },
  {
   "cell_type": "code",
   "execution_count": 346,
   "id": "78b1a476",
   "metadata": {
    "colab": {
     "base_uri": "https://localhost:8080/"
    },
    "id": "78b1a476",
    "outputId": "732dcd98-047c-4319-8f76-4f89351a78a4"
   },
   "outputs": [
    {
     "name": "stdout",
     "output_type": "stream",
     "text": [
      "Num. of Unique Values: 4\n",
      "\n",
      "['Diesel' 'Petrol' 'LPG' 'CNG']\n"
     ]
    }
   ],
   "source": [
    "unique_fuel = dataset.fuel .unique()\n",
    "print(\"Num. of Unique Values: \" + str(len(unique_fuel)) + \"\\n\")\n",
    "print(unique_fuel)"
   ]
  },
  {
   "cell_type": "markdown",
   "id": "aba8c4d3",
   "metadata": {
    "id": "aba8c4d3"
   },
   "source": [
    "## Seller Type"
   ]
  },
  {
   "cell_type": "code",
   "execution_count": 347,
   "id": "72341c93",
   "metadata": {
    "colab": {
     "base_uri": "https://localhost:8080/"
    },
    "id": "72341c93",
    "outputId": "f23a0fe9-3670-41a5-c593-7f1e8a838608"
   },
   "outputs": [
    {
     "data": {
      "text/plain": [
       "0       Individual\n",
       "1       Individual\n",
       "2       Individual\n",
       "3       Individual\n",
       "4       Individual\n",
       "           ...    \n",
       "8123    Individual\n",
       "8124    Individual\n",
       "8125    Individual\n",
       "8126    Individual\n",
       "8127    Individual\n",
       "Name: seller_type, Length: 8128, dtype: object"
      ]
     },
     "execution_count": 347,
     "metadata": {},
     "output_type": "execute_result"
    }
   ],
   "source": [
    "dataset.seller_type"
   ]
  },
  {
   "cell_type": "code",
   "execution_count": 348,
   "id": "f953a6ad",
   "metadata": {
    "colab": {
     "base_uri": "https://localhost:8080/"
    },
    "id": "f953a6ad",
    "outputId": "0f2aed38-d4af-4139-f99b-fd80ae288d68"
   },
   "outputs": [
    {
     "name": "stdout",
     "output_type": "stream",
     "text": [
      "Num. of Unique Values: 3\n",
      "\n",
      "['Individual' 'Dealer' 'Trustmark Dealer']\n"
     ]
    }
   ],
   "source": [
    "unique_seller_type = dataset.seller_type.unique()\n",
    "print(\"Num. of Unique Values: \" + str(len(unique_seller_type)) + \"\\n\")\n",
    "print(unique_seller_type)"
   ]
  },
  {
   "cell_type": "markdown",
   "id": "6e6ee86e",
   "metadata": {
    "id": "6e6ee86e"
   },
   "source": [
    "## Transmission"
   ]
  },
  {
   "cell_type": "code",
   "execution_count": 349,
   "id": "ed496d44",
   "metadata": {
    "colab": {
     "base_uri": "https://localhost:8080/"
    },
    "id": "ed496d44",
    "outputId": "287d5890-76d0-4cd6-8655-c8ef997c2cd4"
   },
   "outputs": [
    {
     "data": {
      "text/plain": [
       "0       Manual\n",
       "1       Manual\n",
       "2       Manual\n",
       "3       Manual\n",
       "4       Manual\n",
       "         ...  \n",
       "8123    Manual\n",
       "8124    Manual\n",
       "8125    Manual\n",
       "8126    Manual\n",
       "8127    Manual\n",
       "Name: transmission, Length: 8128, dtype: object"
      ]
     },
     "execution_count": 349,
     "metadata": {},
     "output_type": "execute_result"
    }
   ],
   "source": [
    "dataset.transmission"
   ]
  },
  {
   "cell_type": "code",
   "execution_count": 350,
   "id": "65272b76",
   "metadata": {
    "colab": {
     "base_uri": "https://localhost:8080/"
    },
    "id": "65272b76",
    "outputId": "343dcf2c-7c92-4d2c-ecb8-acadc359dd47"
   },
   "outputs": [
    {
     "name": "stdout",
     "output_type": "stream",
     "text": [
      "Num. of Unique Values: 2\n",
      "\n",
      "['Manual' 'Automatic']\n"
     ]
    }
   ],
   "source": [
    "unique_transmission = dataset.transmission.unique()\n",
    "print(\"Num. of Unique Values: \" + str(len(unique_transmission)) + \"\\n\")\n",
    "print(unique_transmission)"
   ]
  },
  {
   "cell_type": "markdown",
   "id": "6b9a3612",
   "metadata": {
    "id": "6b9a3612"
   },
   "source": [
    "## Owner"
   ]
  },
  {
   "cell_type": "code",
   "execution_count": 351,
   "id": "4e7b3930",
   "metadata": {
    "colab": {
     "base_uri": "https://localhost:8080/"
    },
    "id": "4e7b3930",
    "outputId": "daa92041-9e42-4441-f98d-25652e8fa2ef"
   },
   "outputs": [
    {
     "data": {
      "text/plain": [
       "0                First Owner\n",
       "1               Second Owner\n",
       "2                Third Owner\n",
       "3                First Owner\n",
       "4                First Owner\n",
       "                ...         \n",
       "8123             First Owner\n",
       "8124    Fourth & Above Owner\n",
       "8125             First Owner\n",
       "8126             First Owner\n",
       "8127             First Owner\n",
       "Name: owner, Length: 8128, dtype: object"
      ]
     },
     "execution_count": 351,
     "metadata": {},
     "output_type": "execute_result"
    }
   ],
   "source": [
    "dataset.owner"
   ]
  },
  {
   "cell_type": "code",
   "execution_count": 352,
   "id": "97c34ddd",
   "metadata": {
    "colab": {
     "base_uri": "https://localhost:8080/"
    },
    "id": "97c34ddd",
    "outputId": "73bfbf6e-3803-4feb-cb9a-78d518e051bd"
   },
   "outputs": [
    {
     "name": "stdout",
     "output_type": "stream",
     "text": [
      "Num. of Unique Values: 5\n",
      "\n",
      "['First Owner' 'Second Owner' 'Third Owner' 'Fourth & Above Owner'\n",
      " 'Test Drive Car']\n"
     ]
    }
   ],
   "source": [
    "unique_owner = dataset.owner.unique()\n",
    "print(\"Num. of Unique Values: \" + str(len(unique_owner)) + \"\\n\")\n",
    "print(unique_owner)"
   ]
  },
  {
   "cell_type": "markdown",
   "id": "cd5900b3",
   "metadata": {
    "id": "cd5900b3"
   },
   "source": [
    "## Mileage"
   ]
  },
  {
   "cell_type": "code",
   "execution_count": 353,
   "id": "a39e8a0c",
   "metadata": {
    "colab": {
     "base_uri": "https://localhost:8080/"
    },
    "id": "a39e8a0c",
    "outputId": "babd7987-bad1-43e9-8756-f751ae674957"
   },
   "outputs": [
    {
     "data": {
      "text/plain": [
       "0        23.4 kmpl\n",
       "1       21.14 kmpl\n",
       "2        17.7 kmpl\n",
       "3        23.0 kmpl\n",
       "4        16.1 kmpl\n",
       "           ...    \n",
       "8123     18.5 kmpl\n",
       "8124     16.8 kmpl\n",
       "8125     19.3 kmpl\n",
       "8126    23.57 kmpl\n",
       "8127    23.57 kmpl\n",
       "Name: mileage, Length: 8128, dtype: object"
      ]
     },
     "execution_count": 353,
     "metadata": {},
     "output_type": "execute_result"
    }
   ],
   "source": [
    "dataset.mileage"
   ]
  },
  {
   "cell_type": "code",
   "execution_count": 354,
   "id": "adfc269f",
   "metadata": {
    "colab": {
     "base_uri": "https://localhost:8080/"
    },
    "id": "adfc269f",
    "outputId": "55592e11-e267-4180-b4f2-f7b7976dbe88"
   },
   "outputs": [
    {
     "name": "stdout",
     "output_type": "stream",
     "text": [
      "Num. of Unique Values: 394\n",
      "\n",
      "['23.4 kmpl' '21.14 kmpl' '17.7 kmpl' '23.0 kmpl' '16.1 kmpl' '20.14 kmpl'\n",
      " '17.3 km/kg' '23.59 kmpl' '20.0 kmpl' '19.01 kmpl' '17.3 kmpl'\n",
      " '19.3 kmpl' nan '18.9 kmpl' '18.15 kmpl' '24.52 kmpl' '19.7 kmpl'\n",
      " '22.54 kmpl' '21.0 kmpl' '25.5 kmpl' '26.59 kmpl' '21.5 kmpl' '20.3 kmpl'\n",
      " '21.4 kmpl' '24.7 kmpl' '18.2 kmpl' '16.8 kmpl' '24.3 kmpl' '14.0 kmpl'\n",
      " '18.6 kmpl' '33.44 km/kg' '23.95 kmpl' '17.0 kmpl' '20.63 kmpl'\n",
      " '13.93 kmpl' '16.0 kmpl' '17.8 kmpl' '18.5 kmpl' '12.55 kmpl'\n",
      " '12.99 kmpl' '14.8 kmpl' '13.5 kmpl' '26.0 kmpl' '20.65 kmpl' '27.3 kmpl'\n",
      " '11.36 kmpl' '17.68 kmpl' '14.28 kmpl' '18.53 kmpl' '14.84 kmpl'\n",
      " '21.12 kmpl' '20.36 kmpl' '21.27 kmpl' '18.16 kmpl' '22.0 kmpl'\n",
      " '25.1 kmpl' '20.51 kmpl' '21.66 kmpl' '25.2 kmpl' '22.9 kmpl'\n",
      " '16.02 kmpl' '20.54 kmpl' '22.77 kmpl' '15.71 kmpl' '23.1 kmpl'\n",
      " '19.02 kmpl' '19.81 kmpl' '26.2 km/kg' '16.47 kmpl' '15.04 kmpl'\n",
      " '19.1 kmpl' '21.79 kmpl' '18.8 kmpl' '21.21 kmpl' '15.37 kmpl'\n",
      " '11.79 kmpl' '19.0 kmpl' '14.3 kmpl' '15.8 kmpl' '15.1 kmpl' '19.09 kmpl'\n",
      " '22.32 kmpl' '21.9 kmpl' '14.53 kmpl' '21.63 kmpl' '20.85 kmpl'\n",
      " '20.45 kmpl' '19.67 kmpl' '23.01 kmpl' '20.77 kmpl' '17.92 kmpl'\n",
      " '17.01 kmpl' '22.37 kmpl' '19.33 kmpl' '9.5 kmpl' '12.83 kmpl'\n",
      " '22.48 kmpl' '16.78 kmpl' '14.67 kmpl' '15.0 kmpl' '13.96 kmpl'\n",
      " '18.0 kmpl' '12.07 kmpl' '26.21 kmpl' '10.8 kmpl' '16.3 kmpl' '13.6 kmpl'\n",
      " '14.74 kmpl' '15.6 kmpl' '19.56 kmpl' '22.69 kmpl' '19.16 kmpl'\n",
      " '18.12 kmpl' '12.1 kmpl' '17.5 kmpl' '42.0 kmpl' '20.4 kmpl' '21.1 kmpl'\n",
      " '19.44 kmpl' '13.0 kmpl' '21.43 kmpl' '22.95 kmpl' '16.2 kmpl'\n",
      " '15.3 kmpl' '28.09 kmpl' '17.4 kmpl' '19.4 kmpl' '26.6 km/kg' '17.6 kmpl'\n",
      " '28.4 kmpl' '14.1 kmpl' '25.17 kmpl' '22.74 kmpl' '17.57 kmpl'\n",
      " '16.95 kmpl' '19.49 kmpl' '17.21 kmpl' '13.2 kmpl' '14.2 kmpl'\n",
      " '26.8 kmpl' '25.4 kmpl' '11.5 kmpl' '27.28 kmpl' '17.97 kmpl' '12.8 kmpl'\n",
      " '16.55 kmpl' '12.05 kmpl' '14.07 kmpl' '21.02 kmpl' '11.57 kmpl'\n",
      " '17.9 kmpl' '15.96 kmpl' '17.1 kmpl' '17.19 kmpl' '21.01 kmpl'\n",
      " '24.0 kmpl' '25.6 kmpl' '21.38 kmpl' '23.84 kmpl' '23.08 kmpl'\n",
      " '14.24 kmpl' '20.71 kmpl' '15.64 kmpl' '14.5 kmpl' '16.34 kmpl'\n",
      " '27.39 kmpl' '11.1 kmpl' '13.9 kmpl' '20.88 km/kg' '20.92 kmpl'\n",
      " '23.8 kmpl' '24.4 kmpl' '15.29 kmpl' '21.19 kmpl' '22.5 kmpl' '19.6 kmpl'\n",
      " '23.65 kmpl' '25.32 kmpl' '23.5 kmpl' '16.6 kmpl' '23.9 kmpl' '20.8 kmpl'\n",
      " '27.62 kmpl' '12.9 kmpl' '25.44 kmpl' '17.88 kmpl' '22.7 kmpl'\n",
      " '17.2 kmpl' '15.42 kmpl' '19.68 kmpl' '18.7 kmpl' '15.4 kmpl'\n",
      " '19.34 kmpl' '22.71 kmpl' '25.8 kmpl' '13.7 kmpl' '12.2 kmpl'\n",
      " '18.49 kmpl' '9.0 kmpl' '0.0 kmpl' '13.58 kmpl' '10.1 kmpl' '20.5 kmpl'\n",
      " '25.0 kmpl' '10.5 kmpl' '22.07 kmpl' '22.3 kmpl' '15.26 kmpl'\n",
      " '20.62 kmpl' '27.4 kmpl' '23.2 kmpl' '14.4 kmpl' '18.4 kmpl'\n",
      " '30.46 km/kg' '14.02 kmpl' '11.0 kmpl' '20.6 kmpl' '22.05 kmpl'\n",
      " '20.2 kmpl' '18.1 kmpl' '22.1 kmpl' '19.87 kmpl' '13.01 kmpl'\n",
      " '18.06 kmpl' '26.1 kmpl' '16.52 kmpl' '13.55 kmpl' '24.2 kmpl'\n",
      " '25.83 kmpl' '11.2 kmpl' '17.09 kmpl' '21.03 kmpl' '17.45 kmpl'\n",
      " '21.64 kmpl' '21.94 km/kg' '13.87 kmpl' '19.98 kmpl' '20.52 kmpl'\n",
      " '23.57 kmpl' '11.7 kmpl' '17.43 kmpl' '18.88 kmpl' '13.68 kmpl'\n",
      " '11.18 kmpl' '20.89 kmpl' '11.8 kmpl' '19.62 kmpl' '21.7 kmpl'\n",
      " '14.9 kmpl' '19.5 kmpl' '10.91 kmpl' '15.7 kmpl' '20.73 kmpl'\n",
      " '15.85 kmpl' '20.7 kmpl' '14.23 kmpl' '16.5 kmpl' '17.36 kmpl'\n",
      " '12.6 kmpl' '16.36 kmpl' '14.95 kmpl' '16.9 kmpl' '19.2 kmpl'\n",
      " '16.96 kmpl' '22.15 kmpl' '18.78 kmpl' '19.61 kmpl' '17.71 kmpl'\n",
      " '18.3 kmpl' '19.12 kmpl' '19.72 kmpl' '12.0 kmpl' '11.4 kmpl'\n",
      " '23.03 kmpl' '11.07 kmpl' '15.9 kmpl' '17.67 kmpl' '20.46 kmpl'\n",
      " '13.1 kmpl' '13.45 km/kg' '24.8 kmpl' '15.73 kmpl' '15.11 kmpl'\n",
      " '12.7 kmpl' '21.2 kmpl' '20.38 kmpl' '21.56 kmpl' '13.22 kmpl'\n",
      " '14.49 kmpl' '15.05 kmpl' '23.26 kmpl' '15.41 kmpl' '13.8 kmpl'\n",
      " '22.27 kmpl' '32.52 km/kg' '14.66 kmpl' '12.12 kmpl' '16.84 kmpl'\n",
      " '14.09 kmpl' '14.7 kmpl' '13.4 kmpl' '15.5 kmpl' '13.49 kmpl'\n",
      " '11.88 km/kg' '14.6 kmpl' '10.75 kmpl' '24.5 kmpl' '11.74 kmpl'\n",
      " '16.07 kmpl' '15.63 kmpl' '26.3 km/kg' '23.7 km/kg' '25.47 kmpl'\n",
      " '17.05 kmpl' '23.3 kmpl' '11.9 kmpl' '13.38 kmpl' '20.86 kmpl'\n",
      " '19.2 km/kg' '10.9 kmpl' '18.25 kmpl' '15.2 kmpl' '20.37 kmpl'\n",
      " '17.8 km/kg' '21.8 kmpl' '11.96 kmpl' '24.04 kmpl' '19.69 kmpl'\n",
      " '13.73 kmpl' '21.04 kmpl' '25.01 kmpl' '10.93 kmpl' '10.9 km/kg'\n",
      " '24.29 kmpl' '13.44 kmpl' '20.07 kmpl' '21.1 km/kg' '19.08 kmpl'\n",
      " '20.34 kmpl' '11.68 kmpl' '12.5 kmpl' '12.3 kmpl' '23.87 kmpl'\n",
      " '16.38 kmpl' '17.42 kmpl' '10.0 kmpl' '18.24 kmpl' '10.71 kmpl'\n",
      " '19.59 kmpl' '16.7 kmpl' '19.83 kmpl' '21.76 kmpl' '16.05 kmpl'\n",
      " '20.28 kmpl' '16.25 kmpl' '16.73 kmpl' '18.48 kmpl' '13.2 km/kg'\n",
      " '21.4 km/kg' '14.99 kmpl' '18.76 kmpl' '16.4 kmpl' '19.64 kmpl'\n",
      " '14.94 kmpl' '16.6 km/kg' '16.0 km/kg' '17.11 kmpl' '22.8 km/kg'\n",
      " '32.26 km/kg' '33.0 km/kg' '12.4 kmpl' '18.44 kmpl' '16.09 kmpl'\n",
      " '19.0 km/kg' '12.62 kmpl' '21.13 kmpl' '15.17 kmpl' '21.73 kmpl'\n",
      " '21.72 kmpl' '12.85 kmpl' '14.81 kmpl' '13.24 kmpl' '14.4 km/kg'\n",
      " '21.49 kmpl' '14.62 kmpl' '26.83 km/kg' '11.45 kmpl' '12.08 kmpl'\n",
      " '15.74 kmpl' '11.3 kmpl' '15.1 km/kg' '14.21 kmpl' '11.72 kmpl'\n",
      " '16.51 kmpl']\n"
     ]
    }
   ],
   "source": [
    "unique_mileage = dataset.mileage.unique()\n",
    "print(\"Num. of Unique Values: \" + str(len(unique_mileage)) + \"\\n\")\n",
    "print(unique_mileage)"
   ]
  },
  {
   "cell_type": "markdown",
   "id": "dce492e9",
   "metadata": {
    "id": "dce492e9"
   },
   "source": [
    "## Engine Capacity"
   ]
  },
  {
   "cell_type": "code",
   "execution_count": 355,
   "id": "1e5f236c",
   "metadata": {
    "colab": {
     "base_uri": "https://localhost:8080/"
    },
    "id": "1e5f236c",
    "outputId": "672e9aa4-17c9-461e-f483-7b267c85eb9b"
   },
   "outputs": [
    {
     "data": {
      "text/plain": [
       "0       1248 CC\n",
       "1       1498 CC\n",
       "2       1497 CC\n",
       "3       1396 CC\n",
       "4       1298 CC\n",
       "         ...   \n",
       "8123    1197 CC\n",
       "8124    1493 CC\n",
       "8125    1248 CC\n",
       "8126    1396 CC\n",
       "8127    1396 CC\n",
       "Name: engine, Length: 8128, dtype: object"
      ]
     },
     "execution_count": 355,
     "metadata": {},
     "output_type": "execute_result"
    }
   ],
   "source": [
    "dataset.engine"
   ]
  },
  {
   "cell_type": "code",
   "execution_count": 356,
   "id": "d9da691b",
   "metadata": {
    "colab": {
     "base_uri": "https://localhost:8080/"
    },
    "id": "d9da691b",
    "outputId": "5c78af5b-0b41-47bd-c948-3b93590b79e8"
   },
   "outputs": [
    {
     "name": "stdout",
     "output_type": "stream",
     "text": [
      "Num. of Unique Values: 122\n",
      "\n",
      "['1248 CC' '1498 CC' '1497 CC' '1396 CC' '1298 CC' '1197 CC' '1061 CC'\n",
      " '796 CC' '1364 CC' '1399 CC' '1461 CC' '993 CC' nan '1198 CC' '1199 CC'\n",
      " '998 CC' '1591 CC' '2179 CC' '1368 CC' '2982 CC' '2494 CC' '2143 CC'\n",
      " '2477 CC' '1462 CC' '2755 CC' '1968 CC' '1798 CC' '1196 CC' '1373 CC'\n",
      " '1598 CC' '1998 CC' '1086 CC' '1194 CC' '1172 CC' '1405 CC' '1582 CC'\n",
      " '999 CC' '2487 CC' '1999 CC' '3604 CC' '2987 CC' '1995 CC' '1451 CC'\n",
      " '1969 CC' '2967 CC' '2497 CC' '1797 CC' '1991 CC' '2362 CC' '1493 CC'\n",
      " '1599 CC' '1341 CC' '1794 CC' '799 CC' '1193 CC' '2696 CC' '1495 CC'\n",
      " '1186 CC' '1047 CC' '2498 CC' '2956 CC' '2523 CC' '1120 CC' '624 CC'\n",
      " '1496 CC' '1984 CC' '2354 CC' '814 CC' '793 CC' '1799 CC' '936 CC'\n",
      " '1956 CC' '1997 CC' '1499 CC' '1948 CC' '2997 CC' '2489 CC' '2499 CC'\n",
      " '2609 CC' '2953 CC' '1150 CC' '1994 CC' '1388 CC' '1527 CC' '2199 CC'\n",
      " '995 CC' '2993 CC' '1586 CC' '1390 CC' '909 CC' '2393 CC' '3198 CC'\n",
      " '1339 CC' '2835 CC' '2092 CC' '1595 CC' '2496 CC' '1596 CC' '1597 CC'\n",
      " '2596 CC' '2148 CC' '1299 CC' '1590 CC' '2231 CC' '2694 CC' '2200 CC'\n",
      " '1795 CC' '1896 CC' '1796 CC' '1422 CC' '1489 CC' '2359 CC' '2197 CC'\n",
      " '2999 CC' '1781 CC' '2650 CC' '1343 CC' '2446 CC' '3498 CC' '2198 CC'\n",
      " '2776 CC' '1950 CC']\n"
     ]
    }
   ],
   "source": [
    "unique_engine = dataset.engine.unique()\n",
    "print(\"Num. of Unique Values: \" + str(len(unique_engine)) + \"\\n\")\n",
    "print(unique_engine)"
   ]
  },
  {
   "cell_type": "markdown",
   "id": "5d36c444",
   "metadata": {
    "id": "5d36c444"
   },
   "source": [
    "## Engine Max Power"
   ]
  },
  {
   "cell_type": "code",
   "execution_count": 357,
   "id": "71f3cea0",
   "metadata": {
    "colab": {
     "base_uri": "https://localhost:8080/"
    },
    "id": "71f3cea0",
    "outputId": "97a9101f-56c4-43af-ac2c-eee484ce51dc"
   },
   "outputs": [
    {
     "data": {
      "text/plain": [
       "0           74 bhp\n",
       "1       103.52 bhp\n",
       "2           78 bhp\n",
       "3           90 bhp\n",
       "4         88.2 bhp\n",
       "           ...    \n",
       "8123     82.85 bhp\n",
       "8124       110 bhp\n",
       "8125      73.9 bhp\n",
       "8126        70 bhp\n",
       "8127        70 bhp\n",
       "Name: max_power, Length: 8128, dtype: object"
      ]
     },
     "execution_count": 357,
     "metadata": {},
     "output_type": "execute_result"
    }
   ],
   "source": [
    "dataset.max_power"
   ]
  },
  {
   "cell_type": "code",
   "execution_count": 358,
   "id": "6d247d5c",
   "metadata": {
    "colab": {
     "base_uri": "https://localhost:8080/"
    },
    "id": "6d247d5c",
    "outputId": "7f5a09a3-85f7-4906-947a-5de787100f09"
   },
   "outputs": [
    {
     "name": "stdout",
     "output_type": "stream",
     "text": [
      "Num. of Unique Values: 323\n",
      "\n",
      "['74 bhp' '103.52 bhp' '78 bhp' '90 bhp' '88.2 bhp' '81.86 bhp' '57.5 bhp'\n",
      " '37 bhp' '67.1 bhp' '68.1 bhp' '108.45 bhp' '60 bhp' '73.9 bhp' nan\n",
      " '67 bhp' '82 bhp' '88.5 bhp' '46.3 bhp' '88.73 bhp' '64.1 bhp' '98.6 bhp'\n",
      " '88.8 bhp' '83.81 bhp' '83.1 bhp' '47.3 bhp' '73.8 bhp' '34.2 bhp'\n",
      " '35 bhp' '81.83 bhp' '40.3 bhp' '121.3 bhp' '138.03 bhp' '160.77 bhp'\n",
      " '117.3 bhp' '116.3 bhp' '83.14 bhp' '67.05 bhp' '168.5 bhp' '100 bhp'\n",
      " '120.7 bhp' '98.63 bhp' '175.56 bhp' '103.25 bhp' '171.5 bhp' '100.6 bhp'\n",
      " '174.33 bhp' '187.74 bhp' '170 bhp' '78.9 bhp' '88.76 bhp' '86.8 bhp'\n",
      " '108.495 bhp' '108.62 bhp' '93.7 bhp' '103.6 bhp' '98.59 bhp' '189 bhp'\n",
      " '67.04 bhp' '68.05 bhp' '58.2 bhp' '82.85 bhp' '81.80 bhp' '73 bhp'\n",
      " '120 bhp' '94.68 bhp' '160 bhp' '65 bhp' '155 bhp' '69.01 bhp'\n",
      " '126.32 bhp' '138.1 bhp' '83.8 bhp' '126.2 bhp' '98.96 bhp' '62.1 bhp'\n",
      " '86.7 bhp' '188 bhp' '214.56 bhp' '177 bhp' '280 bhp' '148.31 bhp'\n",
      " '254.79 bhp' '190 bhp' '177.46 bhp' '204 bhp' '141 bhp' '117.6 bhp'\n",
      " '241.4 bhp' '282 bhp' '150 bhp' '147.5 bhp' '108.5 bhp' '103.5 bhp'\n",
      " '183 bhp' '181.04 bhp' '157.7 bhp' '164.7 bhp' '91.1 bhp' '400 bhp'\n",
      " '68 bhp' '75 bhp' '85.8 bhp' '87.2 bhp' '53 bhp' '118 bhp' '103.2 bhp'\n",
      " '83 bhp' '84 bhp' '58.16 bhp' '147.94 bhp' '74.02 bhp' '53.3 bhp'\n",
      " '80 bhp' '88.7 bhp' '97.7 bhp' '121.36 bhp' '162 bhp' '140 bhp' '94 bhp'\n",
      " '100.57 bhp' '82.9 bhp' '83.11 bhp' '70 bhp' '153.86 bhp' '121 bhp'\n",
      " '126.3 bhp' '73.97 bhp' '171 bhp' '69 bhp' '99.6 bhp' '102 bhp' '105 bhp'\n",
      " '63 bhp' '79.4 bhp' '97.9 bhp' '63.1 bhp' '66.1 bhp' '110 bhp'\n",
      " '174.5 bhp' '53.26 bhp' '73.75 bhp' '67.06 bhp' '64.08 bhp' '37.5 bhp'\n",
      " '189.3 bhp' '158.8 bhp' '61.7 bhp' '55.2 bhp' '71.01 bhp' '73.74 bhp'\n",
      " '147.9 bhp' '71 bhp' '77 bhp' '121.4 bhp' '113.4 bhp' '47 bhp' '130 bhp'\n",
      " '57.6 bhp' '138 bhp' '52.8 bhp' '53.64 bhp' '53.5 bhp' '76.8 bhp'\n",
      " '82.4 bhp' '113.42 bhp' '76 bhp' '84.8 bhp' '0' '56.3 bhp' '218 bhp'\n",
      " '112 bhp' '92 bhp' '105.5 bhp' '169 bhp' '95 bhp' '72.4 bhp' '115 bhp'\n",
      " '152 bhp' '91.2 bhp' '156 bhp' '74.9 bhp' '62 bhp' '105.3 bhp'\n",
      " '73.94 bhp' '85.80 bhp' '85 bhp' '118.3 bhp' '72 bhp' '147.51 bhp'\n",
      " '58 bhp' '64 bhp' '126.24 bhp' '76.9 bhp' '194.3 bhp' '99.23 bhp'\n",
      " '89.84 bhp' '123.7 bhp' '118.35 bhp' '99 bhp' '241 bhp' '136 bhp'\n",
      " '261.4 bhp' '104.68 bhp' '37.48 bhp' '104 bhp' '88.50 bhp' '63.12 bhp'\n",
      " '91.7 bhp' '102.5 bhp' '177.6 bhp' '45 bhp' '123.37 bhp' '147.8 bhp'\n",
      " '184 bhp' '84.48 bhp' '68.07 bhp' '74.96 bhp' '167.6 bhp' '152.87 bhp'\n",
      " '112.2 bhp' '83.83 bhp' '197 bhp' '110.4 bhp' '104.55 bhp' '103 bhp'\n",
      " '103.3 bhp' '66 bhp' '108.6 bhp' '165 bhp' '163.7 bhp' '116.9 bhp'\n",
      " '94.93 bhp' '127 bhp' '198.5 bhp' '179.5 bhp' '120.69 bhp' '121.31 bhp'\n",
      " '138.08 bhp' '187.7 bhp' '80.8 bhp' '86.79 bhp' '93.87 bhp' '116.6 bhp'\n",
      " '143 bhp' '92.7 bhp' '88 bhp' '58.33 bhp' '78.8 bhp' '64.4 bhp' '125 bhp'\n",
      " '139.01 bhp' '254.8 bhp' '181 bhp' '258 bhp' '55.23 bhp' '270.9 bhp'\n",
      " '265 bhp' '157.75 bhp' '101 bhp' '186 bhp' '187.4 bhp' '224 bhp'\n",
      " '64.9 bhp' '148 bhp' '35.5 bhp' '89.75 bhp' '32.8 bhp' '91.72 bhp'\n",
      " '106 bhp' '98.97 bhp' '66.6 bhp' '86 bhp' '65.3 bhp' '98.82 bhp'\n",
      " '198.25 bhp' '38 bhp' '142 bhp' '132 bhp' '174.57 bhp' '178 bhp'\n",
      " '163.2 bhp' '203.2 bhp' '177.5 bhp' '175 bhp' '57 bhp' '80.84 bhp'\n",
      " '68.4 bhp' '167.67 bhp' '170.63 bhp' '52 bhp' '149.5 bhp' '48.21 bhp'\n",
      " ' bhp' '201.1 bhp' '100.5 bhp' '144 bhp' '194.4 bhp' '168.7 bhp'\n",
      " '104.5 bhp' '103.26 bhp' '116.4 bhp' '98.79 bhp' '80.9 bhp' '58.3 bhp'\n",
      " '272 bhp' '235 bhp' '167.62 bhp' '170.30 bhp' '139.46 bhp' '158 bhp'\n",
      " '110.5 bhp' '82.5 bhp' '141.1 bhp' '38.4 bhp' '197.2 bhp' '161 bhp'\n",
      " '194 bhp' '122.4 bhp' '134.10 bhp' '60.2 bhp' '134 bhp' '203 bhp'\n",
      " '135.1 bhp']\n"
     ]
    }
   ],
   "source": [
    "unique_max_power = dataset.max_power.unique()\n",
    "print(\"Num. of Unique Values: \" + str(len(unique_max_power)) + \"\\n\")\n",
    "print(unique_max_power)"
   ]
  },
  {
   "cell_type": "markdown",
   "id": "93214e46",
   "metadata": {
    "id": "93214e46"
   },
   "source": [
    "## Seats Number"
   ]
  },
  {
   "cell_type": "code",
   "execution_count": 359,
   "id": "05303db8",
   "metadata": {
    "colab": {
     "base_uri": "https://localhost:8080/"
    },
    "id": "05303db8",
    "outputId": "479c3f87-daa9-46fc-aed3-d8097c8581c9"
   },
   "outputs": [
    {
     "data": {
      "text/plain": [
       "0       5.0\n",
       "1       5.0\n",
       "2       5.0\n",
       "3       5.0\n",
       "4       5.0\n",
       "       ... \n",
       "8123    5.0\n",
       "8124    5.0\n",
       "8125    5.0\n",
       "8126    5.0\n",
       "8127    5.0\n",
       "Name: seats, Length: 8128, dtype: float64"
      ]
     },
     "execution_count": 359,
     "metadata": {},
     "output_type": "execute_result"
    }
   ],
   "source": [
    "dataset.seats"
   ]
  },
  {
   "cell_type": "code",
   "execution_count": 360,
   "id": "defed6f4",
   "metadata": {
    "colab": {
     "base_uri": "https://localhost:8080/"
    },
    "id": "defed6f4",
    "outputId": "91d06f2a-625a-4de1-ba34-ea97e75ce78b"
   },
   "outputs": [
    {
     "name": "stdout",
     "output_type": "stream",
     "text": [
      "Num. of Unique Values: 10\n",
      "\n",
      "[ 5.  4. nan  7.  8.  6.  9. 10. 14.  2.]\n"
     ]
    }
   ],
   "source": [
    "unique_seats = dataset.seats.unique()\n",
    "print(\"Num. of Unique Values: \" + str(len(unique_seats)) + \"\\n\")\n",
    "print(unique_seats)"
   ]
  },
  {
   "cell_type": "markdown",
   "id": "5a4ba75e",
   "metadata": {
    "id": "5a4ba75e"
   },
   "source": [
    "## Selling Price"
   ]
  },
  {
   "cell_type": "code",
   "execution_count": 361,
   "id": "97a214c2",
   "metadata": {
    "colab": {
     "base_uri": "https://localhost:8080/"
    },
    "id": "97a214c2",
    "outputId": "e8271406-14fc-46f2-b737-6ed37f6e2f1f"
   },
   "outputs": [
    {
     "data": {
      "text/plain": [
       "0       450000\n",
       "1       370000\n",
       "2       158000\n",
       "3       225000\n",
       "4       130000\n",
       "         ...  \n",
       "8123    320000\n",
       "8124    135000\n",
       "8125    382000\n",
       "8126    290000\n",
       "8127    290000\n",
       "Name: selling_price, Length: 8128, dtype: int64"
      ]
     },
     "execution_count": 361,
     "metadata": {},
     "output_type": "execute_result"
    }
   ],
   "source": [
    "dataset.selling_price"
   ]
  },
  {
   "cell_type": "code",
   "execution_count": 362,
   "id": "f07929ab",
   "metadata": {
    "colab": {
     "base_uri": "https://localhost:8080/"
    },
    "id": "f07929ab",
    "outputId": "7863d1a1-8465-45b2-9751-bc6cade9150e"
   },
   "outputs": [
    {
     "name": "stdout",
     "output_type": "stream",
     "text": [
      "Num. of Unique Values: 677\n",
      "\n",
      "[  450000   370000   158000   225000   130000   440000    96000    45000\n",
      "   350000   200000   500000    92000   280000   180000   400000   778000\n",
      "   150000   680000   174000   950000   525000   600000   575000   275000\n",
      "   300000   220000   254999   670000    70000   730000   650000   330000\n",
      "   366000  1149000   425000  2100000   925000   675000   819999   390000\n",
      "  1500000   700000  1450000  1090000   850000  1650000  1750000  1590000\n",
      "  1689999  1425000   265000   190000   630000   540000   448000   745000\n",
      "  1025000   235000  1700000    50000  1200000   610000  2500000   484999\n",
      "   315000   475000   290000   455000   351000   535000   175000   565000\n",
      "   120000   725000   185000   615000   270000   625000   866000   375000\n",
      "   522000   451999   780000   595000  1140000   360000   105000   135000\n",
      "   690000  3975000  5150000  3200000  4100000  4500000  6000000  3790000\n",
      "  2150000  5800000  1864999  2700000   795000  3400000  2650000  5850000\n",
      "   975000   805000  2625000   811000   550000   645000  2550000   599000\n",
      "   875000   894999   340000  1525000  1900000  2900000 10000000   160000\n",
      "   515000    40000   480000   487000   386000   100000   490000   345000\n",
      "    85000   215000   320000   459999    65000   720000   800000   520000\n",
      "   580000   420000  1250000   830000   335000   329000   775000   524000\n",
      "   245000   910000   900000   250000  1100000   640000   409999   165000\n",
      "    80000  1000000   110000    75000   170000  1380000  1300000   530000\n",
      "   310000  1150000   380000   404000   114999   465000   210000  4600000\n",
      "   509999    90000   409000   395000    81000   555000   229999  1210000\n",
      "   325000    60000    89000   434999  3000000   570000  1550000    64000\n",
      "   140000   503000  3800000  2000000   740000   750000  5400000  5500000\n",
      "   779000  2475000   240000  1085000    95000  1290000   219000   260000\n",
      "   840000   292000   385000  1050000   735000   560000   585000   760000\n",
      "   430000   643000   285000   660000   268000    88000   561000   755000\n",
      "   125000  1600000   801000   317000   495000   236000  1800000   415000\n",
      "   217000   466000   204999   605000  1350000   337000   655000   196000\n",
      "   299000   634000  1225000   238000    72000   590000   195000   715000\n",
      "   168000   531000  1625000   145000   441000    67500   321000   298000\n",
      "  1075000   681000   810000   573000   101000  1019999   244000  1165000\n",
      "   241000   327000   620000   576000   695000   231000   261000   371000\n",
      "   421000   710000  1040000   199000   305000  1745000   611000    55000\n",
      "  1325000   885000   108000   272000  1125000   388000   757000   626000\n",
      "   793000  3750000  1400000  1925000   844999  2940000  1825000   890000\n",
      "   770000   467000   711000   511000   163000   166000   392000   833000\n",
      "    35000   880000  1030000   521000   451000   472000   649000   429000\n",
      "  1576000   825000   470000  1560000  1950000   786000   731000   191000\n",
      "   651000   589000   445000    93150   403000   144000    52000   302000\n",
      "   869999   155000   246000   405000  3250000  1143000   635000  1575000\n",
      "   318000   152000   248000  1465000  1080000   678000  1460000   756000\n",
      "   665000  2950000   377000  1675000   169000   685000   749000   899000\n",
      "   259000   416000   773000   889000   118000   256000  1888000    99000\n",
      "  2280000    31504   295000   444000    93000   860000  2450000   198000\n",
      "  2825000  2125000  3350000   365000   919999  2600000   839000  1594000\n",
      "   161000   423000   551000   127000   411000  1530000   376000  1850000\n",
      "    86000   822000    30000   252000   131000   128000   790000   604000\n",
      "  1175000   256999   141000   151000   577000    83000   946000   356000\n",
      "   955000   978999   348000   399000   362000   499000   358000   278000\n",
      "   426000   211000  1270000   426999   960000  1031000   479000   764000\n",
      "  2199000  3600000   184000   119000   267000   328000   112999    39000\n",
      "  2850000  2800000  3900000   221000   631000   308000   940000   361000\n",
      "   355000  7200000   930000  1670000   980000   486000   242000   654000\n",
      "   835000   408000    94500  1110000   438999   911999   693000   449000\n",
      "  1390000   698000   539000   765000   562000   571000   227999  1151000\n",
      "  1295000  4090000   347000   493000    78000   545000  1475000   287000\n",
      "  1630000   501000   181000  2711000  1035000   316000   813000  1190000\n",
      "   378000   156000   194000   754000    55599  1511000   250999   312000\n",
      "    66000   369000   149000   752000   142000   111000   206000   567000\n",
      "   699000   632000   905000  1145000    33983    58000   179000  1515000\n",
      "   178000   222000   387000  1405000   282000   458000   157000   497000\n",
      "  1227000   574000   121000  3100000    68000  1920000   808000   512000\n",
      "   671000   799000  1365000  1490000    80500   189000   892000  1680000\n",
      "   667000   204000    42000   694000   861999   476999  5200000  2375000\n",
      "  2750000  1385000   785000  1275000  1748999   132000    33351  2064000\n",
      "   469000   906000   797000  6223000  5923000  6523000   122000   891000\n",
      "   346000   532000   974000   483000   138000   432000  1757000   412000\n",
      "   126000   736000   579000   187000  4000000  1898999   311000   482000\n",
      "   401000   737000   291000   999000   957000   834000   297000   669000\n",
      "   616000   129000   115999   861000  3251000   911000   148000   433000\n",
      "   488000    67000   516000   136000    29999   124000  1938000   172000\n",
      "    59000  3500000   537000    56000   849000   851000   597000   741000\n",
      "   556000   549000   679000   969999  1237000    31000   666000    54000\n",
      "   374000   455999   453000   258000   428000   262000   389000   339000\n",
      "   277000   578000   684000   949000   227000  5830000   721000   751000\n",
      "  2400000   990000  1282000  1147000   558000   722000   563000  2300000\n",
      "  2200000    57000   488999   276000   434000   372000  1520000   202999\n",
      "   541000   254000   528000   102000   977000  1251000  1445000    98000\n",
      "    59259   153000  1051000   591000   319000   454000  1160000  3300000\n",
      "   791000   352000   802999  1789999  1044999   279000   944999  1859000\n",
      "   624000  2175000   430999   803999   934000   357000   965000   341000\n",
      "    75527  1132000   252999   313000   391000  2051000   212000  2575000\n",
      "  1516000   359000   209000  1220000  1180000    45957  1265000   382000\n",
      "   526000    90177    46000   307000   746000]\n"
     ]
    }
   ],
   "source": [
    "unique_selling_price= dataset.selling_price.unique()\n",
    "print(\"Num. of Unique Values: \" + str(len(unique_selling_price)) + \"\\n\")\n",
    "print(unique_selling_price)"
   ]
  },
  {
   "cell_type": "markdown",
   "id": "b9f7f86f",
   "metadata": {
    "id": "b9f7f86f"
   },
   "source": [
    "# Data Preparation\n",
    "____________________________"
   ]
  },
  {
   "cell_type": "markdown",
   "id": "c6b66c17",
   "metadata": {
    "id": "c6b66c17"
   },
   "source": [
    "## Generate Sub-columns"
   ]
  },
  {
   "cell_type": "code",
   "execution_count": 363,
   "id": "e95653fa",
   "metadata": {
    "colab": {
     "base_uri": "https://localhost:8080/",
     "height": 0
    },
    "id": "e95653fa",
    "outputId": "c048e19d-7807-4f07-b581-e0e237158052"
   },
   "outputs": [
    {
     "data": {
      "text/html": [
       "<div>\n",
       "<style scoped>\n",
       "    .dataframe tbody tr th:only-of-type {\n",
       "        vertical-align: middle;\n",
       "    }\n",
       "\n",
       "    .dataframe tbody tr th {\n",
       "        vertical-align: top;\n",
       "    }\n",
       "\n",
       "    .dataframe thead th {\n",
       "        text-align: right;\n",
       "    }\n",
       "</style>\n",
       "<table border=\"1\" class=\"dataframe\">\n",
       "  <thead>\n",
       "    <tr style=\"text-align: right;\">\n",
       "      <th></th>\n",
       "      <th>company</th>\n",
       "      <th>model</th>\n",
       "      <th>version</th>\n",
       "      <th>year</th>\n",
       "      <th>km_driven</th>\n",
       "      <th>fuel</th>\n",
       "      <th>seller_type</th>\n",
       "      <th>transmission</th>\n",
       "      <th>owner</th>\n",
       "      <th>mileage</th>\n",
       "      <th>engine</th>\n",
       "      <th>max_power</th>\n",
       "      <th>seats</th>\n",
       "      <th>selling_price</th>\n",
       "    </tr>\n",
       "  </thead>\n",
       "  <tbody>\n",
       "    <tr>\n",
       "      <th>0</th>\n",
       "      <td>Maruti</td>\n",
       "      <td>Swift</td>\n",
       "      <td>Dzire VDI</td>\n",
       "      <td>2014</td>\n",
       "      <td>145500</td>\n",
       "      <td>Diesel</td>\n",
       "      <td>Individual</td>\n",
       "      <td>Manual</td>\n",
       "      <td>First Owner</td>\n",
       "      <td>23.4 kmpl</td>\n",
       "      <td>1248 CC</td>\n",
       "      <td>74 bhp</td>\n",
       "      <td>5.0</td>\n",
       "      <td>450000</td>\n",
       "    </tr>\n",
       "    <tr>\n",
       "      <th>1</th>\n",
       "      <td>Skoda</td>\n",
       "      <td>Rapid</td>\n",
       "      <td>1.5 TDI Ambition</td>\n",
       "      <td>2014</td>\n",
       "      <td>120000</td>\n",
       "      <td>Diesel</td>\n",
       "      <td>Individual</td>\n",
       "      <td>Manual</td>\n",
       "      <td>Second Owner</td>\n",
       "      <td>21.14 kmpl</td>\n",
       "      <td>1498 CC</td>\n",
       "      <td>103.52 bhp</td>\n",
       "      <td>5.0</td>\n",
       "      <td>370000</td>\n",
       "    </tr>\n",
       "    <tr>\n",
       "      <th>2</th>\n",
       "      <td>Honda</td>\n",
       "      <td>City</td>\n",
       "      <td>2017-2020 EXi</td>\n",
       "      <td>2006</td>\n",
       "      <td>140000</td>\n",
       "      <td>Petrol</td>\n",
       "      <td>Individual</td>\n",
       "      <td>Manual</td>\n",
       "      <td>Third Owner</td>\n",
       "      <td>17.7 kmpl</td>\n",
       "      <td>1497 CC</td>\n",
       "      <td>78 bhp</td>\n",
       "      <td>5.0</td>\n",
       "      <td>158000</td>\n",
       "    </tr>\n",
       "    <tr>\n",
       "      <th>3</th>\n",
       "      <td>Hyundai</td>\n",
       "      <td>i20</td>\n",
       "      <td>Sportz Diesel</td>\n",
       "      <td>2010</td>\n",
       "      <td>127000</td>\n",
       "      <td>Diesel</td>\n",
       "      <td>Individual</td>\n",
       "      <td>Manual</td>\n",
       "      <td>First Owner</td>\n",
       "      <td>23.0 kmpl</td>\n",
       "      <td>1396 CC</td>\n",
       "      <td>90 bhp</td>\n",
       "      <td>5.0</td>\n",
       "      <td>225000</td>\n",
       "    </tr>\n",
       "    <tr>\n",
       "      <th>4</th>\n",
       "      <td>Maruti</td>\n",
       "      <td>Swift</td>\n",
       "      <td>VXI BSIII</td>\n",
       "      <td>2007</td>\n",
       "      <td>120000</td>\n",
       "      <td>Petrol</td>\n",
       "      <td>Individual</td>\n",
       "      <td>Manual</td>\n",
       "      <td>First Owner</td>\n",
       "      <td>16.1 kmpl</td>\n",
       "      <td>1298 CC</td>\n",
       "      <td>88.2 bhp</td>\n",
       "      <td>5.0</td>\n",
       "      <td>130000</td>\n",
       "    </tr>\n",
       "  </tbody>\n",
       "</table>\n",
       "</div>"
      ],
      "text/plain": [
       "   company  model           version  year  km_driven    fuel seller_type  \\\n",
       "0   Maruti  Swift         Dzire VDI  2014     145500  Diesel  Individual   \n",
       "1    Skoda  Rapid  1.5 TDI Ambition  2014     120000  Diesel  Individual   \n",
       "2    Honda   City     2017-2020 EXi  2006     140000  Petrol  Individual   \n",
       "3  Hyundai    i20     Sportz Diesel  2010     127000  Diesel  Individual   \n",
       "4   Maruti  Swift         VXI BSIII  2007     120000  Petrol  Individual   \n",
       "\n",
       "  transmission         owner     mileage   engine   max_power  seats  \\\n",
       "0       Manual   First Owner   23.4 kmpl  1248 CC      74 bhp    5.0   \n",
       "1       Manual  Second Owner  21.14 kmpl  1498 CC  103.52 bhp    5.0   \n",
       "2       Manual   Third Owner   17.7 kmpl  1497 CC      78 bhp    5.0   \n",
       "3       Manual   First Owner   23.0 kmpl  1396 CC      90 bhp    5.0   \n",
       "4       Manual   First Owner   16.1 kmpl  1298 CC    88.2 bhp    5.0   \n",
       "\n",
       "   selling_price  \n",
       "0         450000  \n",
       "1         370000  \n",
       "2         158000  \n",
       "3         225000  \n",
       "4         130000  "
      ]
     },
     "execution_count": 363,
     "metadata": {},
     "output_type": "execute_result"
    }
   ],
   "source": [
    "# Spliting Car Model into 3 sub-columns COMPANY, MODEL, VERSION\n",
    "company = []\n",
    "model = []\n",
    "version = []\n",
    "\n",
    "for record in dataset.model.iloc[:].values:\n",
    "    company.append(record.split()[0])\n",
    "    model.append(record.split()[1])\n",
    "    version.append(' '.join(record.split()[2:]))\n",
    "    \n",
    "# Drop the old model column\n",
    "dataset = dataset.drop(columns=['model'], axis=1)\n",
    "\n",
    "# Insert the new three sub-columns\n",
    "dataset.insert(0, \"company\", company, allow_duplicates = True)\n",
    "dataset.insert(1, \"model\", model, allow_duplicates = True)\n",
    "dataset.insert(2, \"version\", version, allow_duplicates = True)\n",
    "\n",
    "dataset.head()"
   ]
  },
  {
   "cell_type": "markdown",
   "id": "dcc46f66",
   "metadata": {
    "id": "dcc46f66"
   },
   "source": [
    "## Standardization"
   ]
  },
  {
   "cell_type": "code",
   "execution_count": 364,
   "id": "0d247312",
   "metadata": {
    "colab": {
     "base_uri": "https://localhost:8080/"
    },
    "id": "0d247312",
    "outputId": "0d3fce0b-a0de-4855-adf9-5451cc972d57"
   },
   "outputs": [
    {
     "name": "stdout",
     "output_type": "stream",
     "text": [
      "The number of rows measured by kmpl : 7819\n",
      "The number of rows measured by km/kg : 88\n"
     ]
    }
   ],
   "source": [
    "records_in_kmkg = 0\n",
    "records_in_kmpl = 0\n",
    "\n",
    "for record in dataset.mileage:\n",
    "    if str(record).endswith(\"kmpl\"):\n",
    "        records_in_kmpl += 1\n",
    "    elif str(record).endswith(\"km/kg\"):\n",
    "        records_in_kmkg += 1\n",
    "        \n",
    "print(f'The number of rows measured by kmpl : {records_in_kmpl}')\n",
    "print(f'The number of rows measured by km/kg : {records_in_kmkg}')"
   ]
  },
  {
   "cell_type": "code",
   "execution_count": 365,
   "id": "1aea3d1b",
   "metadata": {
    "colab": {
     "base_uri": "https://localhost:8080/",
     "height": 0
    },
    "id": "1aea3d1b",
    "outputId": "67121ce7-cf27-4773-f4fe-fb5485eaac09"
   },
   "outputs": [
    {
     "data": {
      "text/html": [
       "<div>\n",
       "<style scoped>\n",
       "    .dataframe tbody tr th:only-of-type {\n",
       "        vertical-align: middle;\n",
       "    }\n",
       "\n",
       "    .dataframe tbody tr th {\n",
       "        vertical-align: top;\n",
       "    }\n",
       "\n",
       "    .dataframe thead th {\n",
       "        text-align: right;\n",
       "    }\n",
       "</style>\n",
       "<table border=\"1\" class=\"dataframe\">\n",
       "  <thead>\n",
       "    <tr style=\"text-align: right;\">\n",
       "      <th></th>\n",
       "      <th>company</th>\n",
       "      <th>model</th>\n",
       "      <th>version</th>\n",
       "      <th>year</th>\n",
       "      <th>km_driven</th>\n",
       "      <th>fuel</th>\n",
       "      <th>seller_type</th>\n",
       "      <th>transmission</th>\n",
       "      <th>owner</th>\n",
       "      <th>mileage</th>\n",
       "      <th>engine</th>\n",
       "      <th>max_power</th>\n",
       "      <th>seats</th>\n",
       "      <th>selling_price</th>\n",
       "    </tr>\n",
       "  </thead>\n",
       "  <tbody>\n",
       "    <tr>\n",
       "      <th>0</th>\n",
       "      <td>Maruti</td>\n",
       "      <td>Swift</td>\n",
       "      <td>Dzire VDI</td>\n",
       "      <td>2014</td>\n",
       "      <td>145500</td>\n",
       "      <td>Diesel</td>\n",
       "      <td>Individual</td>\n",
       "      <td>Manual</td>\n",
       "      <td>First Owner</td>\n",
       "      <td>23.40</td>\n",
       "      <td>1248 CC</td>\n",
       "      <td>74 bhp</td>\n",
       "      <td>5.0</td>\n",
       "      <td>450000</td>\n",
       "    </tr>\n",
       "    <tr>\n",
       "      <th>1</th>\n",
       "      <td>Skoda</td>\n",
       "      <td>Rapid</td>\n",
       "      <td>1.5 TDI Ambition</td>\n",
       "      <td>2014</td>\n",
       "      <td>120000</td>\n",
       "      <td>Diesel</td>\n",
       "      <td>Individual</td>\n",
       "      <td>Manual</td>\n",
       "      <td>Second Owner</td>\n",
       "      <td>21.14</td>\n",
       "      <td>1498 CC</td>\n",
       "      <td>103.52 bhp</td>\n",
       "      <td>5.0</td>\n",
       "      <td>370000</td>\n",
       "    </tr>\n",
       "    <tr>\n",
       "      <th>2</th>\n",
       "      <td>Honda</td>\n",
       "      <td>City</td>\n",
       "      <td>2017-2020 EXi</td>\n",
       "      <td>2006</td>\n",
       "      <td>140000</td>\n",
       "      <td>Petrol</td>\n",
       "      <td>Individual</td>\n",
       "      <td>Manual</td>\n",
       "      <td>Third Owner</td>\n",
       "      <td>17.70</td>\n",
       "      <td>1497 CC</td>\n",
       "      <td>78 bhp</td>\n",
       "      <td>5.0</td>\n",
       "      <td>158000</td>\n",
       "    </tr>\n",
       "    <tr>\n",
       "      <th>3</th>\n",
       "      <td>Hyundai</td>\n",
       "      <td>i20</td>\n",
       "      <td>Sportz Diesel</td>\n",
       "      <td>2010</td>\n",
       "      <td>127000</td>\n",
       "      <td>Diesel</td>\n",
       "      <td>Individual</td>\n",
       "      <td>Manual</td>\n",
       "      <td>First Owner</td>\n",
       "      <td>23.00</td>\n",
       "      <td>1396 CC</td>\n",
       "      <td>90 bhp</td>\n",
       "      <td>5.0</td>\n",
       "      <td>225000</td>\n",
       "    </tr>\n",
       "    <tr>\n",
       "      <th>4</th>\n",
       "      <td>Maruti</td>\n",
       "      <td>Swift</td>\n",
       "      <td>VXI BSIII</td>\n",
       "      <td>2007</td>\n",
       "      <td>120000</td>\n",
       "      <td>Petrol</td>\n",
       "      <td>Individual</td>\n",
       "      <td>Manual</td>\n",
       "      <td>First Owner</td>\n",
       "      <td>16.10</td>\n",
       "      <td>1298 CC</td>\n",
       "      <td>88.2 bhp</td>\n",
       "      <td>5.0</td>\n",
       "      <td>130000</td>\n",
       "    </tr>\n",
       "  </tbody>\n",
       "</table>\n",
       "</div>"
      ],
      "text/plain": [
       "   company  model           version  year  km_driven    fuel seller_type  \\\n",
       "0   Maruti  Swift         Dzire VDI  2014     145500  Diesel  Individual   \n",
       "1    Skoda  Rapid  1.5 TDI Ambition  2014     120000  Diesel  Individual   \n",
       "2    Honda   City     2017-2020 EXi  2006     140000  Petrol  Individual   \n",
       "3  Hyundai    i20     Sportz Diesel  2010     127000  Diesel  Individual   \n",
       "4   Maruti  Swift         VXI BSIII  2007     120000  Petrol  Individual   \n",
       "\n",
       "  transmission         owner  mileage   engine   max_power  seats  \\\n",
       "0       Manual   First Owner    23.40  1248 CC      74 bhp    5.0   \n",
       "1       Manual  Second Owner    21.14  1498 CC  103.52 bhp    5.0   \n",
       "2       Manual   Third Owner    17.70  1497 CC      78 bhp    5.0   \n",
       "3       Manual   First Owner    23.00  1396 CC      90 bhp    5.0   \n",
       "4       Manual   First Owner    16.10  1298 CC    88.2 bhp    5.0   \n",
       "\n",
       "   selling_price  \n",
       "0         450000  \n",
       "1         370000  \n",
       "2         158000  \n",
       "3         225000  \n",
       "4         130000  "
      ]
     },
     "execution_count": 365,
     "metadata": {},
     "output_type": "execute_result"
    }
   ],
   "source": [
    "mileage = dataset.mileage.values[:]\n",
    "\n",
    "for i in range(len(mileage)):\n",
    "    if 'kmpl' in str(mileage[i]):\n",
    "        mileage[i] = float(mileage[i].replace('kmpl', ''))\n",
    "    elif 'km/kg' in str(mileage[i]):\n",
    "        mileage[i] = float(mileage[i].replace('km/kg', '')) * 1.3468\n",
    "    \n",
    "dataset['mileage'] = pd.to_numeric(mileage)\n",
    "dataset.head()"
   ]
  },
  {
   "cell_type": "markdown",
   "id": "ZfTo7_t8O3Qd",
   "metadata": {
    "id": "ZfTo7_t8O3Qd"
   },
   "source": [
    "## Handling NULLs"
   ]
  },
  {
   "cell_type": "code",
   "execution_count": 366,
   "id": "6bb37eb4",
   "metadata": {
    "colab": {
     "base_uri": "https://localhost:8080/",
     "height": 0
    },
    "id": "6bb37eb4",
    "outputId": "9e978916-8e16-4d9c-faff-aef73fd98902"
   },
   "outputs": [
    {
     "data": {
      "text/plain": [
       "<AxesSubplot:>"
      ]
     },
     "execution_count": 366,
     "metadata": {},
     "output_type": "execute_result"
    },
    {
     "data": {
      "image/png": "[encoded data removed]",
      "text/plain": [
       "<Figure size 1800x720 with 2 Axes>"
      ]
     },
     "metadata": {
      "needs_background": "light"
     },
     "output_type": "display_data"
    }
   ],
   "source": [
    "msg.matrix(dataset)"
   ]
  },
  {
   "cell_type": "code",
   "execution_count": 367,
   "id": "rKDYYQPvO8Mn",
   "metadata": {
    "colab": {
     "base_uri": "https://localhost:8080/"
    },
    "id": "rKDYYQPvO8Mn",
    "outputId": "bca7f039-bab6-4d4a-ec28-b9eb009397a1"
   },
   "outputs": [
    {
     "data": {
      "text/plain": [
       "company            0\n",
       "model              0\n",
       "version            0\n",
       "year               0\n",
       "km_driven          0\n",
       "fuel               0\n",
       "seller_type        0\n",
       "transmission       0\n",
       "owner              0\n",
       "mileage          221\n",
       "engine           221\n",
       "max_power        215\n",
       "seats            221\n",
       "selling_price      0\n",
       "dtype: int64"
      ]
     },
     "execution_count": 367,
     "metadata": {},
     "output_type": "execute_result"
    }
   ],
   "source": [
    "dataset.isnull().sum()"
   ]
  },
  {
   "cell_type": "code",
   "execution_count": 368,
   "id": "8g9nVrTTPZB0",
   "metadata": {
    "colab": {
     "base_uri": "https://localhost:8080/"
    },
    "id": "8g9nVrTTPZB0",
    "outputId": "aa701ef5-57ba-4d4a-9d63-578f9ea58914"
   },
   "outputs": [
    {
     "name": "stdout",
     "output_type": "stream",
     "text": [
      "NULLs percentage in: \n",
      "\n",
      "mileage -> 2.72%\n",
      "engine -> 2.72%\n",
      "max power -> 2.65%\n",
      "seats -> 2.72%\n"
     ]
    }
   ],
   "source": [
    "def calcNullsPercentage(column):\n",
    "  return str(format((column.isnull().sum() / len(column)) * 100, '.2f')) +'%'\n",
    "\n",
    "print('NULLs percentage in: \\n')\n",
    "print('mileage -> ' + calcNullsPercentage(dataset.mileage))\n",
    "print('engine -> ' + calcNullsPercentage(dataset.engine))\n",
    "print('max power -> ' + calcNullsPercentage(dataset.max_power))\n",
    "print('seats -> ' + calcNullsPercentage(dataset.seats))"
   ]
  },
  {
   "cell_type": "code",
   "execution_count": 369,
   "id": "pKU8KcxNWsG4",
   "metadata": {
    "colab": {
     "base_uri": "https://localhost:8080/"
    },
    "id": "pKU8KcxNWsG4",
    "outputId": "ea89a7c1-2f46-4f5e-f2b9-9323b237271e"
   },
   "outputs": [
    {
     "name": "stdout",
     "output_type": "stream",
     "text": [
      "company          0\n",
      "model            0\n",
      "version          0\n",
      "year             0\n",
      "km_driven        0\n",
      "fuel             0\n",
      "seller_type      0\n",
      "transmission     0\n",
      "owner            0\n",
      "mileage          0\n",
      "engine           0\n",
      "max_power        0\n",
      "seats            0\n",
      "selling_price    0\n",
      "dtype: int64\n",
      "Cases in Dataset: 7907\n"
     ]
    }
   ],
   "source": [
    "dataset.dropna(axis=0, subset=['mileage'], how= 'any',inplace=True )\n",
    "dataset.dropna(axis=0, subset=['engine'], how= 'any',inplace=True )\n",
    "dataset.dropna(axis=0, subset=['max_power'], how= 'any',inplace=True )\n",
    "dataset.dropna(axis=0, subset=['seats'], how= 'any',inplace=True )\n",
    "\n",
    "print(dataset.isnull().sum())\n",
    "print('Cases in Dataset: ' + str(len(dataset)))"
   ]
  },
  {
   "cell_type": "code",
   "execution_count": 370,
   "id": "nw8mgoE4X2uK",
   "metadata": {
    "colab": {
     "base_uri": "https://localhost:8080/",
     "height": 0
    },
    "id": "nw8mgoE4X2uK",
    "outputId": "742e6ba5-552f-4c93-ae07-eb79c933b94f"
   },
   "outputs": [
    {
     "data": {
      "text/plain": [
       "<AxesSubplot:>"
      ]
     },
     "execution_count": 370,
     "metadata": {},
     "output_type": "execute_result"
    },
    {
     "data": {
      "image/png": "[encoded data removed]",
      "text/plain": [
       "<Figure size 1800x720 with 2 Axes>"
      ]
     },
     "metadata": {
      "needs_background": "light"
     },
     "output_type": "display_data"
    }
   ],
   "source": [
    "msg.matrix(dataset)"
   ]
  },
  {
   "cell_type": "markdown",
   "id": "aa25f14e",
   "metadata": {
    "id": "aa25f14e"
   },
   "source": [
    "## Cleaning Data"
   ]
  },
  {
   "cell_type": "code",
   "execution_count": 371,
   "id": "d720baf2",
   "metadata": {
    "colab": {
     "base_uri": "https://localhost:8080/",
     "height": 0
    },
    "id": "d720baf2",
    "outputId": "49ca3c9b-3ef5-4dcf-ae02-9a2a1bcbd891"
   },
   "outputs": [
    {
     "data": {
      "text/html": [
       "<div>\n",
       "<style scoped>\n",
       "    .dataframe tbody tr th:only-of-type {\n",
       "        vertical-align: middle;\n",
       "    }\n",
       "\n",
       "    .dataframe tbody tr th {\n",
       "        vertical-align: top;\n",
       "    }\n",
       "\n",
       "    .dataframe thead th {\n",
       "        text-align: right;\n",
       "    }\n",
       "</style>\n",
       "<table border=\"1\" class=\"dataframe\">\n",
       "  <thead>\n",
       "    <tr style=\"text-align: right;\">\n",
       "      <th></th>\n",
       "      <th>company</th>\n",
       "      <th>model</th>\n",
       "      <th>version</th>\n",
       "      <th>year</th>\n",
       "      <th>km_driven</th>\n",
       "      <th>fuel</th>\n",
       "      <th>seller_type</th>\n",
       "      <th>transmission</th>\n",
       "      <th>owner</th>\n",
       "      <th>mileage</th>\n",
       "      <th>engine</th>\n",
       "      <th>max_power</th>\n",
       "      <th>seats</th>\n",
       "      <th>selling_price</th>\n",
       "    </tr>\n",
       "  </thead>\n",
       "  <tbody>\n",
       "    <tr>\n",
       "      <th>0</th>\n",
       "      <td>Maruti</td>\n",
       "      <td>Swift</td>\n",
       "      <td>Dzire VDI</td>\n",
       "      <td>2014</td>\n",
       "      <td>145500</td>\n",
       "      <td>Diesel</td>\n",
       "      <td>Individual</td>\n",
       "      <td>Manual</td>\n",
       "      <td>First Owner</td>\n",
       "      <td>23.40</td>\n",
       "      <td>1248</td>\n",
       "      <td>74.00</td>\n",
       "      <td>5.0</td>\n",
       "      <td>450000</td>\n",
       "    </tr>\n",
       "    <tr>\n",
       "      <th>1</th>\n",
       "      <td>Skoda</td>\n",
       "      <td>Rapid</td>\n",
       "      <td>1.5 TDI Ambition</td>\n",
       "      <td>2014</td>\n",
       "      <td>120000</td>\n",
       "      <td>Diesel</td>\n",
       "      <td>Individual</td>\n",
       "      <td>Manual</td>\n",
       "      <td>Second Owner</td>\n",
       "      <td>21.14</td>\n",
       "      <td>1498</td>\n",
       "      <td>103.52</td>\n",
       "      <td>5.0</td>\n",
       "      <td>370000</td>\n",
       "    </tr>\n",
       "    <tr>\n",
       "      <th>2</th>\n",
       "      <td>Honda</td>\n",
       "      <td>City</td>\n",
       "      <td>2017-2020 EXi</td>\n",
       "      <td>2006</td>\n",
       "      <td>140000</td>\n",
       "      <td>Petrol</td>\n",
       "      <td>Individual</td>\n",
       "      <td>Manual</td>\n",
       "      <td>Third Owner</td>\n",
       "      <td>17.70</td>\n",
       "      <td>1497</td>\n",
       "      <td>78.00</td>\n",
       "      <td>5.0</td>\n",
       "      <td>158000</td>\n",
       "    </tr>\n",
       "    <tr>\n",
       "      <th>3</th>\n",
       "      <td>Hyundai</td>\n",
       "      <td>i20</td>\n",
       "      <td>Sportz Diesel</td>\n",
       "      <td>2010</td>\n",
       "      <td>127000</td>\n",
       "      <td>Diesel</td>\n",
       "      <td>Individual</td>\n",
       "      <td>Manual</td>\n",
       "      <td>First Owner</td>\n",
       "      <td>23.00</td>\n",
       "      <td>1396</td>\n",
       "      <td>90.00</td>\n",
       "      <td>5.0</td>\n",
       "      <td>225000</td>\n",
       "    </tr>\n",
       "    <tr>\n",
       "      <th>4</th>\n",
       "      <td>Maruti</td>\n",
       "      <td>Swift</td>\n",
       "      <td>VXI BSIII</td>\n",
       "      <td>2007</td>\n",
       "      <td>120000</td>\n",
       "      <td>Petrol</td>\n",
       "      <td>Individual</td>\n",
       "      <td>Manual</td>\n",
       "      <td>First Owner</td>\n",
       "      <td>16.10</td>\n",
       "      <td>1298</td>\n",
       "      <td>88.20</td>\n",
       "      <td>5.0</td>\n",
       "      <td>130000</td>\n",
       "    </tr>\n",
       "  </tbody>\n",
       "</table>\n",
       "</div>"
      ],
      "text/plain": [
       "   company  model           version  year  km_driven    fuel seller_type  \\\n",
       "0   Maruti  Swift         Dzire VDI  2014     145500  Diesel  Individual   \n",
       "1    Skoda  Rapid  1.5 TDI Ambition  2014     120000  Diesel  Individual   \n",
       "2    Honda   City     2017-2020 EXi  2006     140000  Petrol  Individual   \n",
       "3  Hyundai    i20     Sportz Diesel  2010     127000  Diesel  Individual   \n",
       "4   Maruti  Swift         VXI BSIII  2007     120000  Petrol  Individual   \n",
       "\n",
       "  transmission         owner  mileage  engine  max_power  seats  selling_price  \n",
       "0       Manual   First Owner    23.40    1248      74.00    5.0         450000  \n",
       "1       Manual  Second Owner    21.14    1498     103.52    5.0         370000  \n",
       "2       Manual   Third Owner    17.70    1497      78.00    5.0         158000  \n",
       "3       Manual   First Owner    23.00    1396      90.00    5.0         225000  \n",
       "4       Manual   First Owner    16.10    1298      88.20    5.0         130000  "
      ]
     },
     "execution_count": 371,
     "metadata": {},
     "output_type": "execute_result"
    }
   ],
   "source": [
    "def cleanColumn(column, unit, column_header):\n",
    "  values = column.values\n",
    "  for i in range(len(values)):\n",
    "    values[i] = str(values[i]).replace(unit, '')\n",
    "\n",
    "  dataset[column_header] = pd.to_numeric(values)\n",
    "\n",
    "cleanColumn(dataset.engine, 'CC', 'engine')\n",
    "\n",
    "# print(dataset[(dataset == ' ').any(axis=1)])\n",
    "dataset.drop(labels=4933, axis=0, inplace=True)\n",
    "cleanColumn(dataset.max_power, 'bhp', 'max_power')\n",
    "\n",
    "dataset.head()"
   ]
  },
  {
   "cell_type": "markdown",
   "id": "e034a825",
   "metadata": {
    "id": "e034a825"
   },
   "source": [
    "## Mapping String Values "
   ]
  },
  {
   "cell_type": "code",
   "execution_count": 372,
   "id": "2e43b519",
   "metadata": {
    "id": "2e43b519"
   },
   "outputs": [],
   "source": [
    "# Return a map of values from 0 ... n\n",
    "def mapping_values(column):\n",
    "    unique = column.unique()\n",
    "    valuesMap = {}\n",
    "    \n",
    "    for i in range(len(unique)):\n",
    "        valuesMap[unique[i]] = i\n",
    "     \n",
    "    print(len(valuesMap))\n",
    "    if len(valuesMap) < 100:\n",
    "      print(valuesMap)\n",
    "      print()\n",
    "    \n",
    "    return valuesMap"
   ]
  },
  {
   "cell_type": "code",
   "execution_count": 373,
   "id": "TAbfJJdinSee",
   "metadata": {
    "colab": {
     "base_uri": "https://localhost:8080/"
    },
    "id": "TAbfJJdinSee",
    "outputId": "618b33c8-2de2-47e7-c1a9-3b9f6aafc197"
   },
   "outputs": [
    {
     "name": "stdout",
     "output_type": "stream",
     "text": [
      "1855\n"
     ]
    }
   ],
   "source": [
    "mapping_values(dataset.version)\n",
    "\n",
    "# Drop Version as it contains many unique values\n",
    "dataset = dataset.drop(columns=['version'], axis=1)"
   ]
  },
  {
   "cell_type": "code",
   "execution_count": 374,
   "id": "zmz00lPIqf3K",
   "metadata": {
    "id": "zmz00lPIqf3K"
   },
   "outputs": [],
   "source": [
    "company_map = {}\n",
    "model_map = {}\n",
    "fuel_map = {}\n",
    "seller_map = {}\n",
    "transmission_map = {} \n",
    "owner_map = {}"
   ]
  },
  {
   "cell_type": "code",
   "execution_count": 375,
   "id": "075486d2",
   "metadata": {
    "colab": {
     "base_uri": "https://localhost:8080/",
     "height": 0
    },
    "id": "075486d2",
    "outputId": "cfd14b54-0726-4502-9f8b-adeff251e077"
   },
   "outputs": [
    {
     "data": {
      "text/html": [
       "<div>\n",
       "<style scoped>\n",
       "    .dataframe tbody tr th:only-of-type {\n",
       "        vertical-align: middle;\n",
       "    }\n",
       "\n",
       "    .dataframe tbody tr th {\n",
       "        vertical-align: top;\n",
       "    }\n",
       "\n",
       "    .dataframe thead th {\n",
       "        text-align: right;\n",
       "    }\n",
       "</style>\n",
       "<table border=\"1\" class=\"dataframe\">\n",
       "  <thead>\n",
       "    <tr style=\"text-align: right;\">\n",
       "      <th></th>\n",
       "      <th>company</th>\n",
       "      <th>model</th>\n",
       "      <th>year</th>\n",
       "      <th>km_driven</th>\n",
       "      <th>fuel</th>\n",
       "      <th>seller_type</th>\n",
       "      <th>transmission</th>\n",
       "      <th>owner</th>\n",
       "      <th>mileage</th>\n",
       "      <th>engine</th>\n",
       "      <th>max_power</th>\n",
       "      <th>seats</th>\n",
       "      <th>selling_price</th>\n",
       "    </tr>\n",
       "  </thead>\n",
       "  <tbody>\n",
       "    <tr>\n",
       "      <th>0</th>\n",
       "      <td>Maruti</td>\n",
       "      <td>Swift</td>\n",
       "      <td>2014</td>\n",
       "      <td>145500</td>\n",
       "      <td>Diesel</td>\n",
       "      <td>Individual</td>\n",
       "      <td>Manual</td>\n",
       "      <td>First Owner</td>\n",
       "      <td>23.40</td>\n",
       "      <td>1248</td>\n",
       "      <td>74.00</td>\n",
       "      <td>5.0</td>\n",
       "      <td>450000</td>\n",
       "    </tr>\n",
       "    <tr>\n",
       "      <th>1</th>\n",
       "      <td>Skoda</td>\n",
       "      <td>Rapid</td>\n",
       "      <td>2014</td>\n",
       "      <td>120000</td>\n",
       "      <td>Diesel</td>\n",
       "      <td>Individual</td>\n",
       "      <td>Manual</td>\n",
       "      <td>Second Owner</td>\n",
       "      <td>21.14</td>\n",
       "      <td>1498</td>\n",
       "      <td>103.52</td>\n",
       "      <td>5.0</td>\n",
       "      <td>370000</td>\n",
       "    </tr>\n",
       "    <tr>\n",
       "      <th>2</th>\n",
       "      <td>Honda</td>\n",
       "      <td>City</td>\n",
       "      <td>2006</td>\n",
       "      <td>140000</td>\n",
       "      <td>Petrol</td>\n",
       "      <td>Individual</td>\n",
       "      <td>Manual</td>\n",
       "      <td>Third Owner</td>\n",
       "      <td>17.70</td>\n",
       "      <td>1497</td>\n",
       "      <td>78.00</td>\n",
       "      <td>5.0</td>\n",
       "      <td>158000</td>\n",
       "    </tr>\n",
       "    <tr>\n",
       "      <th>3</th>\n",
       "      <td>Hyundai</td>\n",
       "      <td>i20</td>\n",
       "      <td>2010</td>\n",
       "      <td>127000</td>\n",
       "      <td>Diesel</td>\n",
       "      <td>Individual</td>\n",
       "      <td>Manual</td>\n",
       "      <td>First Owner</td>\n",
       "      <td>23.00</td>\n",
       "      <td>1396</td>\n",
       "      <td>90.00</td>\n",
       "      <td>5.0</td>\n",
       "      <td>225000</td>\n",
       "    </tr>\n",
       "    <tr>\n",
       "      <th>4</th>\n",
       "      <td>Maruti</td>\n",
       "      <td>Swift</td>\n",
       "      <td>2007</td>\n",
       "      <td>120000</td>\n",
       "      <td>Petrol</td>\n",
       "      <td>Individual</td>\n",
       "      <td>Manual</td>\n",
       "      <td>First Owner</td>\n",
       "      <td>16.10</td>\n",
       "      <td>1298</td>\n",
       "      <td>88.20</td>\n",
       "      <td>5.0</td>\n",
       "      <td>130000</td>\n",
       "    </tr>\n",
       "  </tbody>\n",
       "</table>\n",
       "</div>"
      ],
      "text/plain": [
       "   company  model  year  km_driven    fuel seller_type transmission  \\\n",
       "0   Maruti  Swift  2014     145500  Diesel  Individual       Manual   \n",
       "1    Skoda  Rapid  2014     120000  Diesel  Individual       Manual   \n",
       "2    Honda   City  2006     140000  Petrol  Individual       Manual   \n",
       "3  Hyundai    i20  2010     127000  Diesel  Individual       Manual   \n",
       "4   Maruti  Swift  2007     120000  Petrol  Individual       Manual   \n",
       "\n",
       "          owner  mileage  engine  max_power  seats  selling_price  \n",
       "0   First Owner    23.40    1248      74.00    5.0         450000  \n",
       "1  Second Owner    21.14    1498     103.52    5.0         370000  \n",
       "2   Third Owner    17.70    1497      78.00    5.0         158000  \n",
       "3   First Owner    23.00    1396      90.00    5.0         225000  \n",
       "4   First Owner    16.10    1298      88.20    5.0         130000  "
      ]
     },
     "execution_count": 375,
     "metadata": {},
     "output_type": "execute_result"
    }
   ],
   "source": [
    "# Done all the mapping process\n",
    "def perform_mapping():\n",
    "  global company_map, model_map, fuel_map, seller_map, transmission_map, owner_map\n",
    "  company_map = mapping_values(dataset.company)\n",
    "  model_map = mapping_values(dataset.model)\n",
    "  fuel_map = mapping_values(dataset.fuel)\n",
    "  seller_map = mapping_values(dataset.seller_type)\n",
    "  transmission_map = mapping_values(dataset.transmission)\n",
    "  owner_map = mapping_values(dataset.owner)\n",
    "\n",
    "  dataset.company.replace(company_map, inplace=True)\n",
    "  dataset.model.replace(model_map, inplace=True)\n",
    "  dataset.fuel.replace(fuel_map, inplace=True)\n",
    "  dataset.seller_type.replace(seller_map, inplace=True)\n",
    "  dataset.transmission.replace(transmission_map, inplace=True)\n",
    "  dataset.owner.replace(owner_map, inplace=True)\n",
    "\n",
    "# perform_mapping()\n",
    "dataset.head()"
   ]
  },
  {
   "cell_type": "markdown",
   "id": "9M0NRoNbxdXP",
   "metadata": {
    "id": "9M0NRoNbxdXP"
   },
   "source": [
    "# Summarizing Data"
   ]
  },
  {
   "cell_type": "markdown",
   "id": "lV46sHwiriRk",
   "metadata": {
    "id": "lV46sHwiriRk"
   },
   "source": [
    "## Categorical Variables"
   ]
  },
  {
   "cell_type": "code",
   "execution_count": 376,
   "id": "MDlfYmaYxxx_",
   "metadata": {
    "id": "MDlfYmaYxxx_"
   },
   "outputs": [],
   "source": [
    "def categorical_frequency_table(column_header):\n",
    "  frequency = pd.crosstab(index=dataset[column_header], columns='Frequency')\n",
    "  percentage = ((frequency / frequency.sum()) * 100)\n",
    "  frequency.insert(1, \"Percentage\", percentage, allow_duplicates = True)\n",
    "  frequency.insert(2, \"Cumulative Percentage\", percentage.cumsum(), allow_duplicates = True)\n",
    "  return frequency"
   ]
  },
  {
   "cell_type": "code",
   "execution_count": 377,
   "id": "7i0qZyoTdXF0",
   "metadata": {
    "colab": {
     "base_uri": "https://localhost:8080/",
     "height": 1000
    },
    "id": "7i0qZyoTdXF0",
    "outputId": "d41fd590-ad33-4d03-8bfa-df2292d7fcb9"
   },
   "outputs": [
    {
     "data": {
      "text/html": [
       "<div>\n",
       "<style scoped>\n",
       "    .dataframe tbody tr th:only-of-type {\n",
       "        vertical-align: middle;\n",
       "    }\n",
       "\n",
       "    .dataframe tbody tr th {\n",
       "        vertical-align: top;\n",
       "    }\n",
       "\n",
       "    .dataframe thead th {\n",
       "        text-align: right;\n",
       "    }\n",
       "</style>\n",
       "<table border=\"1\" class=\"dataframe\">\n",
       "  <thead>\n",
       "    <tr style=\"text-align: right;\">\n",
       "      <th>col_0</th>\n",
       "      <th>Frequency</th>\n",
       "      <th>Percentage</th>\n",
       "      <th>Cumulative Percentage</th>\n",
       "    </tr>\n",
       "    <tr>\n",
       "      <th>company</th>\n",
       "      <th></th>\n",
       "      <th></th>\n",
       "      <th></th>\n",
       "    </tr>\n",
       "  </thead>\n",
       "  <tbody>\n",
       "    <tr>\n",
       "      <th>Ambassador</th>\n",
       "      <td>4</td>\n",
       "      <td>0.050594</td>\n",
       "      <td>0.050594</td>\n",
       "    </tr>\n",
       "    <tr>\n",
       "      <th>Ashok</th>\n",
       "      <td>1</td>\n",
       "      <td>0.012649</td>\n",
       "      <td>0.063243</td>\n",
       "    </tr>\n",
       "    <tr>\n",
       "      <th>Audi</th>\n",
       "      <td>40</td>\n",
       "      <td>0.505945</td>\n",
       "      <td>0.569188</td>\n",
       "    </tr>\n",
       "    <tr>\n",
       "      <th>BMW</th>\n",
       "      <td>118</td>\n",
       "      <td>1.492537</td>\n",
       "      <td>2.061725</td>\n",
       "    </tr>\n",
       "    <tr>\n",
       "      <th>Chevrolet</th>\n",
       "      <td>230</td>\n",
       "      <td>2.909183</td>\n",
       "      <td>4.970908</td>\n",
       "    </tr>\n",
       "    <tr>\n",
       "      <th>Daewoo</th>\n",
       "      <td>3</td>\n",
       "      <td>0.037946</td>\n",
       "      <td>5.008854</td>\n",
       "    </tr>\n",
       "    <tr>\n",
       "      <th>Datsun</th>\n",
       "      <td>65</td>\n",
       "      <td>0.822160</td>\n",
       "      <td>5.831014</td>\n",
       "    </tr>\n",
       "    <tr>\n",
       "      <th>Fiat</th>\n",
       "      <td>41</td>\n",
       "      <td>0.518593</td>\n",
       "      <td>6.349608</td>\n",
       "    </tr>\n",
       "    <tr>\n",
       "      <th>Force</th>\n",
       "      <td>6</td>\n",
       "      <td>0.075892</td>\n",
       "      <td>6.425500</td>\n",
       "    </tr>\n",
       "    <tr>\n",
       "      <th>Ford</th>\n",
       "      <td>388</td>\n",
       "      <td>4.907665</td>\n",
       "      <td>11.333165</td>\n",
       "    </tr>\n",
       "    <tr>\n",
       "      <th>Honda</th>\n",
       "      <td>466</td>\n",
       "      <td>5.894258</td>\n",
       "      <td>17.227422</td>\n",
       "    </tr>\n",
       "    <tr>\n",
       "      <th>Hyundai</th>\n",
       "      <td>1360</td>\n",
       "      <td>17.202125</td>\n",
       "      <td>34.429547</td>\n",
       "    </tr>\n",
       "    <tr>\n",
       "      <th>Isuzu</th>\n",
       "      <td>5</td>\n",
       "      <td>0.063243</td>\n",
       "      <td>34.492790</td>\n",
       "    </tr>\n",
       "    <tr>\n",
       "      <th>Jaguar</th>\n",
       "      <td>71</td>\n",
       "      <td>0.898052</td>\n",
       "      <td>35.390842</td>\n",
       "    </tr>\n",
       "    <tr>\n",
       "      <th>Jeep</th>\n",
       "      <td>31</td>\n",
       "      <td>0.392107</td>\n",
       "      <td>35.782950</td>\n",
       "    </tr>\n",
       "    <tr>\n",
       "      <th>Kia</th>\n",
       "      <td>4</td>\n",
       "      <td>0.050594</td>\n",
       "      <td>35.833544</td>\n",
       "    </tr>\n",
       "    <tr>\n",
       "      <th>Land</th>\n",
       "      <td>6</td>\n",
       "      <td>0.075892</td>\n",
       "      <td>35.909436</td>\n",
       "    </tr>\n",
       "    <tr>\n",
       "      <th>Lexus</th>\n",
       "      <td>34</td>\n",
       "      <td>0.430053</td>\n",
       "      <td>36.339489</td>\n",
       "    </tr>\n",
       "    <tr>\n",
       "      <th>MG</th>\n",
       "      <td>3</td>\n",
       "      <td>0.037946</td>\n",
       "      <td>36.377435</td>\n",
       "    </tr>\n",
       "    <tr>\n",
       "      <th>Mahindra</th>\n",
       "      <td>758</td>\n",
       "      <td>9.587655</td>\n",
       "      <td>45.965090</td>\n",
       "    </tr>\n",
       "    <tr>\n",
       "      <th>Maruti</th>\n",
       "      <td>2367</td>\n",
       "      <td>29.939287</td>\n",
       "      <td>75.904376</td>\n",
       "    </tr>\n",
       "    <tr>\n",
       "      <th>Mercedes-Benz</th>\n",
       "      <td>54</td>\n",
       "      <td>0.683026</td>\n",
       "      <td>76.587402</td>\n",
       "    </tr>\n",
       "    <tr>\n",
       "      <th>Mitsubishi</th>\n",
       "      <td>14</td>\n",
       "      <td>0.177081</td>\n",
       "      <td>76.764483</td>\n",
       "    </tr>\n",
       "    <tr>\n",
       "      <th>Nissan</th>\n",
       "      <td>81</td>\n",
       "      <td>1.024538</td>\n",
       "      <td>77.789021</td>\n",
       "    </tr>\n",
       "    <tr>\n",
       "      <th>Opel</th>\n",
       "      <td>1</td>\n",
       "      <td>0.012649</td>\n",
       "      <td>77.801670</td>\n",
       "    </tr>\n",
       "    <tr>\n",
       "      <th>Renault</th>\n",
       "      <td>228</td>\n",
       "      <td>2.883886</td>\n",
       "      <td>80.685555</td>\n",
       "    </tr>\n",
       "    <tr>\n",
       "      <th>Skoda</th>\n",
       "      <td>104</td>\n",
       "      <td>1.315457</td>\n",
       "      <td>82.001012</td>\n",
       "    </tr>\n",
       "    <tr>\n",
       "      <th>Tata</th>\n",
       "      <td>719</td>\n",
       "      <td>9.094359</td>\n",
       "      <td>91.095371</td>\n",
       "    </tr>\n",
       "    <tr>\n",
       "      <th>Toyota</th>\n",
       "      <td>452</td>\n",
       "      <td>5.717177</td>\n",
       "      <td>96.812547</td>\n",
       "    </tr>\n",
       "    <tr>\n",
       "      <th>Volkswagen</th>\n",
       "      <td>185</td>\n",
       "      <td>2.339995</td>\n",
       "      <td>99.152542</td>\n",
       "    </tr>\n",
       "    <tr>\n",
       "      <th>Volvo</th>\n",
       "      <td>67</td>\n",
       "      <td>0.847458</td>\n",
       "      <td>100.000000</td>\n",
       "    </tr>\n",
       "  </tbody>\n",
       "</table>\n",
       "</div>"
      ],
      "text/plain": [
       "col_0          Frequency  Percentage  Cumulative Percentage\n",
       "company                                                    \n",
       "Ambassador             4    0.050594               0.050594\n",
       "Ashok                  1    0.012649               0.063243\n",
       "Audi                  40    0.505945               0.569188\n",
       "BMW                  118    1.492537               2.061725\n",
       "Chevrolet            230    2.909183               4.970908\n",
       "Daewoo                 3    0.037946               5.008854\n",
       "Datsun                65    0.822160               5.831014\n",
       "Fiat                  41    0.518593               6.349608\n",
       "Force                  6    0.075892               6.425500\n",
       "Ford                 388    4.907665              11.333165\n",
       "Honda                466    5.894258              17.227422\n",
       "Hyundai             1360   17.202125              34.429547\n",
       "Isuzu                  5    0.063243              34.492790\n",
       "Jaguar                71    0.898052              35.390842\n",
       "Jeep                  31    0.392107              35.782950\n",
       "Kia                    4    0.050594              35.833544\n",
       "Land                   6    0.075892              35.909436\n",
       "Lexus                 34    0.430053              36.339489\n",
       "MG                     3    0.037946              36.377435\n",
       "Mahindra             758    9.587655              45.965090\n",
       "Maruti              2367   29.939287              75.904376\n",
       "Mercedes-Benz         54    0.683026              76.587402\n",
       "Mitsubishi            14    0.177081              76.764483\n",
       "Nissan                81    1.024538              77.789021\n",
       "Opel                   1    0.012649              77.801670\n",
       "Renault              228    2.883886              80.685555\n",
       "Skoda                104    1.315457              82.001012\n",
       "Tata                 719    9.094359              91.095371\n",
       "Toyota               452    5.717177              96.812547\n",
       "Volkswagen           185    2.339995              99.152542\n",
       "Volvo                 67    0.847458             100.000000"
      ]
     },
     "execution_count": 377,
     "metadata": {},
     "output_type": "execute_result"
    }
   ],
   "source": [
    "categorical_frequency_table('company')"
   ]
  },
  {
   "cell_type": "code",
   "execution_count": 378,
   "id": "0c5c6f15",
   "metadata": {
    "colab": {
     "base_uri": "https://localhost:8080/",
     "height": 206
    },
    "id": "0c5c6f15",
    "outputId": "6b2aa259-a9bc-4e5e-86af-55e1c00dfaed"
   },
   "outputs": [
    {
     "data": {
      "text/html": [
       "<div>\n",
       "<style scoped>\n",
       "    .dataframe tbody tr th:only-of-type {\n",
       "        vertical-align: middle;\n",
       "    }\n",
       "\n",
       "    .dataframe tbody tr th {\n",
       "        vertical-align: top;\n",
       "    }\n",
       "\n",
       "    .dataframe thead th {\n",
       "        text-align: right;\n",
       "    }\n",
       "</style>\n",
       "<table border=\"1\" class=\"dataframe\">\n",
       "  <thead>\n",
       "    <tr style=\"text-align: right;\">\n",
       "      <th>col_0</th>\n",
       "      <th>Frequency</th>\n",
       "      <th>Percentage</th>\n",
       "      <th>Cumulative Percentage</th>\n",
       "    </tr>\n",
       "    <tr>\n",
       "      <th>fuel</th>\n",
       "      <th></th>\n",
       "      <th></th>\n",
       "      <th></th>\n",
       "    </tr>\n",
       "  </thead>\n",
       "  <tbody>\n",
       "    <tr>\n",
       "      <th>CNG</th>\n",
       "      <td>52</td>\n",
       "      <td>0.657728</td>\n",
       "      <td>0.657728</td>\n",
       "    </tr>\n",
       "    <tr>\n",
       "      <th>Diesel</th>\n",
       "      <td>4299</td>\n",
       "      <td>54.376423</td>\n",
       "      <td>55.034151</td>\n",
       "    </tr>\n",
       "    <tr>\n",
       "      <th>LPG</th>\n",
       "      <td>35</td>\n",
       "      <td>0.442702</td>\n",
       "      <td>55.476853</td>\n",
       "    </tr>\n",
       "    <tr>\n",
       "      <th>Petrol</th>\n",
       "      <td>3520</td>\n",
       "      <td>44.523147</td>\n",
       "      <td>100.000000</td>\n",
       "    </tr>\n",
       "  </tbody>\n",
       "</table>\n",
       "</div>"
      ],
      "text/plain": [
       "col_0   Frequency  Percentage  Cumulative Percentage\n",
       "fuel                                                \n",
       "CNG            52    0.657728               0.657728\n",
       "Diesel       4299   54.376423              55.034151\n",
       "LPG            35    0.442702              55.476853\n",
       "Petrol       3520   44.523147             100.000000"
      ]
     },
     "execution_count": 378,
     "metadata": {},
     "output_type": "execute_result"
    }
   ],
   "source": [
    "categorical_frequency_table('fuel')"
   ]
  },
  {
   "cell_type": "code",
   "execution_count": 379,
   "id": "QE9XzbuurINe",
   "metadata": {
    "colab": {
     "base_uri": "https://localhost:8080/",
     "height": 174
    },
    "id": "QE9XzbuurINe",
    "outputId": "7bd50c49-7db8-4b4b-e87f-274882d96b2c"
   },
   "outputs": [
    {
     "data": {
      "text/html": [
       "<div>\n",
       "<style scoped>\n",
       "    .dataframe tbody tr th:only-of-type {\n",
       "        vertical-align: middle;\n",
       "    }\n",
       "\n",
       "    .dataframe tbody tr th {\n",
       "        vertical-align: top;\n",
       "    }\n",
       "\n",
       "    .dataframe thead th {\n",
       "        text-align: right;\n",
       "    }\n",
       "</style>\n",
       "<table border=\"1\" class=\"dataframe\">\n",
       "  <thead>\n",
       "    <tr style=\"text-align: right;\">\n",
       "      <th>col_0</th>\n",
       "      <th>Frequency</th>\n",
       "      <th>Percentage</th>\n",
       "      <th>Cumulative Percentage</th>\n",
       "    </tr>\n",
       "    <tr>\n",
       "      <th>seller_type</th>\n",
       "      <th></th>\n",
       "      <th></th>\n",
       "      <th></th>\n",
       "    </tr>\n",
       "  </thead>\n",
       "  <tbody>\n",
       "    <tr>\n",
       "      <th>Dealer</th>\n",
       "      <td>1107</td>\n",
       "      <td>14.002024</td>\n",
       "      <td>14.002024</td>\n",
       "    </tr>\n",
       "    <tr>\n",
       "      <th>Individual</th>\n",
       "      <td>6563</td>\n",
       "      <td>83.012902</td>\n",
       "      <td>97.014925</td>\n",
       "    </tr>\n",
       "    <tr>\n",
       "      <th>Trustmark Dealer</th>\n",
       "      <td>236</td>\n",
       "      <td>2.985075</td>\n",
       "      <td>100.000000</td>\n",
       "    </tr>\n",
       "  </tbody>\n",
       "</table>\n",
       "</div>"
      ],
      "text/plain": [
       "col_0             Frequency  Percentage  Cumulative Percentage\n",
       "seller_type                                                   \n",
       "Dealer                 1107   14.002024              14.002024\n",
       "Individual             6563   83.012902              97.014925\n",
       "Trustmark Dealer        236    2.985075             100.000000"
      ]
     },
     "execution_count": 379,
     "metadata": {},
     "output_type": "execute_result"
    }
   ],
   "source": [
    "categorical_frequency_table('seller_type')"
   ]
  },
  {
   "cell_type": "code",
   "execution_count": 380,
   "id": "wiCJLFOgrJgp",
   "metadata": {
    "colab": {
     "base_uri": "https://localhost:8080/",
     "height": 143
    },
    "id": "wiCJLFOgrJgp",
    "outputId": "a49d0f9b-869b-45d0-ec47-8ee9fa314017"
   },
   "outputs": [
    {
     "data": {
      "text/html": [
       "<div>\n",
       "<style scoped>\n",
       "    .dataframe tbody tr th:only-of-type {\n",
       "        vertical-align: middle;\n",
       "    }\n",
       "\n",
       "    .dataframe tbody tr th {\n",
       "        vertical-align: top;\n",
       "    }\n",
       "\n",
       "    .dataframe thead th {\n",
       "        text-align: right;\n",
       "    }\n",
       "</style>\n",
       "<table border=\"1\" class=\"dataframe\">\n",
       "  <thead>\n",
       "    <tr style=\"text-align: right;\">\n",
       "      <th>col_0</th>\n",
       "      <th>Frequency</th>\n",
       "      <th>Percentage</th>\n",
       "      <th>Cumulative Percentage</th>\n",
       "    </tr>\n",
       "    <tr>\n",
       "      <th>transmission</th>\n",
       "      <th></th>\n",
       "      <th></th>\n",
       "      <th></th>\n",
       "    </tr>\n",
       "  </thead>\n",
       "  <tbody>\n",
       "    <tr>\n",
       "      <th>Automatic</th>\n",
       "      <td>1041</td>\n",
       "      <td>13.167215</td>\n",
       "      <td>13.167215</td>\n",
       "    </tr>\n",
       "    <tr>\n",
       "      <th>Manual</th>\n",
       "      <td>6865</td>\n",
       "      <td>86.832785</td>\n",
       "      <td>100.000000</td>\n",
       "    </tr>\n",
       "  </tbody>\n",
       "</table>\n",
       "</div>"
      ],
      "text/plain": [
       "col_0         Frequency  Percentage  Cumulative Percentage\n",
       "transmission                                              \n",
       "Automatic          1041   13.167215              13.167215\n",
       "Manual             6865   86.832785             100.000000"
      ]
     },
     "execution_count": 380,
     "metadata": {},
     "output_type": "execute_result"
    }
   ],
   "source": [
    "categorical_frequency_table('transmission')"
   ]
  },
  {
   "cell_type": "code",
   "execution_count": 381,
   "id": "aA8kf8y2rKnx",
   "metadata": {
    "colab": {
     "base_uri": "https://localhost:8080/",
     "height": 238
    },
    "id": "aA8kf8y2rKnx",
    "outputId": "3b03c507-bac9-4a12-8ed0-9451bdeb010f"
   },
   "outputs": [
    {
     "data": {
      "text/html": [
       "<div>\n",
       "<style scoped>\n",
       "    .dataframe tbody tr th:only-of-type {\n",
       "        vertical-align: middle;\n",
       "    }\n",
       "\n",
       "    .dataframe tbody tr th {\n",
       "        vertical-align: top;\n",
       "    }\n",
       "\n",
       "    .dataframe thead th {\n",
       "        text-align: right;\n",
       "    }\n",
       "</style>\n",
       "<table border=\"1\" class=\"dataframe\">\n",
       "  <thead>\n",
       "    <tr style=\"text-align: right;\">\n",
       "      <th>col_0</th>\n",
       "      <th>Frequency</th>\n",
       "      <th>Percentage</th>\n",
       "      <th>Cumulative Percentage</th>\n",
       "    </tr>\n",
       "    <tr>\n",
       "      <th>owner</th>\n",
       "      <th></th>\n",
       "      <th></th>\n",
       "      <th></th>\n",
       "    </tr>\n",
       "  </thead>\n",
       "  <tbody>\n",
       "    <tr>\n",
       "      <th>First Owner</th>\n",
       "      <td>5215</td>\n",
       "      <td>65.962560</td>\n",
       "      <td>65.962560</td>\n",
       "    </tr>\n",
       "    <tr>\n",
       "      <th>Fourth &amp; Above Owner</th>\n",
       "      <td>160</td>\n",
       "      <td>2.023779</td>\n",
       "      <td>67.986339</td>\n",
       "    </tr>\n",
       "    <tr>\n",
       "      <th>Second Owner</th>\n",
       "      <td>2016</td>\n",
       "      <td>25.499621</td>\n",
       "      <td>93.485960</td>\n",
       "    </tr>\n",
       "    <tr>\n",
       "      <th>Test Drive Car</th>\n",
       "      <td>5</td>\n",
       "      <td>0.063243</td>\n",
       "      <td>93.549203</td>\n",
       "    </tr>\n",
       "    <tr>\n",
       "      <th>Third Owner</th>\n",
       "      <td>510</td>\n",
       "      <td>6.450797</td>\n",
       "      <td>100.000000</td>\n",
       "    </tr>\n",
       "  </tbody>\n",
       "</table>\n",
       "</div>"
      ],
      "text/plain": [
       "col_0                 Frequency  Percentage  Cumulative Percentage\n",
       "owner                                                             \n",
       "First Owner                5215   65.962560              65.962560\n",
       "Fourth & Above Owner        160    2.023779              67.986339\n",
       "Second Owner               2016   25.499621              93.485960\n",
       "Test Drive Car                5    0.063243              93.549203\n",
       "Third Owner                 510    6.450797             100.000000"
      ]
     },
     "execution_count": 381,
     "metadata": {},
     "output_type": "execute_result"
    }
   ],
   "source": [
    "categorical_frequency_table('owner')"
   ]
  },
  {
   "cell_type": "markdown",
   "id": "Y5bj5EdZUGxM",
   "metadata": {
    "id": "Y5bj5EdZUGxM"
   },
   "source": [
    "# Descriptive Statistical"
   ]
  },
  {
   "cell_type": "markdown",
   "id": "3-BW7cw2X7c7",
   "metadata": {
    "id": "3-BW7cw2X7c7"
   },
   "source": [
    "## Centeral Tendency"
   ]
  },
  {
   "cell_type": "markdown",
   "id": "RzG7ji_MX_LC",
   "metadata": {
    "id": "RzG7ji_MX_LC"
   },
   "source": [
    "### Mean\n"
   ]
  },
  {
   "cell_type": "code",
   "execution_count": 382,
   "id": "4MCQtpeXrff2",
   "metadata": {
    "colab": {
     "base_uri": "https://localhost:8080/"
    },
    "id": "4MCQtpeXrff2",
    "outputId": "9e7b0253-3ade-4cf5-e7ed-e479b1050b11"
   },
   "outputs": [
    {
     "data": {
      "text/plain": [
       "year               2013.983936\n",
       "km_driven         69188.659752\n",
       "mileage              19.504086\n",
       "engine             1458.708829\n",
       "max_power            91.587374\n",
       "seats                 5.416393\n",
       "selling_price    649813.720845\n",
       "dtype: float64"
      ]
     },
     "execution_count": 382,
     "metadata": {},
     "output_type": "execute_result"
    }
   ],
   "source": [
    "dataset.mean()"
   ]
  },
  {
   "cell_type": "markdown",
   "id": "_LNWuO2VcvPF",
   "metadata": {
    "id": "_LNWuO2VcvPF"
   },
   "source": [
    "### Median"
   ]
  },
  {
   "cell_type": "code",
   "execution_count": 383,
   "id": "vBxlyGA5rfhz",
   "metadata": {
    "colab": {
     "base_uri": "https://localhost:8080/",
     "height": 286
    },
    "id": "vBxlyGA5rfhz",
    "outputId": "986e0812-d4bf-43ae-b09f-bba02bd5bec2"
   },
   "outputs": [
    {
     "data": {
      "text/plain": [
       "year               2015.00\n",
       "km_driven         60000.00\n",
       "mileage              19.33\n",
       "engine             1248.00\n",
       "max_power            82.00\n",
       "seats                 5.00\n",
       "selling_price    450000.00\n",
       "dtype: float64"
      ]
     },
     "execution_count": 383,
     "metadata": {},
     "output_type": "execute_result"
    }
   ],
   "source": [
    "dataset.median()"
   ]
  },
  {
   "cell_type": "markdown",
   "id": "ef7c5a4f",
   "metadata": {
    "id": "IPKQxLQVrfjg"
   },
   "source": [
    "### Mode"
   ]
  },
  {
   "cell_type": "code",
   "execution_count": 384,
   "id": "7LNhxDgRrfm9",
   "metadata": {
    "id": "7LNhxDgRrfm9"
   },
   "outputs": [
    {
     "data": {
      "text/html": [
       "<div>\n",
       "<style scoped>\n",
       "    .dataframe tbody tr th:only-of-type {\n",
       "        vertical-align: middle;\n",
       "    }\n",
       "\n",
       "    .dataframe tbody tr th {\n",
       "        vertical-align: top;\n",
       "    }\n",
       "\n",
       "    .dataframe thead th {\n",
       "        text-align: right;\n",
       "    }\n",
       "</style>\n",
       "<table border=\"1\" class=\"dataframe\">\n",
       "  <thead>\n",
       "    <tr style=\"text-align: right;\">\n",
       "      <th></th>\n",
       "      <th>company</th>\n",
       "      <th>model</th>\n",
       "      <th>year</th>\n",
       "      <th>km_driven</th>\n",
       "      <th>fuel</th>\n",
       "      <th>seller_type</th>\n",
       "      <th>transmission</th>\n",
       "      <th>owner</th>\n",
       "      <th>mileage</th>\n",
       "      <th>engine</th>\n",
       "      <th>max_power</th>\n",
       "      <th>seats</th>\n",
       "      <th>selling_price</th>\n",
       "    </tr>\n",
       "  </thead>\n",
       "  <tbody>\n",
       "    <tr>\n",
       "      <th>0</th>\n",
       "      <td>Maruti</td>\n",
       "      <td>Swift</td>\n",
       "      <td>2017</td>\n",
       "      <td>120000</td>\n",
       "      <td>Diesel</td>\n",
       "      <td>Individual</td>\n",
       "      <td>Manual</td>\n",
       "      <td>First Owner</td>\n",
       "      <td>18.9</td>\n",
       "      <td>1248</td>\n",
       "      <td>74.0</td>\n",
       "      <td>5.0</td>\n",
       "      <td>300000</td>\n",
       "    </tr>\n",
       "  </tbody>\n",
       "</table>\n",
       "</div>"
      ],
      "text/plain": [
       "  company  model  year  km_driven    fuel seller_type transmission  \\\n",
       "0  Maruti  Swift  2017     120000  Diesel  Individual       Manual   \n",
       "\n",
       "         owner  mileage  engine  max_power  seats  selling_price  \n",
       "0  First Owner     18.9    1248       74.0    5.0         300000  "
      ]
     },
     "execution_count": 384,
     "metadata": {},
     "output_type": "execute_result"
    }
   ],
   "source": [
    "dataset.mode()"
   ]
  },
  {
   "cell_type": "markdown",
   "id": "b1df6a87",
   "metadata": {},
   "source": [
    "# Measures of Dispersion"
   ]
  },
  {
   "cell_type": "markdown",
   "id": "bb1a9413",
   "metadata": {},
   "source": [
    "## Range"
   ]
  },
  {
   "cell_type": "code",
   "execution_count": 385,
   "id": "7e37c262",
   "metadata": {},
   "outputs": [
    {
     "data": {
      "text/html": [
       "<div>\n",
       "<style scoped>\n",
       "    .dataframe tbody tr th:only-of-type {\n",
       "        vertical-align: middle;\n",
       "    }\n",
       "\n",
       "    .dataframe tbody tr th {\n",
       "        vertical-align: top;\n",
       "    }\n",
       "\n",
       "    .dataframe thead th {\n",
       "        text-align: right;\n",
       "    }\n",
       "</style>\n",
       "<table border=\"1\" class=\"dataframe\">\n",
       "  <thead>\n",
       "    <tr style=\"text-align: right;\">\n",
       "      <th></th>\n",
       "      <th>year</th>\n",
       "      <th>km_driven</th>\n",
       "      <th>mileage</th>\n",
       "      <th>engine</th>\n",
       "      <th>max_power</th>\n",
       "      <th>selling_price</th>\n",
       "    </tr>\n",
       "  </thead>\n",
       "  <tbody>\n",
       "    <tr>\n",
       "      <th>0</th>\n",
       "      <td>26</td>\n",
       "      <td>2360456</td>\n",
       "      <td>2980</td>\n",
       "      <td>367.2</td>\n",
       "      <td>12.0</td>\n",
       "      <td>9970001</td>\n",
       "    </tr>\n",
       "  </tbody>\n",
       "</table>\n",
       "</div>"
      ],
      "text/plain": [
       "   year  km_driven  mileage  engine  max_power  selling_price\n",
       "0    26    2360456     2980   367.2       12.0        9970001"
      ]
     },
     "execution_count": 385,
     "metadata": {},
     "output_type": "execute_result"
    }
   ],
   "source": [
    "pd.DataFrame({\n",
    "    'year' : [np.ptp(dataset.year)],\n",
    "    'km_driven' : [np.ptp(dataset.km_driven)],\n",
    "    'mileage' : [np.ptp(dataset.engine)],\n",
    "    'engine' : [np.ptp(dataset.max_power)],\n",
    "    'max_power' : [np.ptp(dataset.seats)],\n",
    "    'selling_price' : [np.ptp(dataset.selling_price)]\n",
    "})"
   ]
  },
  {
   "cell_type": "markdown",
   "id": "7af0b3c1",
   "metadata": {},
   "source": [
    "## InterQuartile Range"
   ]
  },
  {
   "cell_type": "code",
   "execution_count": 386,
   "id": "291ea303",
   "metadata": {},
   "outputs": [
    {
     "data": {
      "text/html": [
       "<div>\n",
       "<style scoped>\n",
       "    .dataframe tbody tr th:only-of-type {\n",
       "        vertical-align: middle;\n",
       "    }\n",
       "\n",
       "    .dataframe tbody tr th {\n",
       "        vertical-align: top;\n",
       "    }\n",
       "\n",
       "    .dataframe thead th {\n",
       "        text-align: right;\n",
       "    }\n",
       "</style>\n",
       "<table border=\"1\" class=\"dataframe\">\n",
       "  <thead>\n",
       "    <tr style=\"text-align: right;\">\n",
       "      <th></th>\n",
       "      <th>year</th>\n",
       "      <th>km_driven</th>\n",
       "      <th>mileage</th>\n",
       "      <th>engine</th>\n",
       "      <th>max_power</th>\n",
       "      <th>selling_price</th>\n",
       "    </tr>\n",
       "  </thead>\n",
       "  <tbody>\n",
       "    <tr>\n",
       "      <th>0</th>\n",
       "      <td>5.0</td>\n",
       "      <td>60425.0</td>\n",
       "      <td>5.54</td>\n",
       "      <td>385.0</td>\n",
       "      <td>33.95</td>\n",
       "      <td>420000.0</td>\n",
       "    </tr>\n",
       "  </tbody>\n",
       "</table>\n",
       "</div>"
      ],
      "text/plain": [
       "   year  km_driven  mileage  engine  max_power  selling_price\n",
       "0   5.0    60425.0     5.54   385.0      33.95       420000.0"
      ]
     },
     "execution_count": 386,
     "metadata": {},
     "output_type": "execute_result"
    }
   ],
   "source": [
    "# np.percentile(, 25) --> Q1\n",
    "# np.percentile(, 50) --> Q2\n",
    "# np.percentile(, 75) --> Q3\n",
    "def calc_IQR(column):\n",
    "    return np.percentile(column, 75) - np.percentile(column, 25)\n",
    "\n",
    "pd.DataFrame({\n",
    "    'year' : [calc_IQR(dataset.year)],\n",
    "    'km_driven' : [calc_IQR(dataset.km_driven)],\n",
    "    'mileage' : [calc_IQR(dataset.mileage)],\n",
    "    'engine' : [calc_IQR(dataset.engine)],\n",
    "    'max_power' : [calc_IQR(dataset.max_power)],\n",
    "    'selling_price' : [calc_IQR(dataset.selling_price)]\n",
    "})"
   ]
  },
  {
   "cell_type": "markdown",
   "id": "e3c99856",
   "metadata": {},
   "source": [
    "## Variance"
   ]
  },
  {
   "cell_type": "code",
   "execution_count": 387,
   "id": "1fcdc361",
   "metadata": {},
   "outputs": [
    {
     "data": {
      "text/html": [
       "<div>\n",
       "<style scoped>\n",
       "    .dataframe tbody tr th:only-of-type {\n",
       "        vertical-align: middle;\n",
       "    }\n",
       "\n",
       "    .dataframe tbody tr th {\n",
       "        vertical-align: top;\n",
       "    }\n",
       "\n",
       "    .dataframe thead th {\n",
       "        text-align: right;\n",
       "    }\n",
       "</style>\n",
       "<table border=\"1\" class=\"dataframe\">\n",
       "  <thead>\n",
       "    <tr style=\"text-align: right;\">\n",
       "      <th></th>\n",
       "      <th>year</th>\n",
       "      <th>km_driven</th>\n",
       "      <th>mileage</th>\n",
       "      <th>engine</th>\n",
       "      <th>max_power</th>\n",
       "      <th>selling_price</th>\n",
       "    </tr>\n",
       "  </thead>\n",
       "  <tbody>\n",
       "    <tr>\n",
       "      <th>0</th>\n",
       "      <td>14.92814</td>\n",
       "      <td>3225364923.94723</td>\n",
       "      <td>17.68095</td>\n",
       "      <td>253908.21274</td>\n",
       "      <td>1277.86346</td>\n",
       "      <td>661916888419.46741</td>\n",
       "    </tr>\n",
       "  </tbody>\n",
       "</table>\n",
       "</div>"
      ],
      "text/plain": [
       "       year         km_driven   mileage        engine   max_power  \\\n",
       "0  14.92814  3225364923.94723  17.68095  253908.21274  1277.86346   \n",
       "\n",
       "        selling_price  \n",
       "0  661916888419.46741  "
      ]
     },
     "execution_count": 387,
     "metadata": {},
     "output_type": "execute_result"
    }
   ],
   "source": [
    "pd.DataFrame({\n",
    "    'year' : [format(dataset.year.var(), '.5f')],\n",
    "    'km_driven' : [format(dataset.km_driven.var(), '.5f')],\n",
    "    'mileage' : [format(dataset.mileage.var(), '.5f')],\n",
    "    'engine' : [format(dataset.engine.var(), '.5f')],\n",
    "    'max_power' : [format(dataset.max_power.var(), '.5f')],\n",
    "    'selling_price' : [format(dataset.selling_price.var(), '.5f')]\n",
    "})"
   ]
  },
  {
   "cell_type": "markdown",
   "id": "6a4cb32f",
   "metadata": {},
   "source": [
    "## Standard Deviation"
   ]
  },
  {
   "cell_type": "code",
   "execution_count": 388,
   "id": "82c74295",
   "metadata": {},
   "outputs": [
    {
     "data": {
      "text/plain": [
       "year                  3.863695\n",
       "km_driven         56792.296343\n",
       "mileage               4.204873\n",
       "engine              503.893057\n",
       "max_power            35.747216\n",
       "seats                 0.959208\n",
       "selling_price    813582.748354\n",
       "dtype: float64"
      ]
     },
     "execution_count": 388,
     "metadata": {},
     "output_type": "execute_result"
    }
   ],
   "source": [
    "dataset.std()"
   ]
  },
  {
   "cell_type": "markdown",
   "id": "85df7d7e",
   "metadata": {},
   "source": [
    "# Visualising Data"
   ]
  },
  {
   "cell_type": "markdown",
   "id": "ea5c4327",
   "metadata": {},
   "source": [
    "## Pie Chart"
   ]
  },
  {
   "cell_type": "code",
   "execution_count": 389,
   "id": "c563b740",
   "metadata": {},
   "outputs": [],
   "source": [
    "def pieChart(column, column_header):\n",
    "    freq = pd.crosstab(index=dataset[column_header], columns='freq').values\n",
    "    freq = freq.reshape(len(freq))\n",
    "\n",
    "    label = column.unique()\n",
    "    label.sort()\n",
    "\n",
    "    fig, ax = plt.subplots(figsize=(4, 4))\n",
    "    ax.pie(freq, labels=label, autopct='%1.1f%%')\n",
    "    plt.show()"
   ]
  },
  {
   "cell_type": "code",
   "execution_count": 390,
   "id": "fba19469",
   "metadata": {},
   "outputs": [
    {
     "data": {
      "image/png": "[encoded data removed]",
      "text/plain": [
       "<Figure size 288x288 with 1 Axes>"
      ]
     },
     "metadata": {},
     "output_type": "display_data"
    }
   ],
   "source": [
    "pieChart(dataset.fuel, 'fuel')"
   ]
  },
  {
   "cell_type": "code",
   "execution_count": 391,
   "id": "389c799b",
   "metadata": {},
   "outputs": [
    {
     "data": {
      "image/png": "[encoded data removed]",
      "text/plain": [
       "<Figure size 288x288 with 1 Axes>"
      ]
     },
     "metadata": {},
     "output_type": "display_data"
    }
   ],
   "source": [
    "pieChart(dataset.seller_type, 'seller_type')"
   ]
  },
  {
   "cell_type": "code",
   "execution_count": 392,
   "id": "53d2a43e",
   "metadata": {},
   "outputs": [
    {
     "data": {
      "image/png": "[encoded data removed]",
      "text/plain": [
       "<Figure size 288x288 with 1 Axes>"
      ]
     },
     "metadata": {},
     "output_type": "display_data"
    }
   ],
   "source": [
    "pieChart(dataset.transmission, 'transmission')"
   ]
  },
  {
   "cell_type": "code",
   "execution_count": 393,
   "id": "9b4ba026",
   "metadata": {},
   "outputs": [
    {
     "data": {
      "image/png": "[encoded data removed]",
      "text/plain": [
       "<Figure size 288x288 with 1 Axes>"
      ]
     },
     "metadata": {},
     "output_type": "display_data"
    }
   ],
   "source": [
    "pieChart(dataset.owner, 'owner')"
   ]
  },
  {
   "cell_type": "markdown",
   "id": "9a479775",
   "metadata": {},
   "source": [
    "## Bar Graph"
   ]
  },
  {
   "cell_type": "code",
   "execution_count": 394,
   "id": "5a42be51",
   "metadata": {},
   "outputs": [],
   "source": [
    "def barGraph(column, column_header):\n",
    "    label = column.unique()\n",
    "    label.sort()\n",
    "\n",
    "    freq = pd.crosstab(index=dataset[column_header], columns='freq').values\n",
    "    freq = freq.reshape(len(freq))\n",
    "\n",
    "    fig, ax = plt.subplots(figsize=(30, 10))\n",
    "    ax.bar(label, freq)\n",
    "    ax.set_xlabel(column_header)\n",
    "    ax.set_ylabel('Frequency')\n",
    "    plt.show()"
   ]
  },
  {
   "cell_type": "code",
   "execution_count": 395,
   "id": "5682535c",
   "metadata": {},
   "outputs": [
    {
     "data": {
      "image/png": "[encoded data removed]",
      "text/plain": [
       "<Figure size 2160x720 with 1 Axes>"
      ]
     },
     "metadata": {
      "needs_background": "light"
     },
     "output_type": "display_data"
    }
   ],
   "source": [
    "barGraph(dataset.company, 'company')"
   ]
  },
  {
   "cell_type": "markdown",
   "id": "7cadb4c2",
   "metadata": {},
   "source": [
    "## Box Plot"
   ]
  },
  {
   "cell_type": "code",
   "execution_count": 396,
   "id": "012ed443",
   "metadata": {},
   "outputs": [
    {
     "data": {
      "image/png": "[encoded data removed]",
      "text/plain": [
       "<Figure size 1080x360 with 1 Axes>"
      ]
     },
     "metadata": {
      "needs_background": "light"
     },
     "output_type": "display_data"
    }
   ],
   "source": [
    "fig, ax = plt.subplots(figsize=(15, 5))\n",
    "ax.boxplot(dataset.year.values, vert=False, showmeans=True, meanline=True,\n",
    "    labels='x', patch_artist=True,\n",
    "    medianprops={'linewidth': 2, 'color': 'purple'},\n",
    "    meanprops={'linewidth': 2, 'color': 'red'})\n",
    "plt.show()"
   ]
  },
  {
   "cell_type": "code",
   "execution_count": 397,
   "id": "800cc20e",
   "metadata": {},
   "outputs": [
    {
     "data": {
      "image/png": "[encoded data removed]",
      "text/plain": [
       "<Figure size 1080x360 with 1 Axes>"
      ]
     },
     "metadata": {
      "needs_background": "light"
     },
     "output_type": "display_data"
    }
   ],
   "source": [
    "fig, ax = plt.subplots(figsize=(15, 5))\n",
    "ax.boxplot(dataset.km_driven.values, vert=False, showmeans=True, meanline=True,\n",
    "    labels='x', patch_artist=True,\n",
    "    medianprops={'linewidth': 2, 'color': 'purple'},\n",
    "    meanprops={'linewidth': 2, 'color': 'red'})\n",
    "plt.show()"
   ]
  },
  {
   "cell_type": "code",
   "execution_count": 398,
   "id": "4cb80089",
   "metadata": {},
   "outputs": [
    {
     "data": {
      "image/png": "[encoded data removed]",
      "text/plain": [
       "<Figure size 1080x360 with 1 Axes>"
      ]
     },
     "metadata": {
      "needs_background": "light"
     },
     "output_type": "display_data"
    }
   ],
   "source": [
    "fig, ax = plt.subplots(figsize=(15, 5))\n",
    "ax.boxplot(dataset.mileage.values, vert=False, showmeans=True, meanline=True,\n",
    "    labels='x', patch_artist=True,\n",
    "    medianprops={'linewidth': 2, 'color': 'purple'},\n",
    "    meanprops={'linewidth': 2, 'color': 'red'})\n",
    "plt.show()"
   ]
  },
  {
   "cell_type": "code",
   "execution_count": 399,
   "id": "30d82eb2",
   "metadata": {},
   "outputs": [
    {
     "data": {
      "image/png": "[encoded data removed]",
      "text/plain": [
       "<Figure size 1080x360 with 1 Axes>"
      ]
     },
     "metadata": {
      "needs_background": "light"
     },
     "output_type": "display_data"
    }
   ],
   "source": [
    "fig, ax = plt.subplots(figsize=(15, 5))\n",
    "ax.boxplot(dataset.engine.values, vert=False, showmeans=True, meanline=True,\n",
    "    labels='x', patch_artist=True,\n",
    "    medianprops={'linewidth': 2, 'color': 'purple'},\n",
    "    meanprops={'linewidth': 2, 'color': 'red'})\n",
    "plt.show()"
   ]
  },
  {
   "cell_type": "code",
   "execution_count": 400,
   "id": "03eb6794",
   "metadata": {},
   "outputs": [
    {
     "data": {
      "image/png": "[encoded data removed]",
      "text/plain": [
       "<Figure size 1080x360 with 1 Axes>"
      ]
     },
     "metadata": {
      "needs_background": "light"
     },
     "output_type": "display_data"
    }
   ],
   "source": [
    "fig, ax = plt.subplots(figsize=(15, 5))\n",
    "ax.boxplot(dataset.max_power.values, vert=False, showmeans=True, meanline=True,\n",
    "    labels='x', patch_artist=True,\n",
    "    medianprops={'linewidth': 2, 'color': 'purple'},\n",
    "    meanprops={'linewidth': 2, 'color': 'red'})\n",
    "plt.show()"
   ]
  },
  {
   "cell_type": "code",
   "execution_count": 401,
   "id": "acf24075",
   "metadata": {},
   "outputs": [
    {
     "data": {
      "image/png": "[encoded data removed]",
      "text/plain": [
       "<Figure size 1080x360 with 1 Axes>"
      ]
     },
     "metadata": {
      "needs_background": "light"
     },
     "output_type": "display_data"
    }
   ],
   "source": [
    "fig, ax = plt.subplots(figsize=(15, 5))\n",
    "ax.boxplot(dataset.selling_price.values, vert=False, showmeans=True, meanline=True,\n",
    "    labels='x', patch_artist=True,\n",
    "    medianprops={'linewidth': 2, 'color': 'purple'},\n",
    "    meanprops={'linewidth': 2, 'color': 'red'})\n",
    "plt.show()"
   ]
  },
  {
   "cell_type": "markdown",
   "id": "aee547f9",
   "metadata": {},
   "source": [
    "## Histograms"
   ]
  },
  {
   "cell_type": "code",
   "execution_count": 402,
   "id": "c87468cc",
   "metadata": {},
   "outputs": [
    {
     "data": {
      "image/png": "[encoded data removed]",
      "text/plain": [
       "<Figure size 1080x360 with 1 Axes>"
      ]
     },
     "metadata": {
      "needs_background": "light"
     },
     "output_type": "display_data"
    }
   ],
   "source": [
    "hist, bin_edges = np.histogram(dataset.km_driven.values, bins=int(np.sqrt(len(dataset.km_driven))))\n",
    "\n",
    "fig, ax = plt.subplots(figsize=(15, 5))\n",
    "ax.hist(dataset.km_driven.values, bin_edges, cumulative=False)\n",
    "ax.set_xlabel('Km Driven')\n",
    "ax.set_ylabel('Frequency')\n",
    "plt.show()"
   ]
  },
  {
   "cell_type": "code",
   "execution_count": 403,
   "id": "ead8196a",
   "metadata": {},
   "outputs": [
    {
     "data": {
      "image/png": "[encoded data removed]",
      "text/plain": [
       "<Figure size 1080x360 with 1 Axes>"
      ]
     },
     "metadata": {
      "needs_background": "light"
     },
     "output_type": "display_data"
    }
   ],
   "source": [
    "hist, bin_edges = np.histogram(dataset.mileage.values, bins=int(np.sqrt(len(dataset.mileage))))\n",
    "\n",
    "fig, ax = plt.subplots(figsize=(15, 5))\n",
    "ax.hist(dataset.mileage.values, bin_edges, cumulative=False)\n",
    "ax.set_xlabel('Mileage')\n",
    "ax.set_ylabel('Frequency')\n",
    "plt.show()"
   ]
  },
  {
   "cell_type": "code",
   "execution_count": 404,
   "id": "3307a8d2",
   "metadata": {},
   "outputs": [
    {
     "data": {
      "image/png": "[encoded data removed]",
      "text/plain": [
       "<Figure size 1080x360 with 1 Axes>"
      ]
     },
     "metadata": {
      "needs_background": "light"
     },
     "output_type": "display_data"
    }
   ],
   "source": [
    "hist, bin_edges = np.histogram(dataset.engine.values, bins=int(np.sqrt(len(dataset.engine))))\n",
    "\n",
    "fig, ax = plt.subplots(figsize=(15, 5))\n",
    "ax.hist(dataset.engine.values, bin_edges, cumulative=False)\n",
    "ax.set_xlabel('Engine Capacity')\n",
    "ax.set_ylabel('Frequency')\n",
    "plt.show()"
   ]
  },
  {
   "cell_type": "code",
   "execution_count": 405,
   "id": "c2d7f209",
   "metadata": {},
   "outputs": [
    {
     "data": {
      "image/png": "[encoded data removed]",
      "text/plain": [
       "<Figure size 1080x360 with 1 Axes>"
      ]
     },
     "metadata": {
      "needs_background": "light"
     },
     "output_type": "display_data"
    }
   ],
   "source": [
    "hist, bin_edges = np.histogram(dataset.max_power.values, bins=int(np.sqrt(len(dataset.max_power))))\n",
    "\n",
    "fig, ax = plt.subplots(figsize=(15, 5))\n",
    "ax.hist(dataset.max_power.values, bin_edges, cumulative=False)\n",
    "ax.set_xlabel('Max Power')\n",
    "ax.set_ylabel('Frequency')\n",
    "plt.show()"
   ]
  },
  {
   "cell_type": "code",
   "execution_count": 406,
   "id": "8820131a",
   "metadata": {},
   "outputs": [
    {
     "data": {
      "image/png": "[encoded data removed]",
      "text/plain": [
       "<Figure size 1080x360 with 1 Axes>"
      ]
     },
     "metadata": {
      "needs_background": "light"
     },
     "output_type": "display_data"
    }
   ],
   "source": [
    "hist, bin_edges = np.histogram(dataset.selling_price.values, bins=int(np.sqrt(len(dataset.selling_price))))\n",
    "\n",
    "fig, ax = plt.subplots(figsize=(15, 5))\n",
    "ax.hist(dataset.selling_price.values, bin_edges, cumulative=False)\n",
    "ax.set_xlabel('Selling Price')\n",
    "ax.set_ylabel('Frequency')\n",
    "plt.show()"
   ]
  },
  {
   "cell_type": "markdown",
   "id": "36cd5dc8",
   "metadata": {},
   "source": [
    "# Measures of Correlation "
   ]
  },
  {
   "cell_type": "code",
   "execution_count": 407,
   "id": "b962bf1a",
   "metadata": {},
   "outputs": [
    {
     "data": {
      "text/plain": [
       "0.4123015581711659"
      ]
     },
     "execution_count": 407,
     "metadata": {},
     "output_type": "execute_result"
    }
   ],
   "source": [
    "# Year , Selling Price\n",
    "dataset.year.corr(dataset.selling_price)"
   ]
  },
  {
   "cell_type": "code",
   "execution_count": 408,
   "id": "728942bf",
   "metadata": {},
   "outputs": [
    {
     "data": {
      "text/plain": [
       "-0.22215847533483776"
      ]
     },
     "execution_count": 408,
     "metadata": {},
     "output_type": "execute_result"
    }
   ],
   "source": [
    "# km driven , Selling Price\n",
    "dataset.km_driven.corr(dataset.selling_price)"
   ]
  },
  {
   "cell_type": "code",
   "execution_count": 409,
   "id": "7042a19d",
   "metadata": {},
   "outputs": [
    {
     "data": {
      "text/plain": [
       "-0.1301727835191734"
      ]
     },
     "execution_count": 409,
     "metadata": {},
     "output_type": "execute_result"
    }
   ],
   "source": [
    "# Mileage , Selling Price\n",
    "dataset.mileage.corr(dataset.selling_price)"
   ]
  },
  {
   "cell_type": "code",
   "execution_count": 410,
   "id": "2fb11b49",
   "metadata": {},
   "outputs": [
    {
     "data": {
      "text/plain": [
       "0.4556818000356144"
      ]
     },
     "execution_count": 410,
     "metadata": {},
     "output_type": "execute_result"
    }
   ],
   "source": [
    "# Engine , Selling Price\n",
    "dataset.engine.corr(dataset.selling_price)"
   ]
  },
  {
   "cell_type": "code",
   "execution_count": 411,
   "id": "cd890af8",
   "metadata": {},
   "outputs": [
    {
     "data": {
      "text/plain": [
       "0.7496737800444901"
      ]
     },
     "execution_count": 411,
     "metadata": {},
     "output_type": "execute_result"
    }
   ],
   "source": [
    "# Max power , Selling Price\n",
    "dataset.max_power.corr(dataset.selling_price)"
   ]
  },
  {
   "cell_type": "code",
   "execution_count": 412,
   "id": "260a144d",
   "metadata": {},
   "outputs": [
    {
     "data": {
      "text/plain": [
       "0.04161669383026344"
      ]
     },
     "execution_count": 412,
     "metadata": {},
     "output_type": "execute_result"
    }
   ],
   "source": [
    "# seats , Selling Price\n",
    "dataset.seats.corr(dataset.selling_price)"
   ]
  },
  {
   "cell_type": "code",
   "execution_count": 413,
   "id": "e54fb84a",
   "metadata": {
    "id": "33EI-C2QYdAL"
   },
   "outputs": [
    {
     "data": {
      "text/html": [
       "<div>\n",
       "<style scoped>\n",
       "    .dataframe tbody tr th:only-of-type {\n",
       "        vertical-align: middle;\n",
       "    }\n",
       "\n",
       "    .dataframe tbody tr th {\n",
       "        vertical-align: top;\n",
       "    }\n",
       "\n",
       "    .dataframe thead th {\n",
       "        text-align: right;\n",
       "    }\n",
       "</style>\n",
       "<table border=\"1\" class=\"dataframe\">\n",
       "  <thead>\n",
       "    <tr style=\"text-align: right;\">\n",
       "      <th></th>\n",
       "      <th>company</th>\n",
       "      <th>model</th>\n",
       "      <th>year</th>\n",
       "      <th>km_driven</th>\n",
       "      <th>fuel</th>\n",
       "      <th>seller_type</th>\n",
       "      <th>transmission</th>\n",
       "      <th>owner</th>\n",
       "      <th>mileage</th>\n",
       "      <th>engine</th>\n",
       "      <th>max_power</th>\n",
       "      <th>selling_price</th>\n",
       "    </tr>\n",
       "  </thead>\n",
       "  <tbody>\n",
       "    <tr>\n",
       "      <th>0</th>\n",
       "      <td>Maruti</td>\n",
       "      <td>Swift</td>\n",
       "      <td>2014</td>\n",
       "      <td>145500</td>\n",
       "      <td>Diesel</td>\n",
       "      <td>Individual</td>\n",
       "      <td>Manual</td>\n",
       "      <td>First Owner</td>\n",
       "      <td>23.40</td>\n",
       "      <td>1248</td>\n",
       "      <td>74.00</td>\n",
       "      <td>450000</td>\n",
       "    </tr>\n",
       "    <tr>\n",
       "      <th>1</th>\n",
       "      <td>Skoda</td>\n",
       "      <td>Rapid</td>\n",
       "      <td>2014</td>\n",
       "      <td>120000</td>\n",
       "      <td>Diesel</td>\n",
       "      <td>Individual</td>\n",
       "      <td>Manual</td>\n",
       "      <td>Second Owner</td>\n",
       "      <td>21.14</td>\n",
       "      <td>1498</td>\n",
       "      <td>103.52</td>\n",
       "      <td>370000</td>\n",
       "    </tr>\n",
       "    <tr>\n",
       "      <th>2</th>\n",
       "      <td>Honda</td>\n",
       "      <td>City</td>\n",
       "      <td>2006</td>\n",
       "      <td>140000</td>\n",
       "      <td>Petrol</td>\n",
       "      <td>Individual</td>\n",
       "      <td>Manual</td>\n",
       "      <td>Third Owner</td>\n",
       "      <td>17.70</td>\n",
       "      <td>1497</td>\n",
       "      <td>78.00</td>\n",
       "      <td>158000</td>\n",
       "    </tr>\n",
       "    <tr>\n",
       "      <th>3</th>\n",
       "      <td>Hyundai</td>\n",
       "      <td>i20</td>\n",
       "      <td>2010</td>\n",
       "      <td>127000</td>\n",
       "      <td>Diesel</td>\n",
       "      <td>Individual</td>\n",
       "      <td>Manual</td>\n",
       "      <td>First Owner</td>\n",
       "      <td>23.00</td>\n",
       "      <td>1396</td>\n",
       "      <td>90.00</td>\n",
       "      <td>225000</td>\n",
       "    </tr>\n",
       "    <tr>\n",
       "      <th>4</th>\n",
       "      <td>Maruti</td>\n",
       "      <td>Swift</td>\n",
       "      <td>2007</td>\n",
       "      <td>120000</td>\n",
       "      <td>Petrol</td>\n",
       "      <td>Individual</td>\n",
       "      <td>Manual</td>\n",
       "      <td>First Owner</td>\n",
       "      <td>16.10</td>\n",
       "      <td>1298</td>\n",
       "      <td>88.20</td>\n",
       "      <td>130000</td>\n",
       "    </tr>\n",
       "  </tbody>\n",
       "</table>\n",
       "</div>"
      ],
      "text/plain": [
       "   company  model  year  km_driven    fuel seller_type transmission  \\\n",
       "0   Maruti  Swift  2014     145500  Diesel  Individual       Manual   \n",
       "1    Skoda  Rapid  2014     120000  Diesel  Individual       Manual   \n",
       "2    Honda   City  2006     140000  Petrol  Individual       Manual   \n",
       "3  Hyundai    i20  2010     127000  Diesel  Individual       Manual   \n",
       "4   Maruti  Swift  2007     120000  Petrol  Individual       Manual   \n",
       "\n",
       "          owner  mileage  engine  max_power  selling_price  \n",
       "0   First Owner    23.40    1248      74.00         450000  \n",
       "1  Second Owner    21.14    1498     103.52         370000  \n",
       "2   Third Owner    17.70    1497      78.00         158000  \n",
       "3   First Owner    23.00    1396      90.00         225000  \n",
       "4   First Owner    16.10    1298      88.20         130000  "
      ]
     },
     "execution_count": 413,
     "metadata": {},
     "output_type": "execute_result"
    }
   ],
   "source": [
    "# Drop the seats column\n",
    "dataset = dataset.drop(columns=['seats'], axis=1)\n",
    "dataset.head()"
   ]
  },
  {
   "cell_type": "markdown",
   "id": "589a138b",
   "metadata": {},
   "source": [
    "\n",
    "# Linear Regression"
   ]
  },
  {
   "cell_type": "code",
   "execution_count": 414,
   "id": "286999f8",
   "metadata": {},
   "outputs": [],
   "source": [
    "def predictByYear(x, column):\n",
    "    b1 = dataset.year.corr(dataset.selling_price) * (dataset.year.std() / dataset.year.std())\n",
    "    b0 = dataset.selling_price.mean() - b1 * dataset.year.mean()\n",
    "    return b0 + b1 * x\n"
   ]
  },
  {
   "cell_type": "markdown",
   "id": "b7605333",
   "metadata": {
    "id": "HZUBBa73KPdO"
   },
   "source": [
    "# Population Mean"
   ]
  },
  {
   "cell_type": "code",
   "execution_count": 415,
   "id": "29b06335",
   "metadata": {},
   "outputs": [
    {
     "data": {
      "text/plain": [
       "year               2013.983936\n",
       "km_driven         69188.659752\n",
       "mileage              19.504086\n",
       "engine             1458.708829\n",
       "max_power            91.587374\n",
       "selling_price    649813.720845\n",
       "dtype: float64"
      ]
     },
     "execution_count": 415,
     "metadata": {},
     "output_type": "execute_result"
    }
   ],
   "source": [
    "dataset.mean()"
   ]
  },
  {
   "cell_type": "markdown",
   "id": "3657a649",
   "metadata": {},
   "source": [
    "# Population Variance"
   ]
  },
  {
   "cell_type": "code",
   "execution_count": 416,
   "id": "d56dca88",
   "metadata": {},
   "outputs": [
    {
     "data": {
      "text/html": [
       "<div>\n",
       "<style scoped>\n",
       "    .dataframe tbody tr th:only-of-type {\n",
       "        vertical-align: middle;\n",
       "    }\n",
       "\n",
       "    .dataframe tbody tr th {\n",
       "        vertical-align: top;\n",
       "    }\n",
       "\n",
       "    .dataframe thead th {\n",
       "        text-align: right;\n",
       "    }\n",
       "</style>\n",
       "<table border=\"1\" class=\"dataframe\">\n",
       "  <thead>\n",
       "    <tr style=\"text-align: right;\">\n",
       "      <th></th>\n",
       "      <th>year</th>\n",
       "      <th>km_driven</th>\n",
       "      <th>mileage</th>\n",
       "      <th>engine</th>\n",
       "      <th>max_power</th>\n",
       "      <th>selling_price</th>\n",
       "    </tr>\n",
       "  </thead>\n",
       "  <tbody>\n",
       "    <tr>\n",
       "      <th>0</th>\n",
       "      <td>14.92625</td>\n",
       "      <td>3224956959.75244</td>\n",
       "      <td>17.67872</td>\n",
       "      <td>253876.09685</td>\n",
       "      <td>1277.70183</td>\n",
       "      <td>661833165058.92871</td>\n",
       "    </tr>\n",
       "  </tbody>\n",
       "</table>\n",
       "</div>"
      ],
      "text/plain": [
       "       year         km_driven   mileage        engine   max_power  \\\n",
       "0  14.92625  3224956959.75244  17.67872  253876.09685  1277.70183   \n",
       "\n",
       "        selling_price  \n",
       "0  661833165058.92871  "
      ]
     },
     "execution_count": 416,
     "metadata": {},
     "output_type": "execute_result"
    }
   ],
   "source": [
    "pd.DataFrame({\n",
    "    'year' : [format(dataset.year.var(ddof=0), '.5f')],\n",
    "    'km_driven' : [format(dataset.km_driven.var(ddof=0), '.5f')],\n",
    "    'mileage' : [format(dataset.mileage.var(ddof=0), '.5f')],\n",
    "    'engine' : [format(dataset.engine.var(ddof=0), '.5f')],\n",
    "    'max_power' : [format(dataset.max_power.var(ddof=0), '.5f')],\n",
    "    'selling_price' : [format(dataset.selling_price.var(ddof=0), '.5f')]\n",
    "})"
   ]
  },
  {
   "cell_type": "markdown",
   "id": "1f27c274",
   "metadata": {},
   "source": [
    "# Population Standard Deviatoin"
   ]
  },
  {
   "cell_type": "code",
   "execution_count": 417,
   "id": "e715843d",
   "metadata": {},
   "outputs": [
    {
     "data": {
      "text/html": [
       "<div>\n",
       "<style scoped>\n",
       "    .dataframe tbody tr th:only-of-type {\n",
       "        vertical-align: middle;\n",
       "    }\n",
       "\n",
       "    .dataframe tbody tr th {\n",
       "        vertical-align: top;\n",
       "    }\n",
       "\n",
       "    .dataframe thead th {\n",
       "        text-align: right;\n",
       "    }\n",
       "</style>\n",
       "<table border=\"1\" class=\"dataframe\">\n",
       "  <thead>\n",
       "    <tr style=\"text-align: right;\">\n",
       "      <th></th>\n",
       "      <th>company</th>\n",
       "      <th>model</th>\n",
       "      <th>year</th>\n",
       "      <th>km_driven</th>\n",
       "      <th>fuel</th>\n",
       "      <th>seller_type</th>\n",
       "      <th>transmission</th>\n",
       "      <th>owner</th>\n",
       "      <th>mileage</th>\n",
       "      <th>engine</th>\n",
       "      <th>max_power</th>\n",
       "      <th>selling_price</th>\n",
       "    </tr>\n",
       "  </thead>\n",
       "  <tbody>\n",
       "    <tr>\n",
       "      <th>0</th>\n",
       "      <td>Maruti</td>\n",
       "      <td>Swift</td>\n",
       "      <td>2014</td>\n",
       "      <td>145500</td>\n",
       "      <td>Diesel</td>\n",
       "      <td>Individual</td>\n",
       "      <td>Manual</td>\n",
       "      <td>First Owner</td>\n",
       "      <td>23.40</td>\n",
       "      <td>1248</td>\n",
       "      <td>74.00</td>\n",
       "      <td>450000</td>\n",
       "    </tr>\n",
       "    <tr>\n",
       "      <th>1</th>\n",
       "      <td>Skoda</td>\n",
       "      <td>Rapid</td>\n",
       "      <td>2014</td>\n",
       "      <td>120000</td>\n",
       "      <td>Diesel</td>\n",
       "      <td>Individual</td>\n",
       "      <td>Manual</td>\n",
       "      <td>Second Owner</td>\n",
       "      <td>21.14</td>\n",
       "      <td>1498</td>\n",
       "      <td>103.52</td>\n",
       "      <td>370000</td>\n",
       "    </tr>\n",
       "    <tr>\n",
       "      <th>2</th>\n",
       "      <td>Honda</td>\n",
       "      <td>City</td>\n",
       "      <td>2006</td>\n",
       "      <td>140000</td>\n",
       "      <td>Petrol</td>\n",
       "      <td>Individual</td>\n",
       "      <td>Manual</td>\n",
       "      <td>Third Owner</td>\n",
       "      <td>17.70</td>\n",
       "      <td>1497</td>\n",
       "      <td>78.00</td>\n",
       "      <td>158000</td>\n",
       "    </tr>\n",
       "    <tr>\n",
       "      <th>3</th>\n",
       "      <td>Hyundai</td>\n",
       "      <td>i20</td>\n",
       "      <td>2010</td>\n",
       "      <td>127000</td>\n",
       "      <td>Diesel</td>\n",
       "      <td>Individual</td>\n",
       "      <td>Manual</td>\n",
       "      <td>First Owner</td>\n",
       "      <td>23.00</td>\n",
       "      <td>1396</td>\n",
       "      <td>90.00</td>\n",
       "      <td>225000</td>\n",
       "    </tr>\n",
       "    <tr>\n",
       "      <th>4</th>\n",
       "      <td>Maruti</td>\n",
       "      <td>Swift</td>\n",
       "      <td>2007</td>\n",
       "      <td>120000</td>\n",
       "      <td>Petrol</td>\n",
       "      <td>Individual</td>\n",
       "      <td>Manual</td>\n",
       "      <td>First Owner</td>\n",
       "      <td>16.10</td>\n",
       "      <td>1298</td>\n",
       "      <td>88.20</td>\n",
       "      <td>130000</td>\n",
       "    </tr>\n",
       "  </tbody>\n",
       "</table>\n",
       "</div>"
      ],
      "text/plain": [
       "   company  model  year  km_driven    fuel seller_type transmission  \\\n",
       "0   Maruti  Swift  2014     145500  Diesel  Individual       Manual   \n",
       "1    Skoda  Rapid  2014     120000  Diesel  Individual       Manual   \n",
       "2    Honda   City  2006     140000  Petrol  Individual       Manual   \n",
       "3  Hyundai    i20  2010     127000  Diesel  Individual       Manual   \n",
       "4   Maruti  Swift  2007     120000  Petrol  Individual       Manual   \n",
       "\n",
       "          owner  mileage  engine  max_power  selling_price  \n",
       "0   First Owner    23.40    1248      74.00         450000  \n",
       "1  Second Owner    21.14    1498     103.52         370000  \n",
       "2   Third Owner    17.70    1497      78.00         158000  \n",
       "3   First Owner    23.00    1396      90.00         225000  \n",
       "4   First Owner    16.10    1298      88.20         130000  "
      ]
     },
     "execution_count": 417,
     "metadata": {},
     "output_type": "execute_result"
    }
   ],
   "source": [
    "dataset.std(ddof=0)\n",
    "dataset.head()"
   ]
  },
  {
   "cell_type": "markdown",
   "id": "4fd6eda1",
   "metadata": {},
   "source": [
    "# Linear Regression"
   ]
  },
  {
   "cell_type": "code",
   "execution_count": 418,
   "id": "dab956d3",
   "metadata": {},
   "outputs": [
    {
     "data": {
      "text/html": [
       "<div>\n",
       "<style scoped>\n",
       "    .dataframe tbody tr th:only-of-type {\n",
       "        vertical-align: middle;\n",
       "    }\n",
       "\n",
       "    .dataframe tbody tr th {\n",
       "        vertical-align: top;\n",
       "    }\n",
       "\n",
       "    .dataframe thead th {\n",
       "        text-align: right;\n",
       "    }\n",
       "</style>\n",
       "<table border=\"1\" class=\"dataframe\">\n",
       "  <thead>\n",
       "    <tr style=\"text-align: right;\">\n",
       "      <th></th>\n",
       "      <th>company</th>\n",
       "      <th>model</th>\n",
       "      <th>year</th>\n",
       "      <th>km_driven</th>\n",
       "      <th>fuel</th>\n",
       "      <th>seller_type</th>\n",
       "      <th>transmission</th>\n",
       "      <th>owner</th>\n",
       "      <th>mileage</th>\n",
       "      <th>engine</th>\n",
       "      <th>max_power</th>\n",
       "      <th>selling_price</th>\n",
       "    </tr>\n",
       "  </thead>\n",
       "  <tbody>\n",
       "    <tr>\n",
       "      <th>0</th>\n",
       "      <td>Maruti</td>\n",
       "      <td>Swift</td>\n",
       "      <td>2014</td>\n",
       "      <td>145500</td>\n",
       "      <td>Diesel</td>\n",
       "      <td>Individual</td>\n",
       "      <td>Manual</td>\n",
       "      <td>First Owner</td>\n",
       "      <td>23.40</td>\n",
       "      <td>1248</td>\n",
       "      <td>74.00</td>\n",
       "      <td>450000</td>\n",
       "    </tr>\n",
       "    <tr>\n",
       "      <th>1</th>\n",
       "      <td>Skoda</td>\n",
       "      <td>Rapid</td>\n",
       "      <td>2014</td>\n",
       "      <td>120000</td>\n",
       "      <td>Diesel</td>\n",
       "      <td>Individual</td>\n",
       "      <td>Manual</td>\n",
       "      <td>Second Owner</td>\n",
       "      <td>21.14</td>\n",
       "      <td>1498</td>\n",
       "      <td>103.52</td>\n",
       "      <td>370000</td>\n",
       "    </tr>\n",
       "    <tr>\n",
       "      <th>2</th>\n",
       "      <td>Honda</td>\n",
       "      <td>City</td>\n",
       "      <td>2006</td>\n",
       "      <td>140000</td>\n",
       "      <td>Petrol</td>\n",
       "      <td>Individual</td>\n",
       "      <td>Manual</td>\n",
       "      <td>Third Owner</td>\n",
       "      <td>17.70</td>\n",
       "      <td>1497</td>\n",
       "      <td>78.00</td>\n",
       "      <td>158000</td>\n",
       "    </tr>\n",
       "    <tr>\n",
       "      <th>3</th>\n",
       "      <td>Hyundai</td>\n",
       "      <td>i20</td>\n",
       "      <td>2010</td>\n",
       "      <td>127000</td>\n",
       "      <td>Diesel</td>\n",
       "      <td>Individual</td>\n",
       "      <td>Manual</td>\n",
       "      <td>First Owner</td>\n",
       "      <td>23.00</td>\n",
       "      <td>1396</td>\n",
       "      <td>90.00</td>\n",
       "      <td>225000</td>\n",
       "    </tr>\n",
       "    <tr>\n",
       "      <th>4</th>\n",
       "      <td>Maruti</td>\n",
       "      <td>Swift</td>\n",
       "      <td>2007</td>\n",
       "      <td>120000</td>\n",
       "      <td>Petrol</td>\n",
       "      <td>Individual</td>\n",
       "      <td>Manual</td>\n",
       "      <td>First Owner</td>\n",
       "      <td>16.10</td>\n",
       "      <td>1298</td>\n",
       "      <td>88.20</td>\n",
       "      <td>130000</td>\n",
       "    </tr>\n",
       "    <tr>\n",
       "      <th>...</th>\n",
       "      <td>...</td>\n",
       "      <td>...</td>\n",
       "      <td>...</td>\n",
       "      <td>...</td>\n",
       "      <td>...</td>\n",
       "      <td>...</td>\n",
       "      <td>...</td>\n",
       "      <td>...</td>\n",
       "      <td>...</td>\n",
       "      <td>...</td>\n",
       "      <td>...</td>\n",
       "      <td>...</td>\n",
       "    </tr>\n",
       "    <tr>\n",
       "      <th>8123</th>\n",
       "      <td>Hyundai</td>\n",
       "      <td>i20</td>\n",
       "      <td>2013</td>\n",
       "      <td>110000</td>\n",
       "      <td>Petrol</td>\n",
       "      <td>Individual</td>\n",
       "      <td>Manual</td>\n",
       "      <td>First Owner</td>\n",
       "      <td>18.50</td>\n",
       "      <td>1197</td>\n",
       "      <td>82.85</td>\n",
       "      <td>320000</td>\n",
       "    </tr>\n",
       "    <tr>\n",
       "      <th>8124</th>\n",
       "      <td>Hyundai</td>\n",
       "      <td>Verna</td>\n",
       "      <td>2007</td>\n",
       "      <td>119000</td>\n",
       "      <td>Diesel</td>\n",
       "      <td>Individual</td>\n",
       "      <td>Manual</td>\n",
       "      <td>Fourth &amp; Above Owner</td>\n",
       "      <td>16.80</td>\n",
       "      <td>1493</td>\n",
       "      <td>110.00</td>\n",
       "      <td>135000</td>\n",
       "    </tr>\n",
       "    <tr>\n",
       "      <th>8125</th>\n",
       "      <td>Maruti</td>\n",
       "      <td>Swift</td>\n",
       "      <td>2009</td>\n",
       "      <td>120000</td>\n",
       "      <td>Diesel</td>\n",
       "      <td>Individual</td>\n",
       "      <td>Manual</td>\n",
       "      <td>First Owner</td>\n",
       "      <td>19.30</td>\n",
       "      <td>1248</td>\n",
       "      <td>73.90</td>\n",
       "      <td>382000</td>\n",
       "    </tr>\n",
       "    <tr>\n",
       "      <th>8126</th>\n",
       "      <td>Tata</td>\n",
       "      <td>Indigo</td>\n",
       "      <td>2013</td>\n",
       "      <td>25000</td>\n",
       "      <td>Diesel</td>\n",
       "      <td>Individual</td>\n",
       "      <td>Manual</td>\n",
       "      <td>First Owner</td>\n",
       "      <td>23.57</td>\n",
       "      <td>1396</td>\n",
       "      <td>70.00</td>\n",
       "      <td>290000</td>\n",
       "    </tr>\n",
       "    <tr>\n",
       "      <th>8127</th>\n",
       "      <td>Tata</td>\n",
       "      <td>Indigo</td>\n",
       "      <td>2013</td>\n",
       "      <td>25000</td>\n",
       "      <td>Diesel</td>\n",
       "      <td>Individual</td>\n",
       "      <td>Manual</td>\n",
       "      <td>First Owner</td>\n",
       "      <td>23.57</td>\n",
       "      <td>1396</td>\n",
       "      <td>70.00</td>\n",
       "      <td>290000</td>\n",
       "    </tr>\n",
       "  </tbody>\n",
       "</table>\n",
       "<p>7906 rows × 12 columns</p>\n",
       "</div>"
      ],
      "text/plain": [
       "      company   model  year  km_driven    fuel seller_type transmission  \\\n",
       "0      Maruti   Swift  2014     145500  Diesel  Individual       Manual   \n",
       "1       Skoda   Rapid  2014     120000  Diesel  Individual       Manual   \n",
       "2       Honda    City  2006     140000  Petrol  Individual       Manual   \n",
       "3     Hyundai     i20  2010     127000  Diesel  Individual       Manual   \n",
       "4      Maruti   Swift  2007     120000  Petrol  Individual       Manual   \n",
       "...       ...     ...   ...        ...     ...         ...          ...   \n",
       "8123  Hyundai     i20  2013     110000  Petrol  Individual       Manual   \n",
       "8124  Hyundai   Verna  2007     119000  Diesel  Individual       Manual   \n",
       "8125   Maruti   Swift  2009     120000  Diesel  Individual       Manual   \n",
       "8126     Tata  Indigo  2013      25000  Diesel  Individual       Manual   \n",
       "8127     Tata  Indigo  2013      25000  Diesel  Individual       Manual   \n",
       "\n",
       "                     owner  mileage  engine  max_power  selling_price  \n",
       "0              First Owner    23.40    1248      74.00         450000  \n",
       "1             Second Owner    21.14    1498     103.52         370000  \n",
       "2              Third Owner    17.70    1497      78.00         158000  \n",
       "3              First Owner    23.00    1396      90.00         225000  \n",
       "4              First Owner    16.10    1298      88.20         130000  \n",
       "...                    ...      ...     ...        ...            ...  \n",
       "8123           First Owner    18.50    1197      82.85         320000  \n",
       "8124  Fourth & Above Owner    16.80    1493     110.00         135000  \n",
       "8125           First Owner    19.30    1248      73.90         382000  \n",
       "8126           First Owner    23.57    1396      70.00         290000  \n",
       "8127           First Owner    23.57    1396      70.00         290000  \n",
       "\n",
       "[7906 rows x 12 columns]"
      ]
     },
     "execution_count": 418,
     "metadata": {},
     "output_type": "execute_result"
    }
   ],
   "source": [
    "dataset"
   ]
  },
  {
   "cell_type": "code",
   "execution_count": 419,
   "id": "100002b6",
   "metadata": {},
   "outputs": [
    {
     "name": "stdout",
     "output_type": "stream",
     "text": [
      "31\n",
      "{'Maruti': 0, 'Skoda': 1, 'Honda': 2, 'Hyundai': 3, 'Toyota': 4, 'Ford': 5, 'Renault': 6, 'Mahindra': 7, 'Tata': 8, 'Chevrolet': 9, 'Datsun': 10, 'Jeep': 11, 'Mercedes-Benz': 12, 'Mitsubishi': 13, 'Audi': 14, 'Volkswagen': 15, 'BMW': 16, 'Nissan': 17, 'Lexus': 18, 'Jaguar': 19, 'Land': 20, 'MG': 21, 'Volvo': 22, 'Daewoo': 23, 'Kia': 24, 'Fiat': 25, 'Force': 26, 'Ambassador': 27, 'Ashok': 28, 'Isuzu': 29, 'Opel': 30}\n",
      "\n",
      "197\n",
      "4\n",
      "{'Diesel': 0, 'Petrol': 1, 'LPG': 2, 'CNG': 3}\n",
      "\n",
      "3\n",
      "{'Individual': 0, 'Dealer': 1, 'Trustmark Dealer': 2}\n",
      "\n",
      "2\n",
      "{'Manual': 0, 'Automatic': 1}\n",
      "\n",
      "5\n",
      "{'First Owner': 0, 'Second Owner': 1, 'Third Owner': 2, 'Fourth & Above Owner': 3, 'Test Drive Car': 4}\n",
      "\n"
     ]
    },
    {
     "data": {
      "text/html": [
       "<div>\n",
       "<style scoped>\n",
       "    .dataframe tbody tr th:only-of-type {\n",
       "        vertical-align: middle;\n",
       "    }\n",
       "\n",
       "    .dataframe tbody tr th {\n",
       "        vertical-align: top;\n",
       "    }\n",
       "\n",
       "    .dataframe thead th {\n",
       "        text-align: right;\n",
       "    }\n",
       "</style>\n",
       "<table border=\"1\" class=\"dataframe\">\n",
       "  <thead>\n",
       "    <tr style=\"text-align: right;\">\n",
       "      <th></th>\n",
       "      <th>company</th>\n",
       "      <th>model</th>\n",
       "      <th>year</th>\n",
       "      <th>km_driven</th>\n",
       "      <th>fuel</th>\n",
       "      <th>seller_type</th>\n",
       "      <th>transmission</th>\n",
       "      <th>owner</th>\n",
       "      <th>mileage</th>\n",
       "      <th>engine</th>\n",
       "      <th>max_power</th>\n",
       "      <th>selling_price</th>\n",
       "    </tr>\n",
       "  </thead>\n",
       "  <tbody>\n",
       "    <tr>\n",
       "      <th>0</th>\n",
       "      <td>0</td>\n",
       "      <td>0</td>\n",
       "      <td>2014</td>\n",
       "      <td>145500</td>\n",
       "      <td>0</td>\n",
       "      <td>0</td>\n",
       "      <td>0</td>\n",
       "      <td>0</td>\n",
       "      <td>23.40</td>\n",
       "      <td>1248</td>\n",
       "      <td>74.00</td>\n",
       "      <td>450000</td>\n",
       "    </tr>\n",
       "    <tr>\n",
       "      <th>1</th>\n",
       "      <td>1</td>\n",
       "      <td>1</td>\n",
       "      <td>2014</td>\n",
       "      <td>120000</td>\n",
       "      <td>0</td>\n",
       "      <td>0</td>\n",
       "      <td>0</td>\n",
       "      <td>1</td>\n",
       "      <td>21.14</td>\n",
       "      <td>1498</td>\n",
       "      <td>103.52</td>\n",
       "      <td>370000</td>\n",
       "    </tr>\n",
       "    <tr>\n",
       "      <th>2</th>\n",
       "      <td>2</td>\n",
       "      <td>2</td>\n",
       "      <td>2006</td>\n",
       "      <td>140000</td>\n",
       "      <td>1</td>\n",
       "      <td>0</td>\n",
       "      <td>0</td>\n",
       "      <td>2</td>\n",
       "      <td>17.70</td>\n",
       "      <td>1497</td>\n",
       "      <td>78.00</td>\n",
       "      <td>158000</td>\n",
       "    </tr>\n",
       "    <tr>\n",
       "      <th>3</th>\n",
       "      <td>3</td>\n",
       "      <td>3</td>\n",
       "      <td>2010</td>\n",
       "      <td>127000</td>\n",
       "      <td>0</td>\n",
       "      <td>0</td>\n",
       "      <td>0</td>\n",
       "      <td>0</td>\n",
       "      <td>23.00</td>\n",
       "      <td>1396</td>\n",
       "      <td>90.00</td>\n",
       "      <td>225000</td>\n",
       "    </tr>\n",
       "    <tr>\n",
       "      <th>4</th>\n",
       "      <td>0</td>\n",
       "      <td>0</td>\n",
       "      <td>2007</td>\n",
       "      <td>120000</td>\n",
       "      <td>1</td>\n",
       "      <td>0</td>\n",
       "      <td>0</td>\n",
       "      <td>0</td>\n",
       "      <td>16.10</td>\n",
       "      <td>1298</td>\n",
       "      <td>88.20</td>\n",
       "      <td>130000</td>\n",
       "    </tr>\n",
       "    <tr>\n",
       "      <th>...</th>\n",
       "      <td>...</td>\n",
       "      <td>...</td>\n",
       "      <td>...</td>\n",
       "      <td>...</td>\n",
       "      <td>...</td>\n",
       "      <td>...</td>\n",
       "      <td>...</td>\n",
       "      <td>...</td>\n",
       "      <td>...</td>\n",
       "      <td>...</td>\n",
       "      <td>...</td>\n",
       "      <td>...</td>\n",
       "    </tr>\n",
       "    <tr>\n",
       "      <th>8123</th>\n",
       "      <td>3</td>\n",
       "      <td>3</td>\n",
       "      <td>2013</td>\n",
       "      <td>110000</td>\n",
       "      <td>1</td>\n",
       "      <td>0</td>\n",
       "      <td>0</td>\n",
       "      <td>0</td>\n",
       "      <td>18.50</td>\n",
       "      <td>1197</td>\n",
       "      <td>82.85</td>\n",
       "      <td>320000</td>\n",
       "    </tr>\n",
       "    <tr>\n",
       "      <th>8124</th>\n",
       "      <td>3</td>\n",
       "      <td>22</td>\n",
       "      <td>2007</td>\n",
       "      <td>119000</td>\n",
       "      <td>0</td>\n",
       "      <td>0</td>\n",
       "      <td>0</td>\n",
       "      <td>3</td>\n",
       "      <td>16.80</td>\n",
       "      <td>1493</td>\n",
       "      <td>110.00</td>\n",
       "      <td>135000</td>\n",
       "    </tr>\n",
       "    <tr>\n",
       "      <th>8125</th>\n",
       "      <td>0</td>\n",
       "      <td>0</td>\n",
       "      <td>2009</td>\n",
       "      <td>120000</td>\n",
       "      <td>0</td>\n",
       "      <td>0</td>\n",
       "      <td>0</td>\n",
       "      <td>0</td>\n",
       "      <td>19.30</td>\n",
       "      <td>1248</td>\n",
       "      <td>73.90</td>\n",
       "      <td>382000</td>\n",
       "    </tr>\n",
       "    <tr>\n",
       "      <th>8126</th>\n",
       "      <td>8</td>\n",
       "      <td>50</td>\n",
       "      <td>2013</td>\n",
       "      <td>25000</td>\n",
       "      <td>0</td>\n",
       "      <td>0</td>\n",
       "      <td>0</td>\n",
       "      <td>0</td>\n",
       "      <td>23.57</td>\n",
       "      <td>1396</td>\n",
       "      <td>70.00</td>\n",
       "      <td>290000</td>\n",
       "    </tr>\n",
       "    <tr>\n",
       "      <th>8127</th>\n",
       "      <td>8</td>\n",
       "      <td>50</td>\n",
       "      <td>2013</td>\n",
       "      <td>25000</td>\n",
       "      <td>0</td>\n",
       "      <td>0</td>\n",
       "      <td>0</td>\n",
       "      <td>0</td>\n",
       "      <td>23.57</td>\n",
       "      <td>1396</td>\n",
       "      <td>70.00</td>\n",
       "      <td>290000</td>\n",
       "    </tr>\n",
       "  </tbody>\n",
       "</table>\n",
       "<p>7906 rows × 12 columns</p>\n",
       "</div>"
      ],
      "text/plain": [
       "      company  model  year  km_driven  fuel  seller_type  transmission  owner  \\\n",
       "0           0      0  2014     145500     0            0             0      0   \n",
       "1           1      1  2014     120000     0            0             0      1   \n",
       "2           2      2  2006     140000     1            0             0      2   \n",
       "3           3      3  2010     127000     0            0             0      0   \n",
       "4           0      0  2007     120000     1            0             0      0   \n",
       "...       ...    ...   ...        ...   ...          ...           ...    ...   \n",
       "8123        3      3  2013     110000     1            0             0      0   \n",
       "8124        3     22  2007     119000     0            0             0      3   \n",
       "8125        0      0  2009     120000     0            0             0      0   \n",
       "8126        8     50  2013      25000     0            0             0      0   \n",
       "8127        8     50  2013      25000     0            0             0      0   \n",
       "\n",
       "      mileage  engine  max_power  selling_price  \n",
       "0       23.40    1248      74.00         450000  \n",
       "1       21.14    1498     103.52         370000  \n",
       "2       17.70    1497      78.00         158000  \n",
       "3       23.00    1396      90.00         225000  \n",
       "4       16.10    1298      88.20         130000  \n",
       "...       ...     ...        ...            ...  \n",
       "8123    18.50    1197      82.85         320000  \n",
       "8124    16.80    1493     110.00         135000  \n",
       "8125    19.30    1248      73.90         382000  \n",
       "8126    23.57    1396      70.00         290000  \n",
       "8127    23.57    1396      70.00         290000  \n",
       "\n",
       "[7906 rows x 12 columns]"
      ]
     },
     "execution_count": 419,
     "metadata": {},
     "output_type": "execute_result"
    }
   ],
   "source": [
    "perform_mapping()\n",
    "dataset"
   ]
  },
  {
   "cell_type": "code",
   "execution_count": 420,
   "id": "58c78f4d",
   "metadata": {},
   "outputs": [],
   "source": [
    "scaler = MinMaxScaler()\n",
    "dataset.iloc[:,0:-1] = pd.DataFrame(scaler.fit_transform(dataset.iloc[:,0:-1]), columns=dataset.columns[0:-1])"
   ]
  },
  {
   "cell_type": "code",
   "execution_count": 421,
   "id": "2161a17c",
   "metadata": {},
   "outputs": [
    {
     "data": {
      "text/html": [
       "<div>\n",
       "<style scoped>\n",
       "    .dataframe tbody tr th:only-of-type {\n",
       "        vertical-align: middle;\n",
       "    }\n",
       "\n",
       "    .dataframe tbody tr th {\n",
       "        vertical-align: top;\n",
       "    }\n",
       "\n",
       "    .dataframe thead th {\n",
       "        text-align: right;\n",
       "    }\n",
       "</style>\n",
       "<table border=\"1\" class=\"dataframe\">\n",
       "  <thead>\n",
       "    <tr style=\"text-align: right;\">\n",
       "      <th></th>\n",
       "      <th>company</th>\n",
       "      <th>model</th>\n",
       "      <th>year</th>\n",
       "      <th>km_driven</th>\n",
       "      <th>fuel</th>\n",
       "      <th>seller_type</th>\n",
       "      <th>transmission</th>\n",
       "      <th>owner</th>\n",
       "      <th>mileage</th>\n",
       "      <th>engine</th>\n",
       "      <th>max_power</th>\n",
       "      <th>selling_price</th>\n",
       "    </tr>\n",
       "  </thead>\n",
       "  <tbody>\n",
       "    <tr>\n",
       "      <th>0</th>\n",
       "      <td>0.000000</td>\n",
       "      <td>0.000000</td>\n",
       "      <td>0.769231</td>\n",
       "      <td>0.061640</td>\n",
       "      <td>0.000000</td>\n",
       "      <td>0.0</td>\n",
       "      <td>0.0</td>\n",
       "      <td>0.00</td>\n",
       "      <td>0.519573</td>\n",
       "      <td>0.209396</td>\n",
       "      <td>0.112200</td>\n",
       "      <td>450000</td>\n",
       "    </tr>\n",
       "    <tr>\n",
       "      <th>1</th>\n",
       "      <td>0.033333</td>\n",
       "      <td>0.005102</td>\n",
       "      <td>0.769231</td>\n",
       "      <td>0.050837</td>\n",
       "      <td>0.000000</td>\n",
       "      <td>0.0</td>\n",
       "      <td>0.0</td>\n",
       "      <td>0.25</td>\n",
       "      <td>0.469392</td>\n",
       "      <td>0.293289</td>\n",
       "      <td>0.192593</td>\n",
       "      <td>370000</td>\n",
       "    </tr>\n",
       "    <tr>\n",
       "      <th>2</th>\n",
       "      <td>0.066667</td>\n",
       "      <td>0.010204</td>\n",
       "      <td>0.461538</td>\n",
       "      <td>0.059310</td>\n",
       "      <td>0.333333</td>\n",
       "      <td>0.0</td>\n",
       "      <td>0.0</td>\n",
       "      <td>0.50</td>\n",
       "      <td>0.393010</td>\n",
       "      <td>0.292953</td>\n",
       "      <td>0.123094</td>\n",
       "      <td>158000</td>\n",
       "    </tr>\n",
       "    <tr>\n",
       "      <th>3</th>\n",
       "      <td>0.100000</td>\n",
       "      <td>0.015306</td>\n",
       "      <td>0.615385</td>\n",
       "      <td>0.053803</td>\n",
       "      <td>0.000000</td>\n",
       "      <td>0.0</td>\n",
       "      <td>0.0</td>\n",
       "      <td>0.00</td>\n",
       "      <td>0.510691</td>\n",
       "      <td>0.259060</td>\n",
       "      <td>0.155773</td>\n",
       "      <td>225000</td>\n",
       "    </tr>\n",
       "    <tr>\n",
       "      <th>4</th>\n",
       "      <td>0.000000</td>\n",
       "      <td>0.000000</td>\n",
       "      <td>0.500000</td>\n",
       "      <td>0.050837</td>\n",
       "      <td>0.333333</td>\n",
       "      <td>0.0</td>\n",
       "      <td>0.0</td>\n",
       "      <td>0.00</td>\n",
       "      <td>0.357484</td>\n",
       "      <td>0.226174</td>\n",
       "      <td>0.150871</td>\n",
       "      <td>130000</td>\n",
       "    </tr>\n",
       "    <tr>\n",
       "      <th>...</th>\n",
       "      <td>...</td>\n",
       "      <td>...</td>\n",
       "      <td>...</td>\n",
       "      <td>...</td>\n",
       "      <td>...</td>\n",
       "      <td>...</td>\n",
       "      <td>...</td>\n",
       "      <td>...</td>\n",
       "      <td>...</td>\n",
       "      <td>...</td>\n",
       "      <td>...</td>\n",
       "      <td>...</td>\n",
       "    </tr>\n",
       "    <tr>\n",
       "      <th>8123</th>\n",
       "      <td>NaN</td>\n",
       "      <td>NaN</td>\n",
       "      <td>NaN</td>\n",
       "      <td>NaN</td>\n",
       "      <td>NaN</td>\n",
       "      <td>NaN</td>\n",
       "      <td>NaN</td>\n",
       "      <td>NaN</td>\n",
       "      <td>NaN</td>\n",
       "      <td>NaN</td>\n",
       "      <td>NaN</td>\n",
       "      <td>320000</td>\n",
       "    </tr>\n",
       "    <tr>\n",
       "      <th>8124</th>\n",
       "      <td>NaN</td>\n",
       "      <td>NaN</td>\n",
       "      <td>NaN</td>\n",
       "      <td>NaN</td>\n",
       "      <td>NaN</td>\n",
       "      <td>NaN</td>\n",
       "      <td>NaN</td>\n",
       "      <td>NaN</td>\n",
       "      <td>NaN</td>\n",
       "      <td>NaN</td>\n",
       "      <td>NaN</td>\n",
       "      <td>135000</td>\n",
       "    </tr>\n",
       "    <tr>\n",
       "      <th>8125</th>\n",
       "      <td>NaN</td>\n",
       "      <td>NaN</td>\n",
       "      <td>NaN</td>\n",
       "      <td>NaN</td>\n",
       "      <td>NaN</td>\n",
       "      <td>NaN</td>\n",
       "      <td>NaN</td>\n",
       "      <td>NaN</td>\n",
       "      <td>NaN</td>\n",
       "      <td>NaN</td>\n",
       "      <td>NaN</td>\n",
       "      <td>382000</td>\n",
       "    </tr>\n",
       "    <tr>\n",
       "      <th>8126</th>\n",
       "      <td>NaN</td>\n",
       "      <td>NaN</td>\n",
       "      <td>NaN</td>\n",
       "      <td>NaN</td>\n",
       "      <td>NaN</td>\n",
       "      <td>NaN</td>\n",
       "      <td>NaN</td>\n",
       "      <td>NaN</td>\n",
       "      <td>NaN</td>\n",
       "      <td>NaN</td>\n",
       "      <td>NaN</td>\n",
       "      <td>290000</td>\n",
       "    </tr>\n",
       "    <tr>\n",
       "      <th>8127</th>\n",
       "      <td>NaN</td>\n",
       "      <td>NaN</td>\n",
       "      <td>NaN</td>\n",
       "      <td>NaN</td>\n",
       "      <td>NaN</td>\n",
       "      <td>NaN</td>\n",
       "      <td>NaN</td>\n",
       "      <td>NaN</td>\n",
       "      <td>NaN</td>\n",
       "      <td>NaN</td>\n",
       "      <td>NaN</td>\n",
       "      <td>290000</td>\n",
       "    </tr>\n",
       "  </tbody>\n",
       "</table>\n",
       "<p>7906 rows × 12 columns</p>\n",
       "</div>"
      ],
      "text/plain": [
       "       company     model      year  km_driven      fuel  seller_type  \\\n",
       "0     0.000000  0.000000  0.769231   0.061640  0.000000          0.0   \n",
       "1     0.033333  0.005102  0.769231   0.050837  0.000000          0.0   \n",
       "2     0.066667  0.010204  0.461538   0.059310  0.333333          0.0   \n",
       "3     0.100000  0.015306  0.615385   0.053803  0.000000          0.0   \n",
       "4     0.000000  0.000000  0.500000   0.050837  0.333333          0.0   \n",
       "...        ...       ...       ...        ...       ...          ...   \n",
       "8123       NaN       NaN       NaN        NaN       NaN          NaN   \n",
       "8124       NaN       NaN       NaN        NaN       NaN          NaN   \n",
       "8125       NaN       NaN       NaN        NaN       NaN          NaN   \n",
       "8126       NaN       NaN       NaN        NaN       NaN          NaN   \n",
       "8127       NaN       NaN       NaN        NaN       NaN          NaN   \n",
       "\n",
       "      transmission  owner   mileage    engine  max_power  selling_price  \n",
       "0              0.0   0.00  0.519573  0.209396   0.112200         450000  \n",
       "1              0.0   0.25  0.469392  0.293289   0.192593         370000  \n",
       "2              0.0   0.50  0.393010  0.292953   0.123094         158000  \n",
       "3              0.0   0.00  0.510691  0.259060   0.155773         225000  \n",
       "4              0.0   0.00  0.357484  0.226174   0.150871         130000  \n",
       "...            ...    ...       ...       ...        ...            ...  \n",
       "8123           NaN    NaN       NaN       NaN        NaN         320000  \n",
       "8124           NaN    NaN       NaN       NaN        NaN         135000  \n",
       "8125           NaN    NaN       NaN       NaN        NaN         382000  \n",
       "8126           NaN    NaN       NaN       NaN        NaN         290000  \n",
       "8127           NaN    NaN       NaN       NaN        NaN         290000  \n",
       "\n",
       "[7906 rows x 12 columns]"
      ]
     },
     "execution_count": 421,
     "metadata": {},
     "output_type": "execute_result"
    }
   ],
   "source": [
    "dataset"
   ]
  },
  {
   "cell_type": "code",
   "execution_count": 422,
   "id": "e85eada2",
   "metadata": {},
   "outputs": [
    {
     "name": "stdout",
     "output_type": "stream",
     "text": [
      "(5270, 12)\n",
      "(5270, 1)\n",
      "(2636, 12)\n",
      "(2636,)\n",
      "[1.         0.         0.         0.76923077 0.06164021 0.\n",
      " 0.         0.         0.         0.51957289 0.20939597 0.11220044]\n"
     ]
    }
   ],
   "source": [
    "x_train = np.array(dataset.iloc[:int(len(dataset)*(2/3)),:-1])\n",
    "y_train = np.array(dataset.iloc[:int(len(dataset)*(2/3)),-1])\n",
    "y_train = y_train.reshape(y_train.shape[0], 1)\n",
    "\n",
    "x_test = dataset.iloc[int(len(dataset)*(2/3)):,:-1]\n",
    "y_test = np.array(dataset.iloc[int(len(dataset)*(2/3)):,-1])\n",
    "\n",
    "x_train = np.append(np.ones((x_train.shape[0], 1)), x_train, axis = 1)\n",
    "x_test = np.append(np.ones((x_test.shape[0], 1)), x_test, axis = 1)\n",
    "\n",
    "print(x_train.shape)\n",
    "print(y_train.shape)\n",
    "print(x_test.shape)\n",
    "print(y_test.shape)\n",
    "print(x_train[0])"
   ]
  },
  {
   "cell_type": "code",
   "execution_count": 423,
   "id": "3e65fd4a",
   "metadata": {},
   "outputs": [],
   "source": [
    "alpha = 0.001\n",
    "num_of_iterations = 1000\n",
    "m = int(x_train.shape[0])"
   ]
  },
  {
   "cell_type": "code",
   "execution_count": 424,
   "id": "b900a931",
   "metadata": {},
   "outputs": [],
   "source": [
    "def Predictive_Line(X, Theta):\n",
    "    Predictions = None\n",
    "    Predictions = np.dot(X, Theta)\n",
    "    return Predictions"
   ]
  },
  {
   "cell_type": "code",
   "execution_count": 425,
   "id": "65fbf0c9",
   "metadata": {},
   "outputs": [],
   "source": [
    "def Calculate_Cost(X, Theta, Y, m):\n",
    "    J = 0\n",
    "    P = Predictive_Line(X, Theta)\n",
    "    J = ((1/(2 * m)) * np.sum(np.square(P - Y), axis = 0))\n",
    "    return J"
   ]
  },
  {
   "cell_type": "code",
   "execution_count": 426,
   "id": "143219f6",
   "metadata": {},
   "outputs": [],
   "source": [
    "def Gradient_Descent(X, Y, Theta, alpha, num_iters, m):\n",
    "    for i in range(num_iters):\n",
    "        P = Predictive_Line(X, Theta)\n",
    "        Theta = Theta - (alpha / m) * (((P - Y).T).dot(X)).T\n",
    "    return Theta"
   ]
  },
  {
   "cell_type": "code",
   "execution_count": 427,
   "id": "775750a4",
   "metadata": {},
   "outputs": [
    {
     "name": "stdout",
     "output_type": "stream",
     "text": [
      "[[285638.52582902]\n",
      " [ 45372.00591938]\n",
      " [ 58364.25666034]\n",
      " [219698.10388065]\n",
      " [  8022.42929424]\n",
      " [ 45673.05757856]\n",
      " [ 45291.77309323]\n",
      " [ 49589.25419516]\n",
      " [ 29712.66316545]\n",
      " [122217.61516362]\n",
      " [ 82950.14776836]\n",
      " [ 47788.98237995]]\n",
      "[3.65537333e+11]\n",
      "[[603610.29076919]\n",
      " [601283.76860262]\n",
      " [538029.96226414]\n",
      " ...\n",
      " [            nan]\n",
      " [            nan]\n",
      " [            nan]]\n"
     ]
    }
   ],
   "source": [
    "Theta = []\n",
    "for i in range(0, x_train.shape[1]):\n",
    "  Theta.append(0)\n",
    "\n",
    "Theta = np.array(Theta).reshape((x_train.shape[1], 1)) # shape of theta is (n,1)\n",
    "\n",
    "Theta = Gradient_Descent(x_train, y_train, Theta, alpha, num_of_iterations, m)\n",
    "\n",
    "Cost = Calculate_Cost(x_train, Theta, y_train, m)\n",
    "\n",
    "y_test = Predictive_Line(x_test, Theta)\n",
    "\n",
    "print(Theta)\n",
    "\n",
    "print(Cost)\n",
    "\n",
    "print(y_test)"
   ]
  },
  {
   "cell_type": "code",
   "execution_count": null,
   "id": "4d669051",
   "metadata": {},
   "outputs": [],
   "source": []
  }
 ],
 "metadata": {
  "colab": {
   "collapsed_sections": [
    "dad0be66",
    "712f6e55",
    "16ec0513",
    "9e67861f",
    "aba8c4d3",
    "6e6ee86e",
    "6b9a3612",
    "cd5900b3",
    "dce492e9",
    "5d36c444",
    "93214e46",
    "5a4ba75e",
    "c6b66c17",
    "dcc46f66",
    "ZfTo7_t8O3Qd",
    "aa25f14e",
    "e034a825",
    "lV46sHwiriRk"
   ],
   "name": "Used Cars’ Price Prediction.ipynb",
   "provenance": []
  },
  "kernelspec": {
   "display_name": "Python 3",
   "language": "python",
   "name": "python3"
  },
  "language_info": {
   "codemirror_mode": {
    "name": "ipython",
    "version": 3
   },
   "file_extension": ".py",
   "mimetype": "text/x-python",
   "name": "python",
   "nbconvert_exporter": "python",
   "pygments_lexer": "ipython3",
   "version": "3.7.3"
  }
 },
 "nbformat": 4,
 "nbformat_minor": 5
}
